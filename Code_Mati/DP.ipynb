{
 "cells": [
  {
   "cell_type": "code",
   "execution_count": 2,
   "metadata": {},
   "outputs": [],
   "source": [
    "import numpy as np"
   ]
  },
  {
   "cell_type": "markdown",
   "metadata": {},
   "source": [
    "# Datos"
   ]
  },
  {
   "cell_type": "code",
   "execution_count": 3,
   "metadata": {},
   "outputs": [],
   "source": [
    "#next period stats Probabilities\n",
    "m_prob=np.array([[0.7,0.3,0,0],\n",
    "                [0,0.7,0.3,0],\n",
    "                [0,0,0.6,0.4],\n",
    "                [0,0,0,1]]\n",
    "                )\n",
    "#Reveneus por estados\n",
    "states_reveneus=np.array([100,80,50,10])\n",
    "c=-100"
   ]
  },
  {
   "cell_type": "markdown",
   "metadata": {},
   "source": [
    "# Value Determination Equations"
   ]
  },
  {
   "cell_type": "code",
   "execution_count": 4,
   "metadata": {},
   "outputs": [],
   "source": [
    "#funcion para obtener el valor de la ecuaciones\n",
    "def Value_Determination_Equations(decisions,prob,descuento,costo,revenues):\n",
    "    L=len(decisions)\n",
    "    aux=np.zeros([L,L])\n",
    "    B=np.zeros(L)\n",
    "    for i in range(L):\n",
    "        if decisions[i]:\n",
    "            aux[i]=prob[0]\n",
    "            B[i]=costo\n",
    "        else:\n",
    "            aux[i]=prob[i]\n",
    "            B[i]=revenues[i]\n",
    "    A = np.identity(L)-(descuento*aux)\n",
    "    X = np.linalg.solve(A,B)\n",
    "    return X\n",
    "    "
   ]
  },
  {
   "cell_type": "code",
   "execution_count": 5,
   "metadata": {},
   "outputs": [
    {
     "data": {
      "text/plain": [
       "array([690.23141846, 575.50231418, 492.35502314, 490.23141846])"
      ]
     },
     "execution_count": 5,
     "metadata": {},
     "output_type": "execute_result"
    }
   ],
   "source": [
    "D=np.array([0,0,0,1])\n",
    "\n",
    "Value_Determination_Equations(D,m_prob,0.9,c,states_reveneus)"
   ]
  },
  {
   "cell_type": "code",
   "execution_count": 6,
   "metadata": {
    "scrolled": false
   },
   "outputs": [
    {
     "data": {
      "text/plain": [
       "array([687.8125, 572.1875, 487.8125, 487.8125])"
      ]
     },
     "execution_count": 6,
     "metadata": {},
     "output_type": "execute_result"
    }
   ],
   "source": [
    "D=np.array([0,0,1,1])\n",
    "\n",
    "Value_Determination_Equations(D,m_prob,0.9,c,states_reveneus)"
   ]
  },
  {
   "cell_type": "markdown",
   "metadata": {},
   "source": [
    "# Howard’s Policy Iteration Method"
   ]
  },
  {
   "cell_type": "code",
   "execution_count": 10,
   "metadata": {},
   "outputs": [],
   "source": [
    "D=np.array([0,0,1,1])\n",
    "V_D_E=Value_Determination_Equations(D,m_prob,0.9,c,states_reveneus)\n",
    "\n",
    "\n",
    "def T_delta(prob,values,descuento,costo,revenues):\n",
    "    L=len(values)\n",
    "    T=np.zeros(L)\n",
    "    #aux_1 siempre igual\n",
    "    aux_1=costo+(descuento*sum(prob[0]*values))\n",
    "    for i in range(L):\n",
    "        aux_2=revenues[i]+(descuento*sum(prob[i]*values))\n",
    "        T[i]=max(aux_1,aux_2)\n",
    "    return T\n",
    "        \n",
    "        "
   ]
  },
  {
   "cell_type": "code",
   "execution_count": 11,
   "metadata": {},
   "outputs": [],
   "source": [
    "Los_T=T_delta(m_prob,V_D_E,0.9,c,states_reveneus)"
   ]
  },
  {
   "cell_type": "code",
   "execution_count": 12,
   "metadata": {},
   "outputs": [
    {
     "data": {
      "text/plain": [
       "array([ True,  True, False,  True])"
      ]
     },
     "execution_count": 12,
     "metadata": {},
     "output_type": "execute_result"
    }
   ],
   "source": [
    "#Los_T == V_D_E\n",
    "np.around(Los_T,4)==np.around(V_D_E,4)"
   ]
  },
  {
   "cell_type": "code",
   "execution_count": 14,
   "metadata": {},
   "outputs": [
    {
     "data": {
      "text/plain": [
       "array([ True,  True, False,  True])"
      ]
     },
     "execution_count": 14,
     "metadata": {},
     "output_type": "execute_result"
    }
   ],
   "source": [
    "val_Op=np.around(Los_T,4)==np.around(V_D_E,4)\n",
    "val_Op"
   ]
  },
  {
   "cell_type": "code",
   "execution_count": 16,
   "metadata": {},
   "outputs": [
    {
     "data": {
      "text/plain": [
       "4"
      ]
     },
     "execution_count": 16,
     "metadata": {},
     "output_type": "execute_result"
    }
   ],
   "source": [
    "sum(val_Op)\n",
    "len(val_Op)"
   ]
  },
  {
   "cell_type": "code",
   "execution_count": 26,
   "metadata": {},
   "outputs": [],
   "source": [
    "def Search_OP(decisions,prob,descuento,costo,revenues):\n",
    "    print('recurción')\n",
    "    #(D,m_prob,descuento,c,states_reveneus)\n",
    "    V_D_E = Value_Determination_Equations(decisions,prob,descuento,costo,revenues)\n",
    "    Los_T=T_delta(prob,V_D_E,descuento,costo,revenues)\n",
    "    val_Op=np.around(Los_T,4)==np.around(V_D_E,4)\n",
    "    if(sum(val_Op)==len(val_Op)):\n",
    "        return(decisions)\n",
    "    else:\n",
    "        for i in range(len(val_Op)):\n",
    "            if (val_Op[i]!=True):\n",
    "                if(decisions[i]==1):\n",
    "                    decisions[i]=0\n",
    "                else:\n",
    "                    decisions[i]=1\n",
    "        #For\n",
    "        return(Search_OP(decisions,prob,descuento,costo,revenues))"
   ]
  },
  {
   "cell_type": "code",
   "execution_count": 29,
   "metadata": {},
   "outputs": [
    {
     "name": "stdout",
     "output_type": "stream",
     "text": [
      "recurción\n",
      "recurción\n",
      "recurción\n",
      "recurción\n"
     ]
    }
   ],
   "source": [
    "D=np.array([1,1,1,1])\n",
    "D_optimo=Search_OP(D,m_prob,0.9,c,states_reveneus)"
   ]
  },
  {
   "cell_type": "code",
   "execution_count": 30,
   "metadata": {},
   "outputs": [
    {
     "data": {
      "text/plain": [
       "array([0, 0, 0, 1])"
      ]
     },
     "execution_count": 30,
     "metadata": {},
     "output_type": "execute_result"
    }
   ],
   "source": [
    "D_optimo"
   ]
  }
 ],
 "metadata": {
  "kernelspec": {
   "display_name": "Python 3",
   "language": "python",
   "name": "python3"
  },
  "language_info": {
   "codemirror_mode": {
    "name": "ipython",
    "version": 3
   },
   "file_extension": ".py",
   "mimetype": "text/x-python",
   "name": "python",
   "nbconvert_exporter": "python",
   "pygments_lexer": "ipython3",
   "version": "3.7.7"
  }
 },
 "nbformat": 4,
 "nbformat_minor": 4
}
