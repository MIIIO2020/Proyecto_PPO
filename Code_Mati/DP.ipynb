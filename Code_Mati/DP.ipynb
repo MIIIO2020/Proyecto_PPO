{
 "cells": [
  {
   "cell_type": "code",
   "execution_count": 1,
   "metadata": {},
   "outputs": [],
   "source": [
    "import numpy as np"
   ]
  },
  {
   "cell_type": "markdown",
   "metadata": {},
   "source": [
    "# Datos"
   ]
  },
  {
   "cell_type": "code",
   "execution_count": 2,
   "metadata": {},
   "outputs": [],
   "source": [
    "#next period stats Probabilities\n",
    "m_prob=np.array([[0.7,0.3,0,0],\n",
    "                [0,0.7,0.3,0],\n",
    "                [0,0,0.6,0.4],\n",
    "                [0,0,0,1]]\n",
    "                )\n",
    "#Reveneus por estados\n",
    "states_reveneus=np.array([100,80,50,10])\n",
    "c=-100"
   ]
  },
  {
   "cell_type": "markdown",
   "metadata": {},
   "source": [
    "# Value Determination Equations"
   ]
  },
  {
   "cell_type": "code",
   "execution_count": 10,
   "metadata": {},
   "outputs": [],
   "source": [
    "#funcion para obtener el valor de la ecuaciones\n",
    "def Value_Determination_Equations(decisions,prob,descuento,costo,revenues):\n",
    "    L=len(decisions)\n",
    "    aux=np.zeros([L,L])\n",
    "    B=np.zeros(L)\n",
    "    for i in range(L):\n",
    "        if decisions[i]:\n",
    "            aux[i]=prob[0]\n",
    "            B[i]=costo\n",
    "        else:\n",
    "            aux[i]=prob[i]\n",
    "            B[i]=revenues[i]\n",
    "    A = np.identity(L)-(descuento*aux)\n",
    "    X = np.linalg.solve(A,B)\n",
    "    return X\n",
    "    "
   ]
  },
  {
   "cell_type": "code",
   "execution_count": 11,
   "metadata": {},
   "outputs": [
    {
     "data": {
      "text/plain": [
       "array([690.23141846, 575.50231418, 492.35502314, 490.23141846])"
      ]
     },
     "execution_count": 11,
     "metadata": {},
     "output_type": "execute_result"
    }
   ],
   "source": [
    "D=np.array([0,0,0,1])\n",
    "\n",
    "Value_Determination_Equations(D,m_prob,0.9,c,states_reveneus)"
   ]
  },
  {
   "cell_type": "code",
   "execution_count": 12,
   "metadata": {
    "scrolled": false
   },
   "outputs": [
    {
     "data": {
      "text/plain": [
       "array([687.8125, 572.1875, 487.8125, 487.8125])"
      ]
     },
     "execution_count": 12,
     "metadata": {},
     "output_type": "execute_result"
    }
   ],
   "source": [
    "D=np.array([0,0,1,1])\n",
    "\n",
    "Value_Determination_Equations(D,m_prob,0.9,c,states_reveneus)"
   ]
  },
  {
   "cell_type": "markdown",
   "metadata": {},
   "source": [
    "# Howard’s Policy Iteration Method"
   ]
  },
  {
   "cell_type": "code",
   "execution_count": 6,
   "metadata": {},
   "outputs": [
    {
     "data": {
      "text/plain": [
       "4"
      ]
     },
     "execution_count": 6,
     "metadata": {},
     "output_type": "execute_result"
    }
   ],
   "source": [
    "D=np.array([0,0,1,1])\n",
    "V_D_E=Value_Determination_Equations(D,m_prob,0.9,c,states_reveneus)\n",
    "\n",
    "def T_delta(prob,values,descuento,costo,revenues):\n",
    "    L=len(values)\n",
    "    T=np.zeros(L)\n",
    "    #aux_1 siempre igual\n",
    "    aux_1=costo+(descuento*())\n",
    "    for i in range(L):\n",
    "        aux_2=reveneus[i]+(descuento*(prob[i]*values))\n",
    "        \n",
    "        "
   ]
  },
  {
   "cell_type": "code",
   "execution_count": 14,
   "metadata": {},
   "outputs": [
    {
     "data": {
      "text/plain": [
       "array([  0.    ,   0.    , 292.6875, 195.125 ])"
      ]
     },
     "execution_count": 14,
     "metadata": {},
     "output_type": "execute_result"
    }
   ],
   "source": [
    "m_prob[2]*V_D_E"
   ]
  },
  {
   "cell_type": "code",
   "execution_count": 15,
   "metadata": {},
   "outputs": [
    {
     "data": {
      "text/plain": [
       "537.8125000000005"
      ]
     },
     "execution_count": 15,
     "metadata": {},
     "output_type": "execute_result"
    }
   ],
   "source": [
    "sum(m_prob[2]*V_D_E)+50"
   ]
  },
  {
   "cell_type": "code",
   "execution_count": null,
   "metadata": {},
   "outputs": [],
   "source": []
  },
  {
   "cell_type": "code",
   "execution_count": null,
   "metadata": {},
   "outputs": [],
   "source": []
  },
  {
   "cell_type": "code",
   "execution_count": null,
   "metadata": {},
   "outputs": [],
   "source": []
  },
  {
   "cell_type": "code",
   "execution_count": null,
   "metadata": {},
   "outputs": [],
   "source": []
  },
  {
   "cell_type": "code",
   "execution_count": null,
   "metadata": {},
   "outputs": [],
   "source": []
  },
  {
   "cell_type": "code",
   "execution_count": null,
   "metadata": {},
   "outputs": [],
   "source": []
  },
  {
   "cell_type": "code",
   "execution_count": null,
   "metadata": {},
   "outputs": [],
   "source": []
  },
  {
   "cell_type": "code",
   "execution_count": null,
   "metadata": {},
   "outputs": [],
   "source": []
  },
  {
   "cell_type": "code",
   "execution_count": null,
   "metadata": {},
   "outputs": [],
   "source": []
  },
  {
   "cell_type": "code",
   "execution_count": null,
   "metadata": {},
   "outputs": [],
   "source": []
  },
  {
   "cell_type": "code",
   "execution_count": null,
   "metadata": {},
   "outputs": [],
   "source": []
  }
 ],
 "metadata": {
  "kernelspec": {
   "display_name": "Python 3",
   "language": "python",
   "name": "python3"
  },
  "language_info": {
   "codemirror_mode": {
    "name": "ipython",
    "version": 3
   },
   "file_extension": ".py",
   "mimetype": "text/x-python",
   "name": "python",
   "nbconvert_exporter": "python",
   "pygments_lexer": "ipython3",
   "version": "3.7.7"
  }
 },
 "nbformat": 4,
 "nbformat_minor": 4
}
