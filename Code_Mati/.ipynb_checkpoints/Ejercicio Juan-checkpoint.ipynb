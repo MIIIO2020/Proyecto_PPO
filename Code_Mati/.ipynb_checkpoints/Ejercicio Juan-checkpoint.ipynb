{
 "cells": [
  {
   "cell_type": "markdown",
   "metadata": {},
   "source": [
    "# Ejemplo\n",
    "Juan vende cervezas artesanales de Lunes a Viernes. Las compra por 300 pesos y vende por 1.500 pesos cada una\n",
    "Juan maneja su inventario de forma semanal, de la siguiente manera:\n",
    "* Juan parte la semana con una cantidad de cervezas en inventario, y vende lascervezas durante la semana.\n",
    "    \n",
    "* Si un cliente quiere comprar una cerveza pero no hay disponible, Juan consideraque pierde 300 pesos por cada cerveza no vendida por falta de clientes.\n",
    "    \n",
    "* Juan vende entre 10 y 40 cervezas por semana.\n",
    "    \n",
    "* El Viernes al final del día Juan hace la contabilidad de costos, y cuenta cuantas unidades tiene en inventario. Según su nivel de inventario, tiene que tomar una decisión.\n",
    "    \n",
    "    * Compra lo suficiente para llenar su frigobar, que tiene una capacidad de S unidades.\n",
    "    * No hacer ningún pedido esta semana.\n",
    "* El pedido llega el Lunes en la mañana.\n",
    "* S=50\n",
    "\n",
    "## ¿Ayude a decidir a Juan cuando comprar, según el inventario que tenga?"
   ]
  },
  {
   "cell_type": "code",
   "execution_count": 1,
   "metadata": {},
   "outputs": [],
   "source": [
    "import numpy as np\n",
    "from numpy import random\n",
    "import collections"
   ]
  },
  {
   "cell_type": "code",
   "execution_count": 2,
   "metadata": {},
   "outputs": [],
   "source": [
    "# Información problema\n",
    "S=50 #capacidad max y tamaño de lote\n",
    "a=30 #Demanda minima\n",
    "b=40 #Demanda maxima\n",
    "cost=300#precio cerveza y costo perdida clientes\n",
    "price=1500\n"
   ]
  },
  {
   "cell_type": "markdown",
   "metadata": {},
   "source": [
    "#### Generó las demandas"
   ]
  },
  {
   "cell_type": "code",
   "execution_count": 20,
   "metadata": {},
   "outputs": [
    {
     "name": "stdout",
     "output_type": "stream",
     "text": [
      "[39 34 30 31 39 30 31 38 39 30 38 36 34 33 30 34 36 38 31 38]\n"
     ]
    }
   ],
   "source": [
    "random.seed(10)\n",
    "#random.randint(a, b)\n",
    "x=random.randint(a,b, size=(20))\n",
    "print(x)"
   ]
  },
  {
   "cell_type": "code",
   "execution_count": 23,
   "metadata": {},
   "outputs": [
    {
     "data": {
      "text/plain": [
       "[30, 31, 32, 33, 34, 35, 36, 37, 38, 39, 40]"
      ]
     },
     "execution_count": 23,
     "metadata": {},
     "output_type": "execute_result"
    }
   ],
   "source": [
    "Invet_i=[i for i in range(a,b+1)]\n",
    "Invet_i"
   ]
  },
  {
   "cell_type": "code",
   "execution_count": 27,
   "metadata": {},
   "outputs": [
    {
     "data": {
      "text/plain": [
       "Counter({39: 3, 34: 3, 30: 4, 31: 3, 38: 4, 36: 2, 33: 1})"
      ]
     },
     "execution_count": 27,
     "metadata": {},
     "output_type": "execute_result"
    }
   ],
   "source": [
    "#https://www.tutorialspoint.com/count-frequencies-of-all-elements-in-array-in-python\n",
    "elements_count = collections.Counter(x)\n",
    "elements_count"
   ]
  },
  {
   "cell_type": "code",
   "execution_count": 33,
   "metadata": {},
   "outputs": [
    {
     "data": {
      "text/plain": [
       "0.15"
      ]
     },
     "execution_count": 33,
     "metadata": {},
     "output_type": "execute_result"
    }
   ],
   "source": [
    "j=39\n",
    "elements_count[j]/20"
   ]
  },
  {
   "cell_type": "markdown",
   "metadata": {},
   "source": [
    "### Comiezo a generar mi matriz de probaibilidades\n",
    "Esta matriz se estructura de la siguiente forma\n",
    "\n",
    "    Prob[i][j]: es la probailidad de que el inventario i pase al nivel de inventario j en el siguente periodo\n"
   ]
  },
  {
   "cell_type": "code",
   "execution_count": 19,
   "metadata": {},
   "outputs": [],
   "source": [
    " prob=[[0 for i in range(5)] for j in range(5)]\n",
    "S=5\n",
    "prob =np.zeros([S+1,S+1])"
   ]
  },
  {
   "cell_type": "code",
   "execution_count": 18,
   "metadata": {
    "scrolled": true
   },
   "outputs": [
    {
     "data": {
      "text/plain": [
       "array([[0., 0., 0., 0., 0., 0.],\n",
       "       [0., 0., 0., 0., 0., 0.],\n",
       "       [0., 0., 0., 0., 0., 0.],\n",
       "       [0., 0., 0., 0., 0., 0.],\n",
       "       [0., 0., 0., 0., 0., 0.],\n",
       "       [0., 1., 0., 0., 0., 1.]])"
      ]
     },
     "execution_count": 18,
     "metadata": {},
     "output_type": "execute_result"
    }
   ],
   "source": [
    "prob#[5][5]=1"
   ]
  },
  {
   "cell_type": "code",
   "execution_count": 28,
   "metadata": {},
   "outputs": [
    {
     "data": {
      "text/plain": [
       "Counter({5: 30, 2: 31, 1: 41, 4: 34, 0: 31, 3: 33})"
      ]
     },
     "execution_count": 28,
     "metadata": {},
     "output_type": "execute_result"
    }
   ],
   "source": [
    "total=200\n",
    "x=random.randint(0,5+1, size=(total))\n",
    "x\n",
    "elements_count = collections.Counter(x)\n",
    "elements_count"
   ]
  },
  {
   "cell_type": "code",
   "execution_count": 29,
   "metadata": {
    "collapsed": true
   },
   "outputs": [
    {
     "name": "stdout",
     "output_type": "stream",
     "text": [
      "0\n",
      "1\n",
      "2\n",
      "3\n",
      "4\n",
      "5\n"
     ]
    }
   ],
   "source": [
    "for i in range(S+1):\n",
    "    print(i)\n",
    "    for j in range(S+1):\n",
    "        dem=i-j\n",
    "        if(S>=dem>=0):\n",
    "           prob[i][j] =elements_count[dem]/total\n",
    "    "
   ]
  },
  {
   "cell_type": "code",
   "execution_count": 30,
   "metadata": {
    "collapsed": true
   },
   "outputs": [
    {
     "data": {
      "text/plain": [
       "array([[0.155, 0.   , 0.   , 0.   , 0.   , 0.   ],\n",
       "       [0.205, 0.155, 0.   , 0.   , 0.   , 0.   ],\n",
       "       [0.155, 0.205, 0.155, 0.   , 0.   , 0.   ],\n",
       "       [0.165, 0.155, 0.205, 0.155, 0.   , 0.   ],\n",
       "       [0.17 , 0.165, 0.155, 0.205, 0.155, 0.   ],\n",
       "       [0.15 , 0.17 , 0.165, 0.155, 0.205, 0.155]])"
      ]
     },
     "execution_count": 30,
     "metadata": {},
     "output_type": "execute_result"
    }
   ],
   "source": [
    "prob"
   ]
  },
  {
   "cell_type": "markdown",
   "metadata": {},
   "source": [
    "### primera idea\n",
    "Esta matriz de probabilidades no sirve para calcular el rebenue esperado, porque no representa la demanda cuando sobrepasa el nivel de stock\n",
    "\n",
    "Para almacenar el expected reward, se utilizará al siguiente estructura:\n",
    "\n",
    "    reward[i][d]:= el expected reward de tomar la decisión d ante un nivel de inventario i.\n",
    "    \n",
    "tomando en cuenta que d, puede tener valores de 0 o 1., sea 0 no realizar la compra y 1 realizar la compra de inventario.\n",
    "\n",
    "## Esta idea es mejor\n",
    "tomando en cuenta que realizar la compra en el periodo t, donde el nivel de inventarios es de i, no afectaria al expected reward del mismo periodo t, ya que la compra afecta al nivel de inventarios del perido siguente. Es por esto que la desición no afecta al expected reward del mismo periodo en donde se toma.\n",
    "\n",
    "Es por ello que para almacenar el expected reward, se utilizará al siguiente estructura:\n",
    "    \n",
    "    reward[i]:= el expected reward ante un nivel de inventario i.\n"
   ]
  },
  {
   "cell_type": "code",
   "execution_count": 34,
   "metadata": {
    "scrolled": true
   },
   "outputs": [
    {
     "name": "stdout",
     "output_type": "stream",
     "text": [
      "-732.0\n",
      "789.0\n",
      "1941.0\n",
      "2814.0\n",
      "3390.0\n",
      "3660.0\n"
     ]
    }
   ],
   "source": [
    "a=0\n",
    "b=5\n",
    "reward=np.zeros(S+1)\n",
    "for i in range(S+1):\n",
    "    r=0\n",
    "    for dem in range(a,b+1):\n",
    "        p=elements_count[dem]/total\n",
    "        r_dem=price*min(dem,i)\n",
    "        if(dem>i):\n",
    "            r_dem+=-cost*(dem-i)\n",
    "        r+= p*(r_dem)\n",
    "    print(r)\n",
    "    reward[i]=r"
   ]
  },
  {
   "cell_type": "code",
   "execution_count": null,
   "metadata": {},
   "outputs": [],
   "source": []
  }
 ],
 "metadata": {
  "kernelspec": {
   "display_name": "Python 3",
   "language": "python",
   "name": "python3"
  },
  "language_info": {
   "codemirror_mode": {
    "name": "ipython",
    "version": 3
   },
   "file_extension": ".py",
   "mimetype": "text/x-python",
   "name": "python",
   "nbconvert_exporter": "python",
   "pygments_lexer": "ipython3",
   "version": "3.6.8"
  }
 },
 "nbformat": 4,
 "nbformat_minor": 2
}
