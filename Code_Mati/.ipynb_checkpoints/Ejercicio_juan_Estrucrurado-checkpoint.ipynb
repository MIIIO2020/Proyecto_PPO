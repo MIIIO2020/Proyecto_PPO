{
 "cells": [
  {
   "cell_type": "markdown",
   "metadata": {},
   "source": [
    "# Ejemplo(Falta agregar un costo de almacenamiento)\n",
    "Juan vende cervezas artesanales de Lunes a Viernes. Las compra por 300 pesos y vende por 1.500 pesos cada una\n",
    "Juan maneja su inventario de forma semanal, de la siguiente manera:\n",
    "* Juan parte la semana con una cantidad de cervezas en inventario, y vende lascervezas durante la semana.\n",
    "    \n",
    "* Si un cliente quiere comprar una cerveza pero no hay disponible, Juan consideraque pierde 300 pesos por cada cerveza no vendida por falta de clientes.\n",
    "    \n",
    "* Juan vende entre 10 y 40 cervezas por semana.\n",
    "    \n",
    "* El Viernes al final del día Juan hace la contabilidad de costos, y cuenta cuantas unidades tiene en inventario. Según su nivel de inventario, tiene que tomar una decisión.\n",
    "    \n",
    "    * Compra lo suficiente para llenar su frigobar, que tiene una capacidad de S unidades.\n",
    "    * No hacer ningún pedido esta semana.\n",
    "* El pedido llega el Lunes en la mañana.\n",
    "* S=50\n",
    "\n",
    "## ¿Ayude a decidir a Juan cuando comprar, según el inventario que tenga?"
   ]
  },
  {
   "cell_type": "code",
   "execution_count": 1,
   "metadata": {},
   "outputs": [],
   "source": [
    "import numpy as np\n",
    "from numpy import random\n",
    "import collections"
   ]
  },
  {
   "cell_type": "code",
   "execution_count": 2,
   "metadata": {},
   "outputs": [],
   "source": [
    "# Información problema\n",
    "S=500#20#0 #capacidad max y tamaño de lote\n",
    "a=100#0#3#0 #Demanda minima\n",
    "b=400#15#0 #Demanda maxima\n",
    "cost=300#precio cerveza y costo perdida clientes\n",
    "price=1500\n"
   ]
  },
  {
   "cell_type": "markdown",
   "metadata": {},
   "source": [
    "#### Generó las demandas"
   ]
  },
  {
   "cell_type": "code",
   "execution_count": 5,
   "metadata": {},
   "outputs": [
    {
     "data": {
      "text/plain": [
       "Counter({365: 138,\n",
       "         225: 152,\n",
       "         115: 169,\n",
       "         223: 177,\n",
       "         256: 181,\n",
       "         321: 170,\n",
       "         108: 175,\n",
       "         173: 171,\n",
       "         356: 160,\n",
       "         140: 149,\n",
       "         116: 141,\n",
       "         339: 188,\n",
       "         154: 193,\n",
       "         222: 181,\n",
       "         162: 185,\n",
       "         133: 145,\n",
       "         300: 182,\n",
       "         277: 161,\n",
       "         279: 170,\n",
       "         177: 154,\n",
       "         113: 175,\n",
       "         343: 162,\n",
       "         241: 175,\n",
       "         386: 164,\n",
       "         258: 174,\n",
       "         189: 171,\n",
       "         240: 184,\n",
       "         131: 171,\n",
       "         392: 177,\n",
       "         383: 178,\n",
       "         118: 155,\n",
       "         193: 163,\n",
       "         194: 146,\n",
       "         348: 168,\n",
       "         174: 176,\n",
       "         316: 171,\n",
       "         218: 174,\n",
       "         171: 157,\n",
       "         245: 145,\n",
       "         235: 193,\n",
       "         303: 162,\n",
       "         384: 169,\n",
       "         389: 175,\n",
       "         350: 153,\n",
       "         144: 159,\n",
       "         233: 182,\n",
       "         104: 182,\n",
       "         282: 167,\n",
       "         390: 150,\n",
       "         371: 171,\n",
       "         243: 146,\n",
       "         234: 152,\n",
       "         346: 153,\n",
       "         185: 154,\n",
       "         334: 177,\n",
       "         250: 172,\n",
       "         111: 190,\n",
       "         212: 172,\n",
       "         368: 188,\n",
       "         320: 183,\n",
       "         285: 159,\n",
       "         179: 168,\n",
       "         332: 176,\n",
       "         142: 144,\n",
       "         337: 172,\n",
       "         335: 157,\n",
       "         145: 180,\n",
       "         301: 172,\n",
       "         265: 160,\n",
       "         228: 174,\n",
       "         123: 158,\n",
       "         103: 191,\n",
       "         385: 159,\n",
       "         372: 154,\n",
       "         114: 163,\n",
       "         151: 159,\n",
       "         373: 168,\n",
       "         278: 190,\n",
       "         153: 148,\n",
       "         333: 169,\n",
       "         141: 154,\n",
       "         190: 145,\n",
       "         309: 182,\n",
       "         244: 174,\n",
       "         259: 187,\n",
       "         344: 164,\n",
       "         354: 149,\n",
       "         122: 180,\n",
       "         196: 162,\n",
       "         167: 159,\n",
       "         195: 171,\n",
       "         182: 189,\n",
       "         148: 151,\n",
       "         215: 169,\n",
       "         367: 171,\n",
       "         271: 173,\n",
       "         324: 165,\n",
       "         329: 159,\n",
       "         268: 144,\n",
       "         236: 167,\n",
       "         313: 171,\n",
       "         355: 152,\n",
       "         130: 162,\n",
       "         253: 157,\n",
       "         306: 172,\n",
       "         269: 167,\n",
       "         315: 169,\n",
       "         128: 155,\n",
       "         139: 178,\n",
       "         203: 170,\n",
       "         363: 161,\n",
       "         132: 165,\n",
       "         359: 191,\n",
       "         109: 176,\n",
       "         280: 153,\n",
       "         296: 167,\n",
       "         237: 183,\n",
       "         358: 183,\n",
       "         398: 166,\n",
       "         262: 173,\n",
       "         146: 156,\n",
       "         186: 162,\n",
       "         286: 162,\n",
       "         305: 170,\n",
       "         183: 173,\n",
       "         155: 170,\n",
       "         400: 164,\n",
       "         100: 164,\n",
       "         370: 175,\n",
       "         217: 175,\n",
       "         351: 174,\n",
       "         394: 166,\n",
       "         149: 177,\n",
       "         227: 164,\n",
       "         121: 169,\n",
       "         304: 169,\n",
       "         248: 176,\n",
       "         105: 157,\n",
       "         347: 178,\n",
       "         298: 168,\n",
       "         289: 159,\n",
       "         302: 168,\n",
       "         232: 166,\n",
       "         375: 173,\n",
       "         391: 163,\n",
       "         220: 151,\n",
       "         119: 166,\n",
       "         397: 145,\n",
       "         136: 165,\n",
       "         388: 165,\n",
       "         204: 155,\n",
       "         369: 172,\n",
       "         307: 152,\n",
       "         287: 186,\n",
       "         120: 164,\n",
       "         224: 193,\n",
       "         381: 203,\n",
       "         163: 163,\n",
       "         117: 149,\n",
       "         129: 164,\n",
       "         206: 163,\n",
       "         299: 170,\n",
       "         187: 181,\n",
       "         308: 162,\n",
       "         102: 168,\n",
       "         158: 150,\n",
       "         238: 161,\n",
       "         319: 161,\n",
       "         270: 152,\n",
       "         138: 172,\n",
       "         255: 194,\n",
       "         213: 167,\n",
       "         247: 168,\n",
       "         325: 165,\n",
       "         175: 177,\n",
       "         387: 164,\n",
       "         201: 163,\n",
       "         312: 152,\n",
       "         249: 153,\n",
       "         327: 196,\n",
       "         274: 170,\n",
       "         230: 182,\n",
       "         326: 192,\n",
       "         166: 144,\n",
       "         137: 187,\n",
       "         125: 166,\n",
       "         199: 181,\n",
       "         284: 187,\n",
       "         126: 166,\n",
       "         260: 175,\n",
       "         314: 159,\n",
       "         211: 188,\n",
       "         208: 149,\n",
       "         181: 161,\n",
       "         110: 195,\n",
       "         379: 160,\n",
       "         229: 170,\n",
       "         366: 179,\n",
       "         310: 152,\n",
       "         219: 165,\n",
       "         239: 175,\n",
       "         264: 188,\n",
       "         159: 179,\n",
       "         349: 174,\n",
       "         246: 172,\n",
       "         161: 181,\n",
       "         266: 158,\n",
       "         198: 149,\n",
       "         345: 182,\n",
       "         341: 151,\n",
       "         214: 156,\n",
       "         150: 180,\n",
       "         188: 150,\n",
       "         254: 169,\n",
       "         170: 165,\n",
       "         353: 159,\n",
       "         207: 160,\n",
       "         396: 165,\n",
       "         338: 174,\n",
       "         209: 160,\n",
       "         336: 163,\n",
       "         331: 160,\n",
       "         382: 173,\n",
       "         357: 169,\n",
       "         328: 173,\n",
       "         191: 156,\n",
       "         205: 169,\n",
       "         172: 172,\n",
       "         210: 166,\n",
       "         251: 161,\n",
       "         197: 176,\n",
       "         169: 180,\n",
       "         376: 173,\n",
       "         176: 182,\n",
       "         165: 156,\n",
       "         124: 161,\n",
       "         378: 166,\n",
       "         147: 153,\n",
       "         362: 156,\n",
       "         160: 149,\n",
       "         226: 155,\n",
       "         156: 141,\n",
       "         202: 174,\n",
       "         283: 144,\n",
       "         107: 165,\n",
       "         261: 186,\n",
       "         275: 153,\n",
       "         178: 184,\n",
       "         360: 157,\n",
       "         393: 165,\n",
       "         135: 160,\n",
       "         257: 150,\n",
       "         342: 162,\n",
       "         184: 148,\n",
       "         180: 152,\n",
       "         200: 156,\n",
       "         395: 170,\n",
       "         267: 131,\n",
       "         380: 175,\n",
       "         216: 181,\n",
       "         252: 159,\n",
       "         297: 160,\n",
       "         352: 178,\n",
       "         290: 139,\n",
       "         112: 163,\n",
       "         157: 183,\n",
       "         294: 183,\n",
       "         292: 160,\n",
       "         293: 160,\n",
       "         340: 152,\n",
       "         134: 151,\n",
       "         263: 167,\n",
       "         377: 151,\n",
       "         281: 167,\n",
       "         276: 156,\n",
       "         192: 163,\n",
       "         168: 150,\n",
       "         295: 170,\n",
       "         323: 166,\n",
       "         101: 174,\n",
       "         106: 160,\n",
       "         273: 172,\n",
       "         364: 153,\n",
       "         152: 155,\n",
       "         311: 165,\n",
       "         272: 153,\n",
       "         374: 159,\n",
       "         330: 162,\n",
       "         221: 151,\n",
       "         242: 153,\n",
       "         288: 154,\n",
       "         322: 157,\n",
       "         361: 172,\n",
       "         143: 151,\n",
       "         318: 167,\n",
       "         231: 174,\n",
       "         399: 150,\n",
       "         164: 175,\n",
       "         317: 144,\n",
       "         291: 168,\n",
       "         127: 140})"
      ]
     },
     "execution_count": 5,
     "metadata": {},
     "output_type": "execute_result"
    }
   ],
   "source": [
    "random.seed(10)\n",
    "total=50000\n",
    "x=random.randint(a,b+1, size=(total))\n",
    "Dem_frec = collections.Counter(x)\n",
    "Dem_frec"
   ]
  },
  {
   "cell_type": "markdown",
   "metadata": {},
   "source": [
    "### Comiezo a generar mi matriz de probaibilidades\n",
    "Esta matriz se estructura de la siguiente forma\n",
    "\n",
    "    Prob[i][j]: es la probailidad de que el inventario i pase al nivel de inventario j en el siguente periodo\n"
   ]
  },
  {
   "cell_type": "code",
   "execution_count": 6,
   "metadata": {},
   "outputs": [],
   "source": [
    "prob =np.zeros([S+1,S+1])"
   ]
  },
  {
   "cell_type": "code",
   "execution_count": 6,
   "metadata": {
    "collapsed": true
   },
   "outputs": [
    {
     "data": {
      "text/plain": [
       "array([[0., 0., 0., 0., 0., 0.],\n",
       "       [0., 0., 0., 0., 0., 0.],\n",
       "       [0., 0., 0., 0., 0., 0.],\n",
       "       [0., 0., 0., 0., 0., 0.],\n",
       "       [0., 0., 0., 0., 0., 0.],\n",
       "       [0., 0., 0., 0., 0., 0.]])"
      ]
     },
     "execution_count": 6,
     "metadata": {},
     "output_type": "execute_result"
    }
   ],
   "source": [
    "prob#[5][5]=1"
   ]
  },
  {
   "cell_type": "code",
   "execution_count": 7,
   "metadata": {},
   "outputs": [],
   "source": [
    "for i in range(S+1):\n",
    "    for j in range(S+1):\n",
    "        dem=i-j\n",
    "        if(S>=dem>=0):\n",
    "           prob[i][j] =Dem_frec[dem]/total\n",
    "    "
   ]
  },
  {
   "cell_type": "code",
   "execution_count": 46,
   "metadata": {
    "collapsed": true
   },
   "outputs": [
    {
     "data": {
      "text/plain": [
       "array([[0.095, 0.   , 0.   , 0.   , 0.   , 0.   , 0.   , 0.   , 0.   ,\n",
       "        0.   , 0.   , 0.   , 0.   , 0.   , 0.   , 0.   , 0.   , 0.   ,\n",
       "        0.   , 0.   , 0.   ],\n",
       "       [0.08 , 0.095, 0.   , 0.   , 0.   , 0.   , 0.   , 0.   , 0.   ,\n",
       "        0.   , 0.   , 0.   , 0.   , 0.   , 0.   , 0.   , 0.   , 0.   ,\n",
       "        0.   , 0.   , 0.   ],\n",
       "       [0.055, 0.08 , 0.095, 0.   , 0.   , 0.   , 0.   , 0.   , 0.   ,\n",
       "        0.   , 0.   , 0.   , 0.   , 0.   , 0.   , 0.   , 0.   , 0.   ,\n",
       "        0.   , 0.   , 0.   ],\n",
       "       [0.045, 0.055, 0.08 , 0.095, 0.   , 0.   , 0.   , 0.   , 0.   ,\n",
       "        0.   , 0.   , 0.   , 0.   , 0.   , 0.   , 0.   , 0.   , 0.   ,\n",
       "        0.   , 0.   , 0.   ],\n",
       "       [0.045, 0.045, 0.055, 0.08 , 0.095, 0.   , 0.   , 0.   , 0.   ,\n",
       "        0.   , 0.   , 0.   , 0.   , 0.   , 0.   , 0.   , 0.   , 0.   ,\n",
       "        0.   , 0.   , 0.   ],\n",
       "       [0.045, 0.045, 0.045, 0.055, 0.08 , 0.095, 0.   , 0.   , 0.   ,\n",
       "        0.   , 0.   , 0.   , 0.   , 0.   , 0.   , 0.   , 0.   , 0.   ,\n",
       "        0.   , 0.   , 0.   ],\n",
       "       [0.075, 0.045, 0.045, 0.045, 0.055, 0.08 , 0.095, 0.   , 0.   ,\n",
       "        0.   , 0.   , 0.   , 0.   , 0.   , 0.   , 0.   , 0.   , 0.   ,\n",
       "        0.   , 0.   , 0.   ],\n",
       "       [0.025, 0.075, 0.045, 0.045, 0.045, 0.055, 0.08 , 0.095, 0.   ,\n",
       "        0.   , 0.   , 0.   , 0.   , 0.   , 0.   , 0.   , 0.   , 0.   ,\n",
       "        0.   , 0.   , 0.   ],\n",
       "       [0.07 , 0.025, 0.075, 0.045, 0.045, 0.045, 0.055, 0.08 , 0.095,\n",
       "        0.   , 0.   , 0.   , 0.   , 0.   , 0.   , 0.   , 0.   , 0.   ,\n",
       "        0.   , 0.   , 0.   ],\n",
       "       [0.075, 0.07 , 0.025, 0.075, 0.045, 0.045, 0.045, 0.055, 0.08 ,\n",
       "        0.095, 0.   , 0.   , 0.   , 0.   , 0.   , 0.   , 0.   , 0.   ,\n",
       "        0.   , 0.   , 0.   ],\n",
       "       [0.05 , 0.075, 0.07 , 0.025, 0.075, 0.045, 0.045, 0.045, 0.055,\n",
       "        0.08 , 0.095, 0.   , 0.   , 0.   , 0.   , 0.   , 0.   , 0.   ,\n",
       "        0.   , 0.   , 0.   ],\n",
       "       [0.07 , 0.05 , 0.075, 0.07 , 0.025, 0.075, 0.045, 0.045, 0.045,\n",
       "        0.055, 0.08 , 0.095, 0.   , 0.   , 0.   , 0.   , 0.   , 0.   ,\n",
       "        0.   , 0.   , 0.   ],\n",
       "       [0.065, 0.07 , 0.05 , 0.075, 0.07 , 0.025, 0.075, 0.045, 0.045,\n",
       "        0.045, 0.055, 0.08 , 0.095, 0.   , 0.   , 0.   , 0.   , 0.   ,\n",
       "        0.   , 0.   , 0.   ],\n",
       "       [0.08 , 0.065, 0.07 , 0.05 , 0.075, 0.07 , 0.025, 0.075, 0.045,\n",
       "        0.045, 0.045, 0.055, 0.08 , 0.095, 0.   , 0.   , 0.   , 0.   ,\n",
       "        0.   , 0.   , 0.   ],\n",
       "       [0.07 , 0.08 , 0.065, 0.07 , 0.05 , 0.075, 0.07 , 0.025, 0.075,\n",
       "        0.045, 0.045, 0.045, 0.055, 0.08 , 0.095, 0.   , 0.   , 0.   ,\n",
       "        0.   , 0.   , 0.   ],\n",
       "       [0.055, 0.07 , 0.08 , 0.065, 0.07 , 0.05 , 0.075, 0.07 , 0.025,\n",
       "        0.075, 0.045, 0.045, 0.045, 0.055, 0.08 , 0.095, 0.   , 0.   ,\n",
       "        0.   , 0.   , 0.   ],\n",
       "       [0.   , 0.055, 0.07 , 0.08 , 0.065, 0.07 , 0.05 , 0.075, 0.07 ,\n",
       "        0.025, 0.075, 0.045, 0.045, 0.045, 0.055, 0.08 , 0.095, 0.   ,\n",
       "        0.   , 0.   , 0.   ],\n",
       "       [0.   , 0.   , 0.055, 0.07 , 0.08 , 0.065, 0.07 , 0.05 , 0.075,\n",
       "        0.07 , 0.025, 0.075, 0.045, 0.045, 0.045, 0.055, 0.08 , 0.095,\n",
       "        0.   , 0.   , 0.   ],\n",
       "       [0.   , 0.   , 0.   , 0.055, 0.07 , 0.08 , 0.065, 0.07 , 0.05 ,\n",
       "        0.075, 0.07 , 0.025, 0.075, 0.045, 0.045, 0.045, 0.055, 0.08 ,\n",
       "        0.095, 0.   , 0.   ],\n",
       "       [0.   , 0.   , 0.   , 0.   , 0.055, 0.07 , 0.08 , 0.065, 0.07 ,\n",
       "        0.05 , 0.075, 0.07 , 0.025, 0.075, 0.045, 0.045, 0.045, 0.055,\n",
       "        0.08 , 0.095, 0.   ],\n",
       "       [0.   , 0.   , 0.   , 0.   , 0.   , 0.055, 0.07 , 0.08 , 0.065,\n",
       "        0.07 , 0.05 , 0.075, 0.07 , 0.025, 0.075, 0.045, 0.045, 0.045,\n",
       "        0.055, 0.08 , 0.095]])"
      ]
     },
     "execution_count": 46,
     "metadata": {},
     "output_type": "execute_result"
    }
   ],
   "source": [
    "prob"
   ]
  },
  {
   "cell_type": "markdown",
   "metadata": {},
   "source": [
    "### primera idea\n",
    "Esta matriz de probabilidades no sirve para calcular el rebenue esperado, porque no representa la demanda cuando sobrepasa el nivel de stock\n",
    "\n",
    "Para almacenar el expected reward, se utilizará al siguiente estructura:\n",
    "\n",
    "    reward[i][d]:= el expected reward de tomar la decisión d ante un nivel de inventario i.\n",
    "    \n",
    "tomando en cuenta que d, puede tener valores de 0 o 1., sea 0 no realizar la compra y 1 realizar la compra de inventario.\n",
    "\n",
    "## Esta idea es mejor\n",
    "tomando en cuenta que realizar la compra en el periodo t, donde el nivel de inventarios es de i, no afectaria al expected reward del mismo periodo t, ya que la compra afecta al nivel de inventarios del perido siguente. Es por esto que la desición no afecta al expected reward del mismo periodo en donde se toma.\n",
    "\n",
    "Es por ello que para almacenar el expected reward, se utilizará al siguiente estructura:\n",
    "    \n",
    "    reward[i]:= el expected reward ante un nivel de inventario i.\n"
   ]
  },
  {
   "cell_type": "code",
   "execution_count": 18,
   "metadata": {},
   "outputs": [],
   "source": [
    "# aquí se ajustan los costos de\n",
    "# D>i o D<i\n",
    "\n",
    "reward=np.zeros(S+1)\n",
    "for i in range(S+1):\n",
    "    r=0\n",
    "    for dem in range(a,b+1):\n",
    "        p=Dem_frec[dem]/total\n",
    "        r_dem=price*min(dem,i)\n",
    "        if(dem>=i):\n",
    "            r_dem+=-cost*(dem-i)\n",
    "        else:#Agrego costo de inventario sobrante\n",
    "            r_dem+= -(cost)*(i-dem)\n",
    "        r+= p*(r_dem)\n",
    "    #print(r)\n",
    "    reward[i]=r"
   ]
  },
  {
   "cell_type": "markdown",
   "metadata": {},
   "source": [
    "# Comenzamos a estructurar esto"
   ]
  },
  {
   "cell_type": "markdown",
   "metadata": {},
   "source": [
    "## Value Determination Equations"
   ]
  },
  {
   "cell_type": "code",
   "execution_count": 9,
   "metadata": {},
   "outputs": [],
   "source": [
    "#funcion para obtener el valor de la ecuaciones\n",
    "def Value_Determination_Equations(decisions,prob,descuento,costo,revenues):\n",
    "    L=len(decisions)\n",
    "    aux=np.zeros([L,L])\n",
    "    B=np.zeros(L)\n",
    "    for i in range(L):\n",
    "        if decisions[i]:\n",
    "        #Juan decide comprar mas cerveza.\n",
    "            aux[i]=prob[L-1]\n",
    "            B[i]=revenues[i]\n",
    "            if(S-i>0):\n",
    "            # si el nivel de inventario es menor al S el costo de pedir puede ser\n",
    "                B[i]+=-costo*(S-i)\n",
    "        else:\n",
    "            aux[i]=prob[i]\n",
    "            B[i]=revenues[i]\n",
    "    A = np.identity(L)-(descuento*aux)\n",
    "    X = np.linalg.solve(A,B)\n",
    "    return X\n",
    "    "
   ]
  },
  {
   "cell_type": "code",
   "execution_count": 53,
   "metadata": {
    "collapsed": true
   },
   "outputs": [
    {
     "data": {
      "text/plain": [
       "array([-2481.21546961,  -900.54943378,   729.26982814,  2377.52118371,\n",
       "        4019.48299955,  5653.54699081,  7196.73484534,  8853.36420813,\n",
       "       10389.34892196, 11888.55091349, 13432.05358817, 14910.07957005,\n",
       "       16375.57337829, 17784.0556333 , 19181.94325041, 20597.52185088,\n",
       "       22146.8418072 , 23690.55691278, 25232.47103617, 26762.1817742 ,\n",
       "       28282.56320117])"
      ]
     },
     "execution_count": 53,
     "metadata": {},
     "output_type": "execute_result"
    }
   ],
   "source": [
    "D=np.zeros(501)\n",
    "#D=np.array([0,0,1,1,1,1])\n",
    "\n",
    "Value_Determination_Equations(D,prob,1,cost,reward)"
   ]
  },
  {
   "cell_type": "markdown",
   "metadata": {},
   "source": [
    "# Howard’s Policy Iteration Method"
   ]
  },
  {
   "cell_type": "code",
   "execution_count": 10,
   "metadata": {},
   "outputs": [],
   "source": [
    "def T_delta(prob,values,descuento,costo,revenues):\n",
    "    L=len(values)\n",
    "    T=np.zeros(L)\n",
    "    #aux_1 siempre igual\n",
    "    aux_1=costo+(descuento*sum(prob[0]*values))\n",
    "    for i in range(L):\n",
    "        aux_2=revenues[i]+(descuento*sum(prob[i]*values))\n",
    "        T[i]=max(aux_1,aux_2)\n",
    "    return T\n",
    "        \n",
    "        "
   ]
  },
  {
   "cell_type": "code",
   "execution_count": 72,
   "metadata": {
    "collapsed": true
   },
   "outputs": [
    {
     "data": {
      "text/plain": [
       "array([-8.12125228e+19, -8.12125228e+19, -8.12125228e+19, -8.12125228e+19,\n",
       "       -8.12125228e+19, -8.12125228e+19, -8.12125228e+19, -8.12125228e+19,\n",
       "       -8.12125228e+19, -8.12125228e+19, -8.12125228e+19, -8.12125228e+19,\n",
       "       -8.12125228e+19, -8.12125228e+19, -8.12125228e+19, -8.12125228e+19,\n",
       "       -8.12125228e+19, -8.12125228e+19, -8.12125228e+19, -8.12125228e+19,\n",
       "       -8.12125228e+19])"
      ]
     },
     "execution_count": 72,
     "metadata": {},
     "output_type": "execute_result"
    }
   ],
   "source": [
    "D=np.array([1., 0., 0., 0., 0., 0., 0., 0., 0., 0., 0., 0., 0., 0., 0., 0., 0.,0., 0., 0., 0.])\n",
    "D=np.array([1 for i in range(21)])\n",
    "V_D_E=Value_Determination_Equations(D,prob,1,cost,reward)\n",
    "V_D_E"
   ]
  },
  {
   "cell_type": "code",
   "execution_count": 70,
   "metadata": {
    "collapsed": true
   },
   "outputs": [
    {
     "data": {
      "text/plain": [
       "array([-7.71518967e+18, -7.71518967e+18, -7.71518967e+18, -7.71518967e+18,\n",
       "       -7.71518967e+18, -7.71518967e+18, -7.71518967e+18, -7.71518967e+18,\n",
       "       -7.71518967e+18, -7.71518967e+18, -7.71518967e+18, -7.71518967e+18,\n",
       "       -7.71518967e+18, -7.71518967e+18, -7.71518967e+18, -7.71518967e+18,\n",
       "       -7.71518967e+18, -7.71518967e+18, -7.71518967e+18, -7.71518967e+18,\n",
       "       -7.71518967e+18])"
      ]
     },
     "execution_count": 70,
     "metadata": {},
     "output_type": "execute_result"
    }
   ],
   "source": [
    "Los_T"
   ]
  },
  {
   "cell_type": "code",
   "execution_count": 69,
   "metadata": {
    "collapsed": true
   },
   "outputs": [
    {
     "data": {
      "text/plain": [
       "array([False, False, False, False, False, False, False, False, False,\n",
       "       False, False, False, False, False, False, False, False, False,\n",
       "       False, False, False])"
      ]
     },
     "execution_count": 69,
     "metadata": {},
     "output_type": "execute_result"
    }
   ],
   "source": [
    "Los_T=T_delta(prob,V_D_E,1,cost,reward)\n",
    "np.around(Los_T,4)<=np.around(V_D_E,4)"
   ]
  },
  {
   "cell_type": "code",
   "execution_count": 11,
   "metadata": {},
   "outputs": [],
   "source": [
    "def Search_OP(decisions,prob,descuento,costo,revenues):\n",
    "   \n",
    "    #(D,m_prob,descuento,c,states_reveneus)\n",
    "    V_D_E = Value_Determination_Equations(decisions,prob,descuento,costo,revenues)\n",
    "    Los_T=T_delta(prob,V_D_E,descuento,costo,revenues)\n",
    "    val_Op=np.around(Los_T,4)<=np.around(V_D_E,4)\n",
    "    if(sum(val_Op)==len(val_Op)):\n",
    "        return(decisions)\n",
    "    else:\n",
    "        for i in range(len(val_Op)):\n",
    "            if (val_Op[i]!=True):\n",
    "                if(decisions[i]==1):\n",
    "                    decisions[i]=0\n",
    "                else:\n",
    "                    decisions[i]=1\n",
    "        #For \n",
    "        #print('recurción')\n",
    "        return(Search_OP(decisions,prob,descuento,costo,revenues))"
   ]
  },
  {
   "cell_type": "code",
   "execution_count": 19,
   "metadata": {},
   "outputs": [
    {
     "data": {
      "text/plain": [
       "array([1, 1, 1, 1, 1, 1, 1, 1, 1, 1, 1, 1, 1, 1, 1, 1, 1, 1, 1, 1, 1, 1,\n",
       "       1, 1, 1, 1, 1, 1, 1, 1, 1, 1, 1, 1, 1, 1, 1, 1, 1, 1, 1, 1, 1, 1,\n",
       "       1, 1, 1, 1, 1, 1, 1, 1, 1, 1, 1, 1, 1, 1, 1, 1, 1, 1, 1, 1, 1, 1,\n",
       "       1, 1, 1, 1, 1, 1, 1, 1, 1, 1, 1, 1, 1, 1, 1, 1, 1, 1, 1, 1, 1, 1,\n",
       "       1, 1, 1, 1, 1, 1, 1, 1, 1, 1, 1, 1, 1, 1, 1, 1, 1, 1, 1, 1, 1, 1,\n",
       "       1, 1, 1, 1, 1, 1, 1, 1, 1, 1, 1, 1, 1, 1, 1, 1, 1, 1, 1, 1, 1, 1,\n",
       "       1, 1, 1, 1, 1, 1, 1, 1, 1, 1, 1, 1, 1, 1, 1, 1, 1, 1, 1, 1, 1, 1,\n",
       "       1, 1, 1, 1, 1, 1, 1, 1, 1, 1, 1, 1, 1, 1, 1, 1, 1, 1, 1, 1, 1, 1,\n",
       "       1, 1, 1, 1, 1, 1, 1, 1, 1, 1, 1, 1, 1, 1, 1, 1, 1, 1, 1, 1, 1, 1,\n",
       "       1, 1, 1, 1, 1, 1, 1, 1, 1, 1, 1, 1, 1, 1, 1, 1, 1, 1, 1, 1, 1, 1,\n",
       "       1, 1, 1, 1, 1, 1, 1, 1, 1, 1, 1, 1, 1, 1, 1, 1, 1, 1, 1, 1, 1, 1,\n",
       "       1, 1, 1, 1, 1, 1, 1, 1, 1, 1, 1, 1, 1, 1, 1, 1, 1, 1, 1, 1, 1, 1,\n",
       "       1, 1, 1, 1, 1, 1, 1, 1, 1, 1, 1, 1, 1, 1, 1, 1, 1, 1, 1, 1, 1, 1,\n",
       "       1, 1, 1, 1, 1, 1, 1, 1, 1, 1, 1, 1, 1, 1, 1, 1, 1, 1, 1, 1, 1, 1,\n",
       "       1, 1, 1, 1, 1, 1, 1, 1, 1, 1, 1, 1, 1, 1, 1, 1, 1, 1, 1, 1, 1, 1,\n",
       "       1, 1, 1, 1, 1, 1, 1, 1, 1, 1, 1, 1, 1, 1, 1, 1, 1, 1, 1, 1, 1, 1,\n",
       "       1, 1, 1, 1, 1, 1, 1, 1, 1, 1, 1, 1, 1, 1, 1, 1, 1, 1, 1, 1, 1, 1,\n",
       "       1, 1, 1, 1, 1, 1, 1, 1, 1, 1, 1, 1, 1, 1, 1, 1, 1, 1, 1, 1, 1, 1,\n",
       "       1, 1, 1, 1, 1, 1, 1, 1, 1, 1, 1, 1, 1, 1, 1, 1, 1, 1, 1, 1, 1, 1,\n",
       "       1, 1, 1, 1, 1, 1, 1, 1, 1, 1, 1, 1, 1, 1, 1, 1, 1, 1, 1, 1, 1, 1,\n",
       "       1, 1, 1, 1, 1, 1, 1, 1, 1, 1, 1, 1, 1, 1, 1, 1, 1, 1, 1, 1, 1, 1,\n",
       "       1, 1, 1, 1, 1, 1, 1, 1, 1, 1, 1, 1, 1, 1, 1, 1, 1, 1, 1, 1, 1, 1,\n",
       "       1, 1, 1, 1, 1, 1, 1, 1, 1, 1, 1, 1, 1, 1, 1, 1, 1])"
      ]
     },
     "execution_count": 19,
     "metadata": {},
     "output_type": "execute_result"
    }
   ],
   "source": [
    "#D=np.array([1,0,0,0,0,1])\n",
    "D=np.zeros(501)\n",
    "D=np.array([1 for i in range(501)])\n",
    "Optimo=Search_OP(D,prob,1,cost,reward)\n",
    "Optimo"
   ]
  },
  {
   "cell_type": "code",
   "execution_count": 17,
   "metadata": {},
   "outputs": [
    {
     "data": {
      "text/plain": [
       "501"
      ]
     },
     "execution_count": 17,
     "metadata": {},
     "output_type": "execute_result"
    }
   ],
   "source": [
    "sum(Optimo)"
   ]
  },
  {
   "cell_type": "code",
   "execution_count": 14,
   "metadata": {},
   "outputs": [],
   "source": [
    "D=np.array([1., 1., 1., 1., 1., 1., 1., 1., 1., 1., 1., 1., 1., 1., 1., 1., 1.,\n",
    "       1., 1., 1., 1., 1., 1., 1., 1., 1., 1., 1., 1., 1., 1., 1., 1., 1.,\n",
    "       1., 1., 1., 1., 1., 1., 1., 1., 1., 1., 1., 1., 1., 1., 1., 1., 1.,\n",
    "       1., 1., 1., 1., 1., 1., 1., 1., 1., 1., 1., 1., 1., 1., 1., 1., 1.,\n",
    "       1., 1., 1., 1., 1., 1., 1., 1., 1., 0., 0., 0., 0., 0., 0., 0., 0.,\n",
    "       0., 0., 0., 0., 0., 0., 0., 0., 0., 0., 0., 0., 0., 0., 0., 0., 0.,\n",
    "       0., 0., 0., 0., 0., 0., 0., 0., 0., 0., 0., 0., 0., 0., 0., 0., 0.,\n",
    "       0., 0., 0., 0., 0., 0., 0., 0., 0., 0., 0., 0., 0., 0., 0., 0., 0.,\n",
    "       0., 0., 0., 0., 0., 0., 0., 0., 0., 0., 0., 0., 0., 0., 0., 0., 0.,\n",
    "       0., 0., 0., 0., 0., 0., 0., 0., 0., 0., 0., 0., 0., 0., 0., 0., 0.,\n",
    "       0., 0., 0., 0., 0., 0., 0., 0., 0., 0., 0., 0., 0., 0., 0., 0., 0.,\n",
    "       0., 0., 0., 0., 0., 0., 0., 0., 0., 0., 0., 0., 0., 0., 0., 0., 0.,\n",
    "       0., 0., 0., 0., 0., 0., 0., 0., 0., 0., 0., 0., 0., 0., 0., 0., 0.,\n",
    "       0., 0., 0., 0., 0., 0., 0., 0., 0., 0., 0., 0., 0., 0., 0., 0., 0.,\n",
    "       0., 0., 0., 0., 0., 0., 0., 0., 0., 0., 0., 0., 0., 0., 0., 0., 0.,\n",
    "       0., 0., 0., 0., 0., 0., 0., 0., 0., 0., 0., 0., 0., 0., 0., 0., 0.,\n",
    "       0., 0., 0., 0., 0., 0., 0., 0., 0., 0., 0., 0., 0., 0., 0., 0., 0.,\n",
    "       0., 0., 0., 0., 0., 0., 0., 0., 0., 0., 0., 0., 0., 0., 0., 0., 0.,\n",
    "       0., 0., 0., 0., 0., 0., 0., 0., 0., 0., 0., 0., 0., 0., 0., 0., 0.,\n",
    "       0., 0., 0., 0., 0., 0., 0., 0., 0., 0., 0., 0., 0., 0., 0., 0., 0.,\n",
    "       0., 0., 0., 0., 0., 0., 0., 0., 0., 0., 0., 0., 0., 0., 0., 0., 0.,\n",
    "       0., 0., 0., 0., 0., 0., 0., 0., 0., 0., 0., 0., 0., 0., 0., 0., 0.,\n",
    "       0., 0., 0., 0., 0., 0., 0., 0., 0., 0., 0., 0., 0., 0., 0., 0., 0.,\n",
    "       0., 0., 0., 0., 0., 0., 0., 0., 0., 0., 0., 0., 0., 0., 0., 0., 0.,\n",
    "       0., 0., 0., 0., 0., 0., 0., 0., 0., 0., 0., 0., 0., 0., 0., 0., 0.,\n",
    "       0., 0., 0., 0., 0., 0., 0., 0., 0., 0., 0., 0., 0., 0., 0., 0., 0.,\n",
    "       0., 0., 0., 0., 0., 0., 0., 0., 0., 0., 0., 0., 0., 0., 0., 0., 0.,\n",
    "       0., 0., 0., 0., 0., 0., 0., 0., 0., 0., 0., 0., 0., 0., 0., 0., 0.,\n",
    "       0., 0., 0., 0., 0., 0., 0., 0., 0., 0., 0., 0., 0., 0., 0., 0., 0.,\n",
    "       0., 0., 1., 1., 1., 1., 1., 1.])"
   ]
  },
  {
   "cell_type": "code",
   "execution_count": 15,
   "metadata": {},
   "outputs": [
    {
     "name": "stdout",
     "output_type": "stream",
     "text": [
      "83.0\n"
     ]
    },
    {
     "data": {
      "text/plain": [
       "array([1., 1., 1., 1., 1., 1., 1., 1., 1., 1., 1., 1., 1., 1., 1., 1., 1.,\n",
       "       1., 1., 1., 1., 1., 1., 1., 1., 1., 1., 1., 1., 1., 1., 1., 1., 1.,\n",
       "       1., 1., 1., 1., 1., 1., 1., 1., 1., 1., 1., 1., 1., 1., 1., 1., 1.,\n",
       "       1., 1., 1., 1., 1., 1., 1., 1., 1., 1., 1., 1., 1., 1., 1., 1., 1.,\n",
       "       1., 1., 1., 1., 1., 1., 1., 1., 1., 0., 0., 0., 0., 0., 0., 0., 0.,\n",
       "       0., 0., 0., 0., 0., 0., 0., 0., 0., 0., 0., 0., 0., 0., 0., 0., 0.,\n",
       "       0., 0., 0., 0., 0., 0., 0., 0., 0., 0., 0., 0., 0., 0., 0., 0., 0.,\n",
       "       0., 0., 0., 0., 0., 0., 0., 0., 0., 0., 0., 0., 0., 0., 0., 0., 0.,\n",
       "       0., 0., 0., 0., 0., 0., 0., 0., 0., 0., 0., 0., 0., 0., 0., 0., 0.,\n",
       "       0., 0., 0., 0., 0., 0., 0., 0., 0., 0., 0., 0., 0., 0., 0., 0., 0.,\n",
       "       0., 0., 0., 0., 0., 0., 0., 0., 0., 0., 0., 0., 0., 0., 0., 0., 0.,\n",
       "       0., 0., 0., 0., 0., 0., 0., 0., 0., 0., 0., 0., 0., 0., 0., 0., 0.,\n",
       "       0., 0., 0., 0., 0., 0., 0., 0., 0., 0., 0., 0., 0., 0., 0., 0., 0.,\n",
       "       0., 0., 0., 0., 0., 0., 0., 0., 0., 0., 0., 0., 0., 0., 0., 0., 0.,\n",
       "       0., 0., 0., 0., 0., 0., 0., 0., 0., 0., 0., 0., 0., 0., 0., 0., 0.,\n",
       "       0., 0., 0., 0., 0., 0., 0., 0., 0., 0., 0., 0., 0., 0., 0., 0., 0.,\n",
       "       0., 0., 0., 0., 0., 0., 0., 0., 0., 0., 0., 0., 0., 0., 0., 0., 0.,\n",
       "       0., 0., 0., 0., 0., 0., 0., 0., 0., 0., 0., 0., 0., 0., 0., 0., 0.,\n",
       "       0., 0., 0., 0., 0., 0., 0., 0., 0., 0., 0., 0., 0., 0., 0., 0., 0.,\n",
       "       0., 0., 0., 0., 0., 0., 0., 0., 0., 0., 0., 0., 0., 0., 0., 0., 0.,\n",
       "       0., 0., 0., 0., 0., 0., 0., 0., 0., 0., 0., 0., 0., 0., 0., 0., 0.,\n",
       "       0., 0., 0., 0., 0., 0., 0., 0., 0., 0., 0., 0., 0., 0., 0., 0., 0.,\n",
       "       0., 0., 0., 0., 0., 0., 0., 0., 0., 0., 0., 0., 0., 0., 0., 0., 0.,\n",
       "       0., 0., 0., 0., 0., 0., 0., 0., 0., 0., 0., 0., 0., 0., 0., 0., 0.,\n",
       "       0., 0., 0., 0., 0., 0., 0., 0., 0., 0., 0., 0., 0., 0., 0., 0., 0.,\n",
       "       0., 0., 0., 0., 0., 0., 0., 0., 0., 0., 0., 0., 0., 0., 0., 0., 0.,\n",
       "       0., 0., 0., 0., 0., 0., 0., 0., 0., 0., 0., 0., 0., 0., 0., 0., 0.,\n",
       "       0., 0., 0., 0., 0., 0., 0., 0., 0., 0., 0., 0., 0., 0., 0., 0., 0.,\n",
       "       0., 0., 0., 0., 0., 0., 0., 0., 0., 0., 0., 0., 0., 0., 0., 0., 0.,\n",
       "       0., 0., 1., 1., 1., 1., 1., 1.])"
      ]
     },
     "execution_count": 15,
     "metadata": {},
     "output_type": "execute_result"
    }
   ],
   "source": [
    "#D=np.array([1,0,0,0,0,1])\n",
    "#D=np.zeros(501)\n",
    "#D=np.array([1 for i in range(501)])\n",
    "Optimo=Search_OP(D,prob,1,cost,reward)\n",
    "print(sum(Optimo))\n",
    "Optimo"
   ]
  }
 ],
 "metadata": {
  "kernelspec": {
   "display_name": "Python 3",
   "language": "python",
   "name": "python3"
  },
  "language_info": {
   "codemirror_mode": {
    "name": "ipython",
    "version": 3
   },
   "file_extension": ".py",
   "mimetype": "text/x-python",
   "name": "python",
   "nbconvert_exporter": "python",
   "pygments_lexer": "ipython3",
   "version": "3.6.8"
  }
 },
 "nbformat": 4,
 "nbformat_minor": 2
}
