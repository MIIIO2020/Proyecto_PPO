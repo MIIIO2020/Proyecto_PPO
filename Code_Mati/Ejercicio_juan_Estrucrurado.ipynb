{
 "cells": [
  {
   "cell_type": "markdown",
   "metadata": {},
   "source": [
    "# Ejemplo(Falta agregar un costo de almacenamiento)\n",
    "Juan vende cervezas artesanales de Lunes a Viernes. Las compra por 300 pesos y vende por 1.500 pesos cada una\n",
    "Juan maneja su inventario de forma semanal, de la siguiente manera:\n",
    "* Juan parte la semana con una cantidad de cervezas en inventario, y vende lascervezas durante la semana.\n",
    "    \n",
    "* Si un cliente quiere comprar una cerveza pero no hay disponible, Juan consideraque pierde 300 pesos por cada cerveza no vendida por falta de clientes.\n",
    "    \n",
    "* Juan vende entre 10 y 40 cervezas por semana.\n",
    "    \n",
    "* El Viernes al final del día Juan hace la contabilidad de costos, y cuenta cuantas unidades tiene en inventario. Según su nivel de inventario, tiene que tomar una decisión.\n",
    "    \n",
    "    * Compra lo suficiente para llenar su frigobar, que tiene una capacidad de S unidades.\n",
    "    * No hacer ningún pedido esta semana.\n",
    "* El pedido llega el Lunes en la mañana.\n",
    "* S=50\n",
    "\n",
    "## ¿Ayude a decidir a Juan cuando comprar, según el inventario que tenga?"
   ]
  },
  {
   "cell_type": "code",
   "execution_count": 2,
   "metadata": {},
   "outputs": [],
   "source": [
    "import numpy as np\n",
    "from numpy import random\n",
    "import collections"
   ]
  },
  {
   "cell_type": "code",
   "execution_count": 73,
   "metadata": {},
   "outputs": [],
   "source": [
    "# Información problema\n",
    "S=500#20#0 #capacidad max y tamaño de lote\n",
    "a=100#0#3#0 #Demanda minima\n",
    "b=400#15#0 #Demanda maxima\n",
    "cost=300#precio cerveza y costo perdida clientes\n",
    "price=1500\n"
   ]
  },
  {
   "cell_type": "markdown",
   "metadata": {},
   "source": [
    "#### Generó las demandas"
   ]
  },
  {
   "cell_type": "code",
   "execution_count": 74,
   "metadata": {
    "collapsed": true
   },
   "outputs": [
    {
     "data": {
      "text/plain": [
       "Counter({365: 4,\n",
       "         225: 2,\n",
       "         115: 5,\n",
       "         223: 2,\n",
       "         256: 4,\n",
       "         321: 2,\n",
       "         108: 2,\n",
       "         173: 2,\n",
       "         356: 2,\n",
       "         140: 2,\n",
       "         116: 1,\n",
       "         339: 1,\n",
       "         154: 3,\n",
       "         222: 2,\n",
       "         162: 4,\n",
       "         133: 2,\n",
       "         300: 3,\n",
       "         277: 2,\n",
       "         279: 1,\n",
       "         177: 3,\n",
       "         113: 2,\n",
       "         343: 3,\n",
       "         241: 3,\n",
       "         386: 4,\n",
       "         258: 4,\n",
       "         189: 3,\n",
       "         240: 1,\n",
       "         131: 1,\n",
       "         392: 1,\n",
       "         383: 2,\n",
       "         118: 4,\n",
       "         193: 2,\n",
       "         194: 1,\n",
       "         348: 3,\n",
       "         174: 2,\n",
       "         316: 2,\n",
       "         218: 2,\n",
       "         171: 5,\n",
       "         245: 2,\n",
       "         235: 2,\n",
       "         303: 1,\n",
       "         384: 1,\n",
       "         389: 2,\n",
       "         350: 2,\n",
       "         144: 4,\n",
       "         233: 3,\n",
       "         104: 3,\n",
       "         282: 4,\n",
       "         390: 3,\n",
       "         371: 1,\n",
       "         243: 2,\n",
       "         234: 1,\n",
       "         346: 3,\n",
       "         185: 3,\n",
       "         334: 2,\n",
       "         250: 2,\n",
       "         111: 2,\n",
       "         212: 4,\n",
       "         368: 3,\n",
       "         320: 2,\n",
       "         285: 3,\n",
       "         179: 3,\n",
       "         332: 3,\n",
       "         142: 2,\n",
       "         337: 2,\n",
       "         335: 2,\n",
       "         145: 1,\n",
       "         301: 6,\n",
       "         265: 6,\n",
       "         228: 5,\n",
       "         123: 2,\n",
       "         103: 5,\n",
       "         385: 1,\n",
       "         372: 3,\n",
       "         114: 5,\n",
       "         151: 3,\n",
       "         373: 3,\n",
       "         278: 3,\n",
       "         153: 1,\n",
       "         333: 1,\n",
       "         141: 3,\n",
       "         190: 1,\n",
       "         309: 3,\n",
       "         244: 5,\n",
       "         259: 3,\n",
       "         344: 1,\n",
       "         354: 1,\n",
       "         122: 1,\n",
       "         196: 2,\n",
       "         167: 3,\n",
       "         195: 3,\n",
       "         182: 3,\n",
       "         148: 4,\n",
       "         215: 3,\n",
       "         367: 2,\n",
       "         271: 1,\n",
       "         324: 4,\n",
       "         329: 3,\n",
       "         268: 2,\n",
       "         236: 3,\n",
       "         313: 2,\n",
       "         355: 1,\n",
       "         130: 2,\n",
       "         253: 1,\n",
       "         306: 2,\n",
       "         269: 2,\n",
       "         315: 5,\n",
       "         128: 3,\n",
       "         139: 2,\n",
       "         203: 2,\n",
       "         363: 1,\n",
       "         132: 1,\n",
       "         359: 2,\n",
       "         109: 2,\n",
       "         280: 1,\n",
       "         296: 1,\n",
       "         237: 1,\n",
       "         358: 3,\n",
       "         398: 1,\n",
       "         262: 4,\n",
       "         146: 2,\n",
       "         186: 3,\n",
       "         286: 2,\n",
       "         305: 2,\n",
       "         183: 2,\n",
       "         155: 2,\n",
       "         400: 1,\n",
       "         100: 4,\n",
       "         370: 1,\n",
       "         217: 2,\n",
       "         351: 3,\n",
       "         394: 1,\n",
       "         149: 2,\n",
       "         227: 2,\n",
       "         121: 3,\n",
       "         304: 1,\n",
       "         248: 2,\n",
       "         105: 3,\n",
       "         347: 3,\n",
       "         298: 3,\n",
       "         289: 3,\n",
       "         302: 2,\n",
       "         232: 1,\n",
       "         375: 5,\n",
       "         391: 3,\n",
       "         220: 1,\n",
       "         119: 1,\n",
       "         397: 1,\n",
       "         136: 1,\n",
       "         388: 2,\n",
       "         204: 1,\n",
       "         369: 2,\n",
       "         307: 1,\n",
       "         287: 1,\n",
       "         120: 2,\n",
       "         224: 1,\n",
       "         381: 2,\n",
       "         163: 3,\n",
       "         117: 1,\n",
       "         129: 3,\n",
       "         206: 1,\n",
       "         299: 2,\n",
       "         187: 1,\n",
       "         308: 1,\n",
       "         102: 1,\n",
       "         158: 3,\n",
       "         238: 1,\n",
       "         319: 1,\n",
       "         270: 2,\n",
       "         138: 2,\n",
       "         255: 2,\n",
       "         213: 1,\n",
       "         247: 3,\n",
       "         325: 2,\n",
       "         175: 1,\n",
       "         387: 1,\n",
       "         201: 1,\n",
       "         312: 2,\n",
       "         249: 2,\n",
       "         327: 3,\n",
       "         274: 1,\n",
       "         230: 3,\n",
       "         326: 1,\n",
       "         166: 1,\n",
       "         137: 1,\n",
       "         125: 1,\n",
       "         199: 1,\n",
       "         284: 2,\n",
       "         126: 2,\n",
       "         260: 2,\n",
       "         314: 1,\n",
       "         211: 4,\n",
       "         208: 1,\n",
       "         181: 2,\n",
       "         110: 2,\n",
       "         379: 2,\n",
       "         229: 2,\n",
       "         366: 2,\n",
       "         310: 1,\n",
       "         219: 1,\n",
       "         239: 1,\n",
       "         264: 3,\n",
       "         159: 1,\n",
       "         349: 1,\n",
       "         246: 1,\n",
       "         161: 1,\n",
       "         266: 2,\n",
       "         198: 5,\n",
       "         345: 1,\n",
       "         341: 2,\n",
       "         214: 2,\n",
       "         150: 1,\n",
       "         188: 1,\n",
       "         254: 2,\n",
       "         170: 1,\n",
       "         353: 1,\n",
       "         207: 1,\n",
       "         396: 1,\n",
       "         338: 1,\n",
       "         209: 1,\n",
       "         336: 1,\n",
       "         331: 1,\n",
       "         382: 1,\n",
       "         357: 3,\n",
       "         328: 1,\n",
       "         191: 1,\n",
       "         205: 1,\n",
       "         172: 1,\n",
       "         210: 1,\n",
       "         251: 1,\n",
       "         197: 2,\n",
       "         169: 1,\n",
       "         376: 1,\n",
       "         176: 1,\n",
       "         165: 1,\n",
       "         124: 1,\n",
       "         378: 1,\n",
       "         147: 1,\n",
       "         362: 1,\n",
       "         160: 1,\n",
       "         226: 1,\n",
       "         156: 1,\n",
       "         202: 1,\n",
       "         283: 1})"
      ]
     },
     "execution_count": 74,
     "metadata": {},
     "output_type": "execute_result"
    }
   ],
   "source": [
    "random.seed(10)\n",
    "total=500\n",
    "x=random.randint(a,b+1, size=(total))\n",
    "Dem_frec = collections.Counter(x)\n",
    "Dem_frec"
   ]
  },
  {
   "cell_type": "markdown",
   "metadata": {},
   "source": [
    "### Comiezo a generar mi matriz de probaibilidades\n",
    "Esta matriz se estructura de la siguiente forma\n",
    "\n",
    "    Prob[i][j]: es la probailidad de que el inventario i pase al nivel de inventario j en el siguente periodo\n"
   ]
  },
  {
   "cell_type": "code",
   "execution_count": 75,
   "metadata": {},
   "outputs": [],
   "source": [
    "prob =np.zeros([S+1,S+1])"
   ]
  },
  {
   "cell_type": "code",
   "execution_count": 6,
   "metadata": {
    "collapsed": true
   },
   "outputs": [
    {
     "data": {
      "text/plain": [
       "array([[0., 0., 0., 0., 0., 0.],\n",
       "       [0., 0., 0., 0., 0., 0.],\n",
       "       [0., 0., 0., 0., 0., 0.],\n",
       "       [0., 0., 0., 0., 0., 0.],\n",
       "       [0., 0., 0., 0., 0., 0.],\n",
       "       [0., 0., 0., 0., 0., 0.]])"
      ]
     },
     "execution_count": 6,
     "metadata": {},
     "output_type": "execute_result"
    }
   ],
   "source": [
    "prob#[5][5]=1"
   ]
  },
  {
   "cell_type": "code",
   "execution_count": 76,
   "metadata": {},
   "outputs": [],
   "source": [
    "for i in range(S+1):\n",
    "    for j in range(S+1):\n",
    "        dem=i-j\n",
    "        if(S>=dem>=0):\n",
    "           prob[i][j] =Dem_frec[dem]/total\n",
    "    "
   ]
  },
  {
   "cell_type": "code",
   "execution_count": 46,
   "metadata": {
    "collapsed": true
   },
   "outputs": [
    {
     "data": {
      "text/plain": [
       "array([[0.095, 0.   , 0.   , 0.   , 0.   , 0.   , 0.   , 0.   , 0.   ,\n",
       "        0.   , 0.   , 0.   , 0.   , 0.   , 0.   , 0.   , 0.   , 0.   ,\n",
       "        0.   , 0.   , 0.   ],\n",
       "       [0.08 , 0.095, 0.   , 0.   , 0.   , 0.   , 0.   , 0.   , 0.   ,\n",
       "        0.   , 0.   , 0.   , 0.   , 0.   , 0.   , 0.   , 0.   , 0.   ,\n",
       "        0.   , 0.   , 0.   ],\n",
       "       [0.055, 0.08 , 0.095, 0.   , 0.   , 0.   , 0.   , 0.   , 0.   ,\n",
       "        0.   , 0.   , 0.   , 0.   , 0.   , 0.   , 0.   , 0.   , 0.   ,\n",
       "        0.   , 0.   , 0.   ],\n",
       "       [0.045, 0.055, 0.08 , 0.095, 0.   , 0.   , 0.   , 0.   , 0.   ,\n",
       "        0.   , 0.   , 0.   , 0.   , 0.   , 0.   , 0.   , 0.   , 0.   ,\n",
       "        0.   , 0.   , 0.   ],\n",
       "       [0.045, 0.045, 0.055, 0.08 , 0.095, 0.   , 0.   , 0.   , 0.   ,\n",
       "        0.   , 0.   , 0.   , 0.   , 0.   , 0.   , 0.   , 0.   , 0.   ,\n",
       "        0.   , 0.   , 0.   ],\n",
       "       [0.045, 0.045, 0.045, 0.055, 0.08 , 0.095, 0.   , 0.   , 0.   ,\n",
       "        0.   , 0.   , 0.   , 0.   , 0.   , 0.   , 0.   , 0.   , 0.   ,\n",
       "        0.   , 0.   , 0.   ],\n",
       "       [0.075, 0.045, 0.045, 0.045, 0.055, 0.08 , 0.095, 0.   , 0.   ,\n",
       "        0.   , 0.   , 0.   , 0.   , 0.   , 0.   , 0.   , 0.   , 0.   ,\n",
       "        0.   , 0.   , 0.   ],\n",
       "       [0.025, 0.075, 0.045, 0.045, 0.045, 0.055, 0.08 , 0.095, 0.   ,\n",
       "        0.   , 0.   , 0.   , 0.   , 0.   , 0.   , 0.   , 0.   , 0.   ,\n",
       "        0.   , 0.   , 0.   ],\n",
       "       [0.07 , 0.025, 0.075, 0.045, 0.045, 0.045, 0.055, 0.08 , 0.095,\n",
       "        0.   , 0.   , 0.   , 0.   , 0.   , 0.   , 0.   , 0.   , 0.   ,\n",
       "        0.   , 0.   , 0.   ],\n",
       "       [0.075, 0.07 , 0.025, 0.075, 0.045, 0.045, 0.045, 0.055, 0.08 ,\n",
       "        0.095, 0.   , 0.   , 0.   , 0.   , 0.   , 0.   , 0.   , 0.   ,\n",
       "        0.   , 0.   , 0.   ],\n",
       "       [0.05 , 0.075, 0.07 , 0.025, 0.075, 0.045, 0.045, 0.045, 0.055,\n",
       "        0.08 , 0.095, 0.   , 0.   , 0.   , 0.   , 0.   , 0.   , 0.   ,\n",
       "        0.   , 0.   , 0.   ],\n",
       "       [0.07 , 0.05 , 0.075, 0.07 , 0.025, 0.075, 0.045, 0.045, 0.045,\n",
       "        0.055, 0.08 , 0.095, 0.   , 0.   , 0.   , 0.   , 0.   , 0.   ,\n",
       "        0.   , 0.   , 0.   ],\n",
       "       [0.065, 0.07 , 0.05 , 0.075, 0.07 , 0.025, 0.075, 0.045, 0.045,\n",
       "        0.045, 0.055, 0.08 , 0.095, 0.   , 0.   , 0.   , 0.   , 0.   ,\n",
       "        0.   , 0.   , 0.   ],\n",
       "       [0.08 , 0.065, 0.07 , 0.05 , 0.075, 0.07 , 0.025, 0.075, 0.045,\n",
       "        0.045, 0.045, 0.055, 0.08 , 0.095, 0.   , 0.   , 0.   , 0.   ,\n",
       "        0.   , 0.   , 0.   ],\n",
       "       [0.07 , 0.08 , 0.065, 0.07 , 0.05 , 0.075, 0.07 , 0.025, 0.075,\n",
       "        0.045, 0.045, 0.045, 0.055, 0.08 , 0.095, 0.   , 0.   , 0.   ,\n",
       "        0.   , 0.   , 0.   ],\n",
       "       [0.055, 0.07 , 0.08 , 0.065, 0.07 , 0.05 , 0.075, 0.07 , 0.025,\n",
       "        0.075, 0.045, 0.045, 0.045, 0.055, 0.08 , 0.095, 0.   , 0.   ,\n",
       "        0.   , 0.   , 0.   ],\n",
       "       [0.   , 0.055, 0.07 , 0.08 , 0.065, 0.07 , 0.05 , 0.075, 0.07 ,\n",
       "        0.025, 0.075, 0.045, 0.045, 0.045, 0.055, 0.08 , 0.095, 0.   ,\n",
       "        0.   , 0.   , 0.   ],\n",
       "       [0.   , 0.   , 0.055, 0.07 , 0.08 , 0.065, 0.07 , 0.05 , 0.075,\n",
       "        0.07 , 0.025, 0.075, 0.045, 0.045, 0.045, 0.055, 0.08 , 0.095,\n",
       "        0.   , 0.   , 0.   ],\n",
       "       [0.   , 0.   , 0.   , 0.055, 0.07 , 0.08 , 0.065, 0.07 , 0.05 ,\n",
       "        0.075, 0.07 , 0.025, 0.075, 0.045, 0.045, 0.045, 0.055, 0.08 ,\n",
       "        0.095, 0.   , 0.   ],\n",
       "       [0.   , 0.   , 0.   , 0.   , 0.055, 0.07 , 0.08 , 0.065, 0.07 ,\n",
       "        0.05 , 0.075, 0.07 , 0.025, 0.075, 0.045, 0.045, 0.045, 0.055,\n",
       "        0.08 , 0.095, 0.   ],\n",
       "       [0.   , 0.   , 0.   , 0.   , 0.   , 0.055, 0.07 , 0.08 , 0.065,\n",
       "        0.07 , 0.05 , 0.075, 0.07 , 0.025, 0.075, 0.045, 0.045, 0.045,\n",
       "        0.055, 0.08 , 0.095]])"
      ]
     },
     "execution_count": 46,
     "metadata": {},
     "output_type": "execute_result"
    }
   ],
   "source": [
    "prob"
   ]
  },
  {
   "cell_type": "markdown",
   "metadata": {},
   "source": [
    "### primera idea\n",
    "Esta matriz de probabilidades no sirve para calcular el rebenue esperado, porque no representa la demanda cuando sobrepasa el nivel de stock\n",
    "\n",
    "Para almacenar el expected reward, se utilizará al siguiente estructura:\n",
    "\n",
    "    reward[i][d]:= el expected reward de tomar la decisión d ante un nivel de inventario i.\n",
    "    \n",
    "tomando en cuenta que d, puede tener valores de 0 o 1., sea 0 no realizar la compra y 1 realizar la compra de inventario.\n",
    "\n",
    "## Esta idea es mejor\n",
    "tomando en cuenta que realizar la compra en el periodo t, donde el nivel de inventarios es de i, no afectaria al expected reward del mismo periodo t, ya que la compra afecta al nivel de inventarios del perido siguente. Es por esto que la desición no afecta al expected reward del mismo periodo en donde se toma.\n",
    "\n",
    "Es por ello que para almacenar el expected reward, se utilizará al siguiente estructura:\n",
    "    \n",
    "    reward[i]:= el expected reward ante un nivel de inventario i.\n"
   ]
  },
  {
   "cell_type": "code",
   "execution_count": 94,
   "metadata": {},
   "outputs": [],
   "source": [
    "reward=np.zeros(S+1)\n",
    "for i in range(S+1):\n",
    "    r=0\n",
    "    for dem in range(a,b+1):\n",
    "        p=Dem_frec[dem]/total\n",
    "        r_dem=price*min(dem,i)\n",
    "        if(dem>i):\n",
    "            r_dem+=-cost*(dem-i)*2\n",
    "        else:#Agrego costo de inventario sobrante\n",
    "            r_dem+=-cost\n",
    "        r+= p*(r_dem)\n",
    "    #print(r)\n",
    "    reward[i]=r"
   ]
  },
  {
   "cell_type": "markdown",
   "metadata": {},
   "source": [
    "# Comenzamos a estructurar esto"
   ]
  },
  {
   "cell_type": "markdown",
   "metadata": {},
   "source": [
    "## Value Determination Equations"
   ]
  },
  {
   "cell_type": "code",
   "execution_count": 91,
   "metadata": {},
   "outputs": [],
   "source": [
    "#funcion para obtener el valor de la ecuaciones\n",
    "def Value_Determination_Equations(decisions,prob,descuento,costo,revenues):\n",
    "    L=len(decisions)\n",
    "    aux=np.zeros([L,L])\n",
    "    B=np.zeros(L)\n",
    "    for i in range(L):\n",
    "        if decisions[i]:\n",
    "        #Juan decide comprar mas cerveza.\n",
    "            aux[i]=prob[L-1]\n",
    "            B[i]=revenues[i]\n",
    "            if(S-i>0):\n",
    "            # si el nivel de inventario es menor al S el costo de pedir puede ser\n",
    "                B[i]+=-costo*(S-i)\n",
    "        else:\n",
    "            aux[i]=prob[i]\n",
    "            B[i]=revenues[i]\n",
    "    A = np.identity(L)-(descuento*aux)\n",
    "    X = np.linalg.solve(A,B)\n",
    "    return X\n",
    "    "
   ]
  },
  {
   "cell_type": "code",
   "execution_count": 53,
   "metadata": {},
   "outputs": [
    {
     "data": {
      "text/plain": [
       "array([-2481.21546961,  -900.54943378,   729.26982814,  2377.52118371,\n",
       "        4019.48299955,  5653.54699081,  7196.73484534,  8853.36420813,\n",
       "       10389.34892196, 11888.55091349, 13432.05358817, 14910.07957005,\n",
       "       16375.57337829, 17784.0556333 , 19181.94325041, 20597.52185088,\n",
       "       22146.8418072 , 23690.55691278, 25232.47103617, 26762.1817742 ,\n",
       "       28282.56320117])"
      ]
     },
     "execution_count": 53,
     "metadata": {},
     "output_type": "execute_result"
    }
   ],
   "source": [
    "D=np.zeros(501)\n",
    "#D=np.array([0,0,1,1,1,1])\n",
    "\n",
    "Value_Determination_Equations(D,prob,1,cost,reward)"
   ]
  },
  {
   "cell_type": "markdown",
   "metadata": {},
   "source": [
    "# Howard’s Policy Iteration Method"
   ]
  },
  {
   "cell_type": "code",
   "execution_count": 84,
   "metadata": {},
   "outputs": [],
   "source": [
    "def T_delta(prob,values,descuento,costo,revenues):\n",
    "    L=len(values)\n",
    "    T=np.zeros(L)\n",
    "    #aux_1 siempre igual\n",
    "    aux_1=costo+(descuento*sum(prob[0]*values))\n",
    "    for i in range(L):\n",
    "        aux_2=revenues[i]+(descuento*sum(prob[i]*values))\n",
    "        T[i]=max(aux_1,aux_2)\n",
    "    return T\n",
    "        \n",
    "        "
   ]
  },
  {
   "cell_type": "code",
   "execution_count": 72,
   "metadata": {},
   "outputs": [
    {
     "data": {
      "text/plain": [
       "array([-8.12125228e+19, -8.12125228e+19, -8.12125228e+19, -8.12125228e+19,\n",
       "       -8.12125228e+19, -8.12125228e+19, -8.12125228e+19, -8.12125228e+19,\n",
       "       -8.12125228e+19, -8.12125228e+19, -8.12125228e+19, -8.12125228e+19,\n",
       "       -8.12125228e+19, -8.12125228e+19, -8.12125228e+19, -8.12125228e+19,\n",
       "       -8.12125228e+19, -8.12125228e+19, -8.12125228e+19, -8.12125228e+19,\n",
       "       -8.12125228e+19])"
      ]
     },
     "execution_count": 72,
     "metadata": {},
     "output_type": "execute_result"
    }
   ],
   "source": [
    "D=np.array([1., 0., 0., 0., 0., 0., 0., 0., 0., 0., 0., 0., 0., 0., 0., 0., 0.,0., 0., 0., 0.])\n",
    "D=np.array([1 for i in range(21)])\n",
    "V_D_E=Value_Determination_Equations(D,prob,1,cost,reward)\n",
    "V_D_E"
   ]
  },
  {
   "cell_type": "code",
   "execution_count": 70,
   "metadata": {},
   "outputs": [
    {
     "data": {
      "text/plain": [
       "array([-7.71518967e+18, -7.71518967e+18, -7.71518967e+18, -7.71518967e+18,\n",
       "       -7.71518967e+18, -7.71518967e+18, -7.71518967e+18, -7.71518967e+18,\n",
       "       -7.71518967e+18, -7.71518967e+18, -7.71518967e+18, -7.71518967e+18,\n",
       "       -7.71518967e+18, -7.71518967e+18, -7.71518967e+18, -7.71518967e+18,\n",
       "       -7.71518967e+18, -7.71518967e+18, -7.71518967e+18, -7.71518967e+18,\n",
       "       -7.71518967e+18])"
      ]
     },
     "execution_count": 70,
     "metadata": {},
     "output_type": "execute_result"
    }
   ],
   "source": [
    "Los_T"
   ]
  },
  {
   "cell_type": "code",
   "execution_count": 69,
   "metadata": {},
   "outputs": [
    {
     "data": {
      "text/plain": [
       "array([False, False, False, False, False, False, False, False, False,\n",
       "       False, False, False, False, False, False, False, False, False,\n",
       "       False, False, False])"
      ]
     },
     "execution_count": 69,
     "metadata": {},
     "output_type": "execute_result"
    }
   ],
   "source": [
    "Los_T=T_delta(prob,V_D_E,1,cost,reward)\n",
    "np.around(Los_T,4)<=np.around(V_D_E,4)"
   ]
  },
  {
   "cell_type": "code",
   "execution_count": 92,
   "metadata": {},
   "outputs": [],
   "source": [
    "def Search_OP(decisions,prob,descuento,costo,revenues):\n",
    "   \n",
    "    #(D,m_prob,descuento,c,states_reveneus)\n",
    "    V_D_E = Value_Determination_Equations(decisions,prob,descuento,costo,revenues)\n",
    "    Los_T=T_delta(prob,V_D_E,descuento,costo,revenues)\n",
    "    val_Op=np.around(Los_T,4)<=np.around(V_D_E,4)\n",
    "    if(sum(val_Op)==len(val_Op)):\n",
    "        return(decisions)\n",
    "    else:\n",
    "        for i in range(len(val_Op)):\n",
    "            if (val_Op[i]!=True):\n",
    "                if(decisions[i]==1):\n",
    "                    decisions[i]=0\n",
    "                else:\n",
    "                    decisions[i]=1\n",
    "        #For \n",
    "        #print('recurción')\n",
    "        return(Search_OP(decisions,prob,descuento,costo,revenues))"
   ]
  },
  {
   "cell_type": "code",
   "execution_count": 95,
   "metadata": {},
   "outputs": [
    {
     "data": {
      "text/plain": [
       "array([1, 1, 1, 1, 1, 1, 1, 1, 1, 1, 1, 1, 1, 1, 1, 1, 1, 1, 1, 1, 1, 1,\n",
       "       1, 1, 1, 1, 1, 1, 1, 1, 1, 1, 1, 1, 1, 1, 1, 1, 1, 1, 1, 1, 1, 1,\n",
       "       1, 1, 1, 1, 1, 1, 1, 1, 1, 1, 1, 1, 1, 1, 1, 1, 1, 1, 1, 1, 1, 1,\n",
       "       1, 1, 1, 1, 1, 1, 1, 1, 1, 1, 1, 1, 1, 1, 1, 1, 1, 1, 1, 1, 1, 1,\n",
       "       1, 1, 1, 1, 1, 1, 1, 1, 1, 1, 1, 1, 1, 1, 1, 1, 1, 1, 1, 1, 1, 1,\n",
       "       1, 1, 1, 1, 1, 1, 1, 1, 1, 1, 1, 1, 1, 1, 1, 1, 1, 1, 1, 1, 1, 1,\n",
       "       1, 1, 1, 1, 1, 1, 1, 1, 1, 1, 1, 1, 1, 1, 1, 1, 1, 1, 1, 1, 1, 1,\n",
       "       1, 1, 1, 1, 1, 1, 1, 1, 1, 1, 1, 1, 1, 1, 1, 1, 1, 1, 1, 1, 1, 1,\n",
       "       1, 1, 1, 1, 1, 1, 1, 1, 1, 1, 1, 1, 1, 1, 1, 1, 1, 1, 1, 1, 1, 1,\n",
       "       1, 1, 1, 1, 1, 1, 1, 1, 1, 1, 1, 1, 1, 1, 1, 1, 1, 1, 1, 1, 1, 1,\n",
       "       1, 1, 1, 1, 1, 1, 1, 1, 1, 1, 1, 1, 1, 1, 1, 1, 1, 1, 1, 1, 1, 1,\n",
       "       1, 1, 1, 1, 1, 1, 1, 1, 1, 1, 1, 1, 1, 1, 1, 1, 1, 1, 1, 1, 1, 1,\n",
       "       1, 1, 1, 1, 1, 1, 1, 1, 1, 1, 1, 1, 1, 1, 1, 1, 1, 1, 1, 1, 1, 1,\n",
       "       1, 1, 1, 1, 1, 1, 1, 1, 1, 1, 1, 1, 1, 1, 1, 1, 1, 1, 1, 1, 1, 1,\n",
       "       1, 1, 1, 1, 1, 1, 1, 1, 1, 1, 1, 1, 1, 1, 1, 1, 1, 1, 1, 1, 1, 1,\n",
       "       1, 1, 1, 1, 1, 1, 1, 1, 1, 1, 1, 1, 1, 1, 1, 1, 1, 1, 1, 1, 1, 1,\n",
       "       1, 1, 1, 1, 1, 1, 1, 1, 1, 1, 1, 1, 1, 1, 1, 1, 1, 1, 1, 1, 1, 1,\n",
       "       1, 1, 1, 1, 1, 1, 1, 1, 1, 1, 1, 1, 1, 1, 1, 1, 1, 1, 1, 1, 1, 1,\n",
       "       1, 1, 1, 1, 0, 0, 0, 0, 0, 0, 0, 0, 0, 0, 0, 0, 0, 0, 0, 0, 0, 0,\n",
       "       0, 0, 0, 0, 0, 0, 0, 0, 0, 0, 0, 0, 0, 0, 0, 0, 0, 0, 0, 0, 0, 0,\n",
       "       0, 0, 0, 0, 0, 0, 0, 0, 0, 0, 0, 0, 0, 0, 0, 0, 0, 0, 0, 0, 0, 0,\n",
       "       0, 0, 0, 0, 0, 0, 0, 0, 0, 0, 0, 0, 0, 0, 0, 0, 0, 0, 0, 0, 0, 0,\n",
       "       0, 0, 0, 0, 0, 0, 0, 0, 0, 0, 0, 0, 0, 0, 0, 0, 0])"
      ]
     },
     "execution_count": 95,
     "metadata": {},
     "output_type": "execute_result"
    }
   ],
   "source": [
    "#D=np.array([1,0,0,0,0,1])\n",
    "#D=np.zeros(501)\n",
    "D=np.array([1 for i in range(501)])\n",
    "Optimo=Search_OP(D,prob,1,cost,reward)\n",
    "Optimo"
   ]
  },
  {
   "cell_type": "code",
   "execution_count": 103,
   "metadata": {},
   "outputs": [
    {
     "data": {
      "text/plain": [
       "400"
      ]
     },
     "execution_count": 103,
     "metadata": {},
     "output_type": "execute_result"
    }
   ],
   "source": [
    "sum(Optimo)"
   ]
  },
  {
   "cell_type": "code",
   "execution_count": null,
   "metadata": {},
   "outputs": [],
   "source": []
  }
 ],
 "metadata": {
  "kernelspec": {
   "display_name": "Python 3",
   "language": "python",
   "name": "python3"
  },
  "language_info": {
   "codemirror_mode": {
    "name": "ipython",
    "version": 3
   },
   "file_extension": ".py",
   "mimetype": "text/x-python",
   "name": "python",
   "nbconvert_exporter": "python",
   "pygments_lexer": "ipython3",
   "version": "3.6.8"
  }
 },
 "nbformat": 4,
 "nbformat_minor": 2
}
