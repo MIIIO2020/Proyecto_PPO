{
 "cells": [
  {
   "cell_type": "markdown",
   "metadata": {},
   "source": [
    "# Ejemplo(Falta agregar un costo de almacenamiento)\n",
    "Juan vende cervezas artesanales de Lunes a Viernes. Las compra por 300 pesos y vende por 1.500 pesos cada una\n",
    "Juan maneja su inventario de forma semanal, de la siguiente manera:\n",
    "* Juan parte la semana con una cantidad de cervezas en inventario, y vende lascervezas durante la semana.\n",
    "    \n",
    "* Si un cliente quiere comprar una cerveza pero no hay disponible, Juan consideraque pierde 300 pesos por cada cerveza no vendida por falta de clientes.\n",
    "    \n",
    "* Juan vende entre 10 y 40 cervezas por semana.\n",
    "    \n",
    "* El Viernes al final del día Juan hace la contabilidad de costos, y cuenta cuantas unidades tiene en inventario. Según su nivel de inventario, tiene que tomar una decisión.\n",
    "    \n",
    "    * Compra lo suficiente para llenar su frigobar, que tiene una capacidad de S unidades.\n",
    "    * No hacer ningún pedido esta semana.\n",
    "* El pedido llega el Lunes en la mañana.\n",
    "* S=50\n",
    "* Juan pide dinero prestado, por lo cual considera una tasa de descuento del dinero de un 10% semanal\n",
    "\n",
    "## ¿Ayude a decidir a Juan cuando comprar, según el inventario que tenga?"
   ]
  },
  {
   "cell_type": "code",
   "execution_count": 2,
   "metadata": {},
   "outputs": [],
   "source": [
    "import numpy as np\n",
    "from numpy import random\n",
    "import collections"
   ]
  },
  {
   "cell_type": "code",
   "execution_count": 3,
   "metadata": {},
   "outputs": [],
   "source": [
    "# Información problema\n",
    "S=5#00#20#0 #capacidad max y tamaño de lote\n",
    "a=0#00#0#3#0 #Demanda minima\n",
    "b=5#00#15#0 #Demanda maxima\n",
    "cost=300#precio cerveza y costo perdida clientes\n",
    "price=1500\n",
    "taza=0.9\n"
   ]
  },
  {
   "cell_type": "markdown",
   "metadata": {},
   "source": [
    "#### Generó las demandas"
   ]
  },
  {
   "cell_type": "code",
   "execution_count": 4,
   "metadata": {},
   "outputs": [
    {
     "data": {
      "text/plain": [
       "Counter({1: 8382, 5: 8209, 4: 8338, 0: 8215, 3: 8499, 2: 8357})"
      ]
     },
     "execution_count": 4,
     "metadata": {},
     "output_type": "execute_result"
    }
   ],
   "source": [
    "random.seed(10)\n",
    "total=50000\n",
    "x=random.randint(a,b+1, size=(total))\n",
    "Dem_frec = collections.Counter(x)\n",
    "Dem_frec"
   ]
  },
  {
   "cell_type": "markdown",
   "metadata": {},
   "source": [
    "### Comiezo a generar mi matriz de probaibilidades\n",
    "Esta matriz se estructura de la siguiente forma\n",
    "\n",
    "    Prob[i][j]: es la probailidad de que el inventario i pase al nivel de inventario j en el siguente periodo\n"
   ]
  },
  {
   "cell_type": "code",
   "execution_count": 5,
   "metadata": {},
   "outputs": [],
   "source": [
    "prob =np.zeros([S+1,S+1])"
   ]
  },
  {
   "cell_type": "code",
   "execution_count": 6,
   "metadata": {},
   "outputs": [
    {
     "data": {
      "text/plain": [
       "array([[0., 0., 0., 0., 0., 0.],\n",
       "       [0., 0., 0., 0., 0., 0.],\n",
       "       [0., 0., 0., 0., 0., 0.],\n",
       "       [0., 0., 0., 0., 0., 0.],\n",
       "       [0., 0., 0., 0., 0., 0.],\n",
       "       [0., 0., 0., 0., 0., 0.]])"
      ]
     },
     "execution_count": 6,
     "metadata": {},
     "output_type": "execute_result"
    }
   ],
   "source": [
    "prob#[5][5]=1"
   ]
  },
  {
   "cell_type": "code",
   "execution_count": 7,
   "metadata": {},
   "outputs": [],
   "source": [
    "for i in range(S+1):\n",
    "    for j in range(S+1):\n",
    "        dem=i-j\n",
    "        if(S>=dem>=0):\n",
    "            if(dem<i):\n",
    "               prob[i][j] =Dem_frec[dem]/total\n",
    "    prob[i][0] = 1 - sum(prob[i][0:])\n"
   ]
  },
  {
   "cell_type": "code",
   "execution_count": 8,
   "metadata": {
    "scrolled": true
   },
   "outputs": [
    {
     "data": {
      "text/plain": [
       "array([[1.     , 0.     , 0.     , 0.     , 0.     , 0.     ],\n",
       "       [0.8357 , 0.1643 , 0.     , 0.     , 0.     , 0.     ],\n",
       "       [0.66806, 0.16764, 0.1643 , 0.     , 0.     , 0.     ],\n",
       "       [0.50092, 0.16714, 0.16764, 0.1643 , 0.     , 0.     ],\n",
       "       [0.33094, 0.16998, 0.16714, 0.16764, 0.1643 , 0.     ],\n",
       "       [0.16418, 0.16676, 0.16998, 0.16714, 0.16764, 0.1643 ]])"
      ]
     },
     "execution_count": 8,
     "metadata": {},
     "output_type": "execute_result"
    }
   ],
   "source": [
    "prob"
   ]
  },
  {
   "cell_type": "markdown",
   "metadata": {},
   "source": [
    "### primera idea\n",
    "Esta matriz de probabilidades no sirve para calcular el rebenue esperado, porque no representa la demanda cuando sobrepasa el nivel de stock\n",
    "\n",
    "Para almacenar el expected reward, se utilizará al siguiente estructura:\n",
    "\n",
    "    reward[i][d]:= el expected reward de tomar la decisión d ante un nivel de inventario i.\n",
    "    \n",
    "tomando en cuenta que d, puede tener valores de 0 o 1., sea 0 no realizar la compra y 1 realizar la compra de inventario.\n",
    "\n",
    "## Esta idea es mejor\n",
    "tomando en cuenta que realizar la compra en el periodo t, donde el nivel de inventarios es de i, no afectaria al expected reward del mismo periodo t, ya que la compra afecta al nivel de inventarios del perido siguente. Es por esto que la desición no afecta al expected reward del mismo periodo en donde se toma.\n",
    "\n",
    "Es por ello que para almacenar el expected reward, se utilizará al siguiente estructura:\n",
    "    \n",
    "    reward[i]:= el expected reward ante un nivel de inventario i.\n"
   ]
  },
  {
   "cell_type": "code",
   "execution_count": 9,
   "metadata": {},
   "outputs": [],
   "source": [
    "# aquí se ajustan los costos de\n",
    "# D>i o D<i\n",
    "\n",
    "reward=np.zeros(S+1)\n",
    "for i in range(S+1):\n",
    "    r=0\n",
    "    for dem in range(a,b+1):\n",
    "        p=Dem_frec[dem]/total\n",
    "        r_dem=price*min(dem,i)\n",
    "        #if(dem>=i):\n",
    "            #r_dem+=-cost*(dem-i)\n",
    "        #else:\n",
    "        if(dem<i):#Agrego costo de inventario sobrante\n",
    "            r_dem+= -(cost)*(i-dem)\n",
    "        r+= p*(r_dem)\n",
    "    #print(r)\n",
    "    reward[i]=r"
   ]
  },
  {
   "cell_type": "markdown",
   "metadata": {},
   "source": [
    "# Comenzamos a estructurar esto"
   ]
  },
  {
   "cell_type": "markdown",
   "metadata": {},
   "source": [
    "## Value Determination Equations"
   ]
  },
  {
   "cell_type": "code",
   "execution_count": 10,
   "metadata": {},
   "outputs": [],
   "source": [
    "#funcion para obtener el valor de la ecuaciones\n",
    "def Value_Determination_Equations(decisions,prob,descuento,costo,revenues):\n",
    "    L=len(decisions)\n",
    "    aux=np.zeros([L,L])\n",
    "    B=np.zeros(L)\n",
    "    for i in range(L):\n",
    "        if decisions[i]:\n",
    "        #Juan decide comprar mas cerveza.\n",
    "            aux[i]=prob[L-1]\n",
    "            B[i]=revenues[L-1]#antes era i\n",
    "            if(S-i>0):\n",
    "            # si el nivel de inventario es menor al S el costo de pedir puede ser\n",
    "                B[i]+=-costo*(S-i)\n",
    "        else:\n",
    "            aux[i]=prob[i]\n",
    "            B[i]=revenues[i]\n",
    "    A = np.identity(L)-(descuento*aux)\n",
    "    X = np.linalg.solve(A,B)\n",
    "    return X\n",
    "    "
   ]
  },
  {
   "cell_type": "code",
   "execution_count": 11,
   "metadata": {},
   "outputs": [
    {
     "data": {
      "text/plain": [
       "array([-1.05856046e-12,  1.41323507e+03,  2.72257901e+03,  3.90994699e+03,\n",
       "        4.95203708e+03,  5.82487506e+03])"
      ]
     },
     "execution_count": 11,
     "metadata": {},
     "output_type": "execute_result"
    }
   ],
   "source": [
    "D=np.zeros(6)\n",
    "#D=np.array([0,0,1,1,1,1])\n",
    "\n",
    "Value_Determination_Equations(D,prob,taza,cost,reward)"
   ]
  },
  {
   "cell_type": "markdown",
   "metadata": {},
   "source": [
    "# Howard’s Policy Iteration Method"
   ]
  },
  {
   "cell_type": "code",
   "execution_count": 55,
   "metadata": {},
   "outputs": [],
   "source": [
    "def T_delta(prob,values,descuento,costo,revenues):\n",
    "    L=len(values)\n",
    "    T=np.zeros(L)\n",
    "    #aux_1 siempre igual\n",
    "   \n",
    "    aux_1=revenues[L-1]+(descuento*sum(prob[L-1]*values))#compro\n",
    "    for i in range(L):\n",
    "        aux_2=revenues[i]+(descuento*sum(prob[i]*values))\n",
    "        T[i]=max(aux_1-costo*(L-1-i),aux_2)#Con i=S soy indiferente a comprar o no\n",
    "    return T"
   ]
  },
  {
   "cell_type": "code",
   "execution_count": null,
   "metadata": {},
   "outputs": [],
   "source": [
    "\"\"\"\"\n",
    "def T_delta(prob,values,descuento,costo,revenues):\n",
    "    L=len(values)\n",
    "    T=np.zeros(L)\n",
    "    #aux_1 siempre igual\n",
    "    aux_1=costo+(descuento*sum(prob[0]*values))\n",
    "    for i in range(L):\n",
    "        aux_2=revenues[i]+(descuento*sum(prob[i]*values))\n",
    "        T[i]=max(aux_1,aux_2)\n",
    "    return T"
   ]
  },
  {
   "cell_type": "code",
   "execution_count": 51,
   "metadata": {},
   "outputs": [],
   "source": [
    "D=np.array([1., 1., 1., 1., 0., 1.])"
   ]
  },
  {
   "cell_type": "code",
   "execution_count": 52,
   "metadata": {
    "scrolled": true
   },
   "outputs": [],
   "source": [
    "V_D_E=Value_Determination_Equations(D,prob,taza,cost,reward)"
   ]
  },
  {
   "cell_type": "code",
   "execution_count": 53,
   "metadata": {},
   "outputs": [
    {
     "data": {
      "text/plain": [
       "array([ True,  True,  True,  True,  True,  True])"
      ]
     },
     "execution_count": 53,
     "metadata": {},
     "output_type": "execute_result"
    }
   ],
   "source": [
    "Los_T=T_delta(prob,V_D_E,taza,cost,reward)\n",
    "np.around(Los_T,4)==np.around(V_D_E,4)"
   ]
  },
  {
   "cell_type": "code",
   "execution_count": 35,
   "metadata": {},
   "outputs": [
    {
     "name": "stdout",
     "output_type": "stream",
     "text": [
      "[21865.48089437 22165.48089437 22465.48089437 22765.48089437\n",
      " 23144.04931769 23365.48089437]\n",
      "[21865.48089437 22165.48089437 22465.48089437 22765.48089437\n",
      " 23144.04931769 23365.48089437]\n"
     ]
    }
   ],
   "source": [
    "print(V_D_E)\n",
    "print(Los_T)"
   ]
  },
  {
   "cell_type": "code",
   "execution_count": 14,
   "metadata": {},
   "outputs": [],
   "source": [
    "def Search_OP(decisions,prob,descuento,costo,revenues):\n",
    "   \n",
    "    #(D,m_prob,descuento,c,states_reveneus)\n",
    "    V_D_E = Value_Determination_Equations(decisions,prob,descuento,costo,revenues)\n",
    "    Los_T=T_delta(prob,V_D_E,descuento,costo,revenues)\n",
    "    val_Op=np.around(Los_T,4)==np.around(V_D_E,4)\n",
    "    D_p = np.copy(decisions)\n",
    "    if(sum(val_Op)==len(val_Op)):\n",
    "        return(decisions)\n",
    "    else:\n",
    "        for i in range(len(val_Op)):\n",
    "            if (val_Op[i]!=True):\n",
    "                if(decisions[i]==1):\n",
    "                    D_p[i]=0\n",
    "                else:\n",
    "                    D_p[i]=1\n",
    "                    #V_D_Prima = Value_Determination_Equations(D_p,prob,descuento,costo,revenues)\n",
    "                decisions[i]=D_p[i]\n",
    "                return(Search_OP(decisions,prob,descuento,costo,revenues))\n",
    "        #For \n",
    "        #print('recurción')        \n",
    "        "
   ]
  },
  {
   "cell_type": "code",
   "execution_count": 54,
   "metadata": {},
   "outputs": [
    {
     "data": {
      "text/plain": [
       "array([1., 1., 1., 1., 0., 1.])"
      ]
     },
     "execution_count": 54,
     "metadata": {},
     "output_type": "execute_result"
    }
   ],
   "source": [
    "#D=np.array([1,0,0,0,0,1])\n",
    "D=np.ones(S+1)\n",
    "#D=np.array([1 for i in range(S+1)])\n",
    "Optimo=Search_OP(D,prob,taza,cost,reward)\n",
    "Optimo"
   ]
  },
  {
   "cell_type": "code",
   "execution_count": 16,
   "metadata": {},
   "outputs": [
    {
     "data": {
      "text/plain": [
       "4.0"
      ]
     },
     "execution_count": 16,
     "metadata": {},
     "output_type": "execute_result"
    }
   ],
   "source": [
    "sum(Optimo)"
   ]
  },
  {
   "cell_type": "code",
   "execution_count": 17,
   "metadata": {},
   "outputs": [
    {
     "name": "stdout",
     "output_type": "stream",
     "text": [
      "5\n"
     ]
    },
    {
     "data": {
      "text/plain": [
       "array([1, 1, 1, 1, 0, 1])"
      ]
     },
     "execution_count": 17,
     "metadata": {},
     "output_type": "execute_result"
    }
   ],
   "source": [
    "#D=np.array([1,0,0,0,0,1])\n",
    "#D=np.zeros(501)\n",
    "D=np.array([1 for i in range(S+1)])\n",
    "Optimo=Search_OP(D,prob,taza,cost,reward)\n",
    "print(sum(Optimo))\n",
    "Optimo"
   ]
  },
  {
   "cell_type": "code",
   "execution_count": null,
   "metadata": {},
   "outputs": [],
   "source": []
  },
  {
   "cell_type": "code",
   "execution_count": null,
   "metadata": {},
   "outputs": [],
   "source": []
  },
  {
   "cell_type": "code",
   "execution_count": null,
   "metadata": {},
   "outputs": [],
   "source": []
  },
  {
   "cell_type": "code",
   "execution_count": null,
   "metadata": {},
   "outputs": [],
   "source": []
  }
 ],
 "metadata": {
  "kernelspec": {
   "display_name": "Python 3",
   "language": "python",
   "name": "python3"
  },
  "language_info": {
   "codemirror_mode": {
    "name": "ipython",
    "version": 3
   },
   "file_extension": ".py",
   "mimetype": "text/x-python",
   "name": "python",
   "nbconvert_exporter": "python",
   "pygments_lexer": "ipython3",
   "version": "3.6.8"
  }
 },
 "nbformat": 4,
 "nbformat_minor": 2
}
