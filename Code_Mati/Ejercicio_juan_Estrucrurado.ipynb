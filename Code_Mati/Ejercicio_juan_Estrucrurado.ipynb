{
 "cells": [
  {
   "cell_type": "markdown",
   "metadata": {},
   "source": [
    "# Ejemplo\n",
    "Juan vende cervezas artesanales de Lunes a Viernes. Las compra por 300 pesos y vende por 1.500 pesos cada una\n",
    "Juan maneja su inventario de forma semanal, de la siguiente manera:\n",
    "* Juan parte la semana con una cantidad de cervezas en inventario, y vende lascervezas durante la semana.\n",
    "    \n",
    "* Si un cliente quiere comprar una cerveza pero no hay disponible, Juan consideraque pierde 300 pesos por cada cerveza no vendida por falta de clientes.\n",
    "    \n",
    "* Juan vende entre 10 y 40 cervezas por semana.\n",
    "    \n",
    "* El Viernes al final del día Juan hace la contabilidad de costos, y cuenta cuantas unidades tiene en inventario. Según su nivel de inventario, tiene que tomar una decisión.\n",
    "    \n",
    "    * Compra lo suficiente para llenar su frigobar, que tiene una capacidad de S unidades.\n",
    "    * No hacer ningún pedido esta semana.\n",
    "* El pedido llega el Lunes en la mañana.\n",
    "* S=50\n",
    "\n",
    "## ¿Ayude a decidir a Juan cuando comprar, según el inventario que tenga?"
   ]
  },
  {
   "cell_type": "code",
   "execution_count": 2,
   "metadata": {},
   "outputs": [],
   "source": [
    "import numpy as np\n",
    "from numpy import random\n",
    "import collections"
   ]
  },
  {
   "cell_type": "code",
   "execution_count": 19,
   "metadata": {},
   "outputs": [],
   "source": [
    "# Información problema\n",
    "S=5#0 #capacidad max y tamaño de lote\n",
    "a=0#3#0 #Demanda minima\n",
    "b=4#0 #Demanda maxima\n",
    "cost=300#precio cerveza y costo perdida clientes\n",
    "price=1500\n"
   ]
  },
  {
   "cell_type": "markdown",
   "metadata": {},
   "source": [
    "#### Generó las demandas"
   ]
  },
  {
   "cell_type": "code",
   "execution_count": 20,
   "metadata": {},
   "outputs": [
    {
     "data": {
      "text/plain": [
       "Counter({1: 45, 4: 38, 0: 48, 3: 34, 2: 35})"
      ]
     },
     "execution_count": 20,
     "metadata": {},
     "output_type": "execute_result"
    }
   ],
   "source": [
    "random.seed(10)\n",
    "total=200\n",
    "x=random.randint(a,b+1, size=(total))\n",
    "Dem_frec = collections.Counter(x)\n",
    "Dem_frec"
   ]
  },
  {
   "cell_type": "markdown",
   "metadata": {},
   "source": [
    "### Comiezo a generar mi matriz de probaibilidades\n",
    "Esta matriz se estructura de la siguiente forma\n",
    "\n",
    "    Prob[i][j]: es la probailidad de que el inventario i pase al nivel de inventario j en el siguente periodo\n"
   ]
  },
  {
   "cell_type": "code",
   "execution_count": 21,
   "metadata": {},
   "outputs": [],
   "source": [
    "prob =np.zeros([S+1,S+1])"
   ]
  },
  {
   "cell_type": "code",
   "execution_count": 23,
   "metadata": {
    "collapsed": true
   },
   "outputs": [
    {
     "data": {
      "text/plain": [
       "array([[0., 0., 0., 0., 0., 0.],\n",
       "       [0., 0., 0., 0., 0., 0.],\n",
       "       [0., 0., 0., 0., 0., 0.],\n",
       "       [0., 0., 0., 0., 0., 0.],\n",
       "       [0., 0., 0., 0., 0., 0.],\n",
       "       [0., 0., 0., 0., 0., 0.]])"
      ]
     },
     "execution_count": 23,
     "metadata": {},
     "output_type": "execute_result"
    }
   ],
   "source": [
    "prob#[5][5]=1"
   ]
  },
  {
   "cell_type": "code",
   "execution_count": 24,
   "metadata": {},
   "outputs": [],
   "source": [
    "for i in range(S+1):\n",
    "    for j in range(S+1):\n",
    "        dem=i-j\n",
    "        if(S>=dem>=0):\n",
    "           prob[i][j] =Dem_frec[dem]/total\n",
    "    "
   ]
  },
  {
   "cell_type": "code",
   "execution_count": 25,
   "metadata": {},
   "outputs": [
    {
     "data": {
      "text/plain": [
       "array([[0.24 , 0.   , 0.   , 0.   , 0.   , 0.   ],\n",
       "       [0.225, 0.24 , 0.   , 0.   , 0.   , 0.   ],\n",
       "       [0.175, 0.225, 0.24 , 0.   , 0.   , 0.   ],\n",
       "       [0.17 , 0.175, 0.225, 0.24 , 0.   , 0.   ],\n",
       "       [0.19 , 0.17 , 0.175, 0.225, 0.24 , 0.   ],\n",
       "       [0.   , 0.19 , 0.17 , 0.175, 0.225, 0.24 ]])"
      ]
     },
     "execution_count": 25,
     "metadata": {},
     "output_type": "execute_result"
    }
   ],
   "source": [
    "prob"
   ]
  },
  {
   "cell_type": "markdown",
   "metadata": {},
   "source": [
    "### primera idea\n",
    "Esta matriz de probabilidades no sirve para calcular el rebenue esperado, porque no representa la demanda cuando sobrepasa el nivel de stock\n",
    "\n",
    "Para almacenar el expected reward, se utilizará al siguiente estructura:\n",
    "\n",
    "    reward[i][d]:= el expected reward de tomar la decisión d ante un nivel de inventario i.\n",
    "    \n",
    "tomando en cuenta que d, puede tener valores de 0 o 1., sea 0 no realizar la compra y 1 realizar la compra de inventario.\n",
    "\n",
    "## Esta idea es mejor\n",
    "tomando en cuenta que realizar la compra en el periodo t, donde el nivel de inventarios es de i, no afectaria al expected reward del mismo periodo t, ya que la compra afecta al nivel de inventarios del perido siguente. Es por esto que la desición no afecta al expected reward del mismo periodo en donde se toma.\n",
    "\n",
    "Es por ello que para almacenar el expected reward, se utilizará al siguiente estructura:\n",
    "    \n",
    "    reward[i]:= el expected reward ante un nivel de inventario i.\n"
   ]
  },
  {
   "cell_type": "code",
   "execution_count": 26,
   "metadata": {
    "scrolled": true
   },
   "outputs": [
    {
     "name": "stdout",
     "output_type": "stream",
     "text": [
      "-553.5\n",
      "814.5\n",
      "1777.5\n",
      "2425.5\n",
      "2767.5\n",
      "2767.5\n"
     ]
    }
   ],
   "source": [
    "reward=np.zeros(S+1)\n",
    "for i in range(S+1):\n",
    "    r=0\n",
    "    for dem in range(a,b+1):\n",
    "        p=Dem_frec[dem]/total\n",
    "        r_dem=price*min(dem,i)\n",
    "        if(dem>i):\n",
    "            r_dem+=-cost*(dem-i)\n",
    "        r+= p*(r_dem)\n",
    "    print(r)\n",
    "    reward[i]=r"
   ]
  },
  {
   "cell_type": "markdown",
   "metadata": {},
   "source": [
    "# Comenzamos a estructurar esto"
   ]
  },
  {
   "cell_type": "markdown",
   "metadata": {},
   "source": [
    "## Value Determination Equations"
   ]
  },
  {
   "cell_type": "code",
   "execution_count": 87,
   "metadata": {},
   "outputs": [],
   "source": [
    "#funcion para obtener el valor de la ecuaciones\n",
    "def Value_Determination_Equations(decisions,prob,descuento,costo,revenues):\n",
    "    L=len(decisions)\n",
    "    aux=np.zeros([L,L])\n",
    "    B=np.zeros(L)\n",
    "    for i in range(L):\n",
    "        if decisions[i]:\n",
    "        #Juan decide comprar mas cerveza.\n",
    "            aux[i]=prob[L-1]\n",
    "            B[i]=revenues[i]\n",
    "            if(S-i>0):\n",
    "            # si el nivel de inventario es menor al S el costo de pedir puede ser\n",
    "                B[i]+=-costo*(S-i)\n",
    "        else:\n",
    "            aux[i]=prob[i]\n",
    "            B[i]=revenues[i]\n",
    "    A = np.identity(L)-(descuento*aux)\n",
    "    print(A)\n",
    "    X = np.linalg.solve(A,B)\n",
    "    return X\n",
    "    "
   ]
  },
  {
   "cell_type": "code",
   "execution_count": 90,
   "metadata": {},
   "outputs": [
    {
     "name": "stdout",
     "output_type": "stream",
     "text": [
      "[[ 0.76   0.     0.     0.     0.     0.   ]\n",
      " [-0.225  0.76   0.     0.     0.     0.   ]\n",
      " [ 0.    -0.19   0.83  -0.175 -0.225 -0.24 ]\n",
      " [ 0.    -0.19  -0.17   0.825 -0.225 -0.24 ]\n",
      " [ 0.    -0.19  -0.17  -0.175  0.775 -0.24 ]\n",
      " [ 0.    -0.19  -0.17  -0.175 -0.225  0.76 ]]\n"
     ]
    },
    {
     "data": {
      "text/plain": [
       "array([ -728.28947368,   856.09851108, 10617.94061634, 11565.94061634,\n",
       "       12207.94061634, 12507.94061634])"
      ]
     },
     "execution_count": 90,
     "metadata": {},
     "output_type": "execute_result"
    }
   ],
   "source": [
    "D=np.array([0,0,1,1,1,1])\n",
    "\n",
    "Value_Determination_Equations(D,prob,1,cost,reward)"
   ]
  },
  {
   "cell_type": "markdown",
   "metadata": {},
   "source": [
    "# Howard’s Policy Iteration Method"
   ]
  },
  {
   "cell_type": "code",
   "execution_count": 81,
   "metadata": {},
   "outputs": [],
   "source": [
    "def T_delta(prob,values,descuento,costo,revenues):\n",
    "    L=len(values)\n",
    "    T=np.zeros(L)\n",
    "    #aux_1 siempre igual\n",
    "    aux_1=costo+(descuento*sum(prob[0]*values))\n",
    "    for i in range(L):\n",
    "        aux_2=revenues[i]+(descuento*sum(prob[i]*values))\n",
    "        T[i]=max(aux_1,aux_2)\n",
    "    return T\n",
    "        \n",
    "        "
   ]
  },
  {
   "cell_type": "code",
   "execution_count": 85,
   "metadata": {},
   "outputs": [
    {
     "data": {
      "text/plain": [
       "array([3818.62316633, 2202.22396372, 3870.07821835, 5698.45096191,\n",
       "       7666.88372378, 8639.62316633])"
      ]
     },
     "execution_count": 85,
     "metadata": {},
     "output_type": "execute_result"
    }
   ],
   "source": [
    "D=np.array([1,0,0,0,0,1])\n",
    "V_D_E=Value_Determination_Equations(D,prob,1,cost,reward)\n",
    "V_D_E"
   ]
  },
  {
   "cell_type": "code",
   "execution_count": 86,
   "metadata": {},
   "outputs": [
    {
     "data": {
      "text/plain": [
       "array([ 2730.11537528,  5923.1685396 ,  8161.83196333, 10588.29347857,\n",
       "       13824.89432786, 14946.48073032])"
      ]
     },
     "execution_count": 86,
     "metadata": {},
     "output_type": "execute_result"
    }
   ],
   "source": [
    "Los_T"
   ]
  },
  {
   "cell_type": "code",
   "execution_count": 84,
   "metadata": {},
   "outputs": [
    {
     "data": {
      "text/plain": [
       "array([False, False,  True,  True,  True,  True])"
      ]
     },
     "execution_count": 84,
     "metadata": {},
     "output_type": "execute_result"
    }
   ],
   "source": [
    "Los_T=T_delta(prob,V_D_E,1,cost,reward)\n",
    "np.around(Los_T,4)==np.around(V_D_E,4)"
   ]
  }
 ],
 "metadata": {
  "kernelspec": {
   "display_name": "Python 3",
   "language": "python",
   "name": "python3"
  },
  "language_info": {
   "codemirror_mode": {
    "name": "ipython",
    "version": 3
   },
   "file_extension": ".py",
   "mimetype": "text/x-python",
   "name": "python",
   "nbconvert_exporter": "python",
   "pygments_lexer": "ipython3",
   "version": "3.6.8"
  }
 },
 "nbformat": 4,
 "nbformat_minor": 2
}
