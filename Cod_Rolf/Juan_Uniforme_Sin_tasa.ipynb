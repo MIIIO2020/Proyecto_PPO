{
 "cells": [
  {
   "cell_type": "markdown",
   "metadata": {},
   "source": [
    "# Ejemplo(Falta agregar un costo de almacenamiento)\n",
    "Juan vende cervezas artesanales de Lunes a Viernes. Las compra por 300 pesos y vende por 1.500 pesos cada una.\n",
    "Juan maneja su inventario de forma semanal, de la siguiente manera:\n",
    "* El Lunes al comienzo del día Juan hace la contabilidad de costos, y cuenta cuantas unidades tiene en inventario. Según su nivel de inventario, tiene que tomar una decisión.\n",
    "    \n",
    "    * Comprar una cantidad i para atender la clientela la semana j, sin sobrepasar su capacidad de S unidades.\n",
    "    * No hacer ningún pedido esta semana.\n",
    "* Finalmente el pedido lo hace el lunes en la mañana y llega en ese mismo instante, Juan vende las cervezas durante la semana.\n",
    "\n",
    "    \n",
    "* Si un cliente quiere comprar una cerveza pero no hay disponible, Juan consideraque pierde 1200 pesos por cada cerveza no vendida por falta de inventario. (Precio de Venta - Costo de compra)\n",
    "    \n",
    "* Juan vende entre 0 y 400 cervezas por semana. (De momento demanda Uniforme)\n",
    "    \n",
    "\n",
    "* El frigobar de juan tiene una capacidad de 500 cervezas (S=500)\n",
    "* Si la demanda durante la semana sobrepasa el inventario se considera una perdida del beneficio que podría haber recibido ((Precio venta - Precio Compra) * Cantidad de cervezas fuera de inventario)\n",
    "* Juan pide dinero prestado, por lo cual considera una tasa de descuento del dinero de un 10% semanal\n",
    "\n",
    "## ¿Ayude a decidir a Juan cuando comprar, según el inventario que tenga?"
   ]
  },
  {
   "cell_type": "code",
   "execution_count": 1,
   "metadata": {},
   "outputs": [],
   "source": [
    "import numpy as np\n",
    "from numpy import random\n",
    "import collections\n",
    "import time"
   ]
  },
  {
   "cell_type": "code",
   "execution_count": 2,
   "metadata": {},
   "outputs": [],
   "source": [
    "# Información problema\n",
    "S=500#00#20#0 #capacidad max y tamaño de lote\n",
    "a=0#00#0#3#0 #Demanda minima\n",
    "b=400#00#15#0 #Demanda maxima\n",
    "cost=300#precio cerveza y costo perdida clientes\n",
    "price=1500\n",
    "taza=1\n"
   ]
  },
  {
   "cell_type": "markdown",
   "metadata": {},
   "source": [
    "#### Generó las demandas"
   ]
  },
  {
   "cell_type": "code",
   "execution_count": 3,
   "metadata": {
    "scrolled": true
   },
   "outputs": [],
   "source": [
    "random.seed(10)\n",
    "total=50000\n",
    "x=random.randint(a,b+1, size=(total))\n",
    "Dem_frec = collections.Counter(x)"
   ]
  },
  {
   "cell_type": "markdown",
   "metadata": {},
   "source": [
    "### Comiezo a generar mi matriz de probaibilidades\n",
    "Esta matriz se estructura de la siguiente forma\n",
    "\n",
    "    Prob[i][j]: es la probailidad de que el inventario i pase al nivel de inventario j en el siguente periodo\n"
   ]
  },
  {
   "cell_type": "code",
   "execution_count": 4,
   "metadata": {},
   "outputs": [],
   "source": [
    "prob =np.zeros([S+1,S+1])\n",
    "for i in range(S+1):\n",
    "    for j in range(S+1):\n",
    "        dem=i-j\n",
    "        if(S>=dem>=0):\n",
    "            if(dem<i):\n",
    "               prob[i][j] =Dem_frec[dem]/total\n",
    "    prob[i][0] = 1 - sum(prob[i][0:])\n"
   ]
  },
  {
   "cell_type": "markdown",
   "metadata": {},
   "source": [
    "\n",
    "\n",
    "Tomando en cuenta que realizar la compra en el periodo t, donde el nivel de inventarios es de i, no afectaria al expected reward del mismo periodo t, ya que la compra afecta al nivel de inventarios del perido siguente. Es por esto que la desición no afecta al expected reward del mismo periodo en donde se toma.\n",
    "\n",
    "Es por ello que para almacenar el expected reward, se utilizará al siguiente estructura:\n",
    "    \n",
    "    reward[i]:= el expected reward ante un nivel de inventario i.\n"
   ]
  },
  {
   "cell_type": "code",
   "execution_count": 5,
   "metadata": {},
   "outputs": [],
   "source": [
    "# aquí se ajustan los costos de\n",
    "# D>i o D<i\n",
    "\n",
    "reward=np.zeros(S+1)\n",
    "for i in range(S+1):\n",
    "    r=0\n",
    "    for dem in range(a,b+1):\n",
    "        p=Dem_frec[dem]/total\n",
    "        r_dem=price*min(dem,i)\n",
    "        if(dem>=i):\n",
    "            r_dem+=-(price-cost)*(dem-i)\n",
    "        else:\n",
    "            #if(dem<i):#Agrego costo de inventario sobrante\n",
    "            r_dem+= -(cost)*(i-dem)\n",
    "        r+= p*(r_dem)\n",
    "    #print(r)\n",
    "    reward[i]=r"
   ]
  },
  {
   "cell_type": "markdown",
   "metadata": {},
   "source": [
    "# Comenzamos a estructurar esto"
   ]
  },
  {
   "cell_type": "markdown",
   "metadata": {},
   "source": [
    "## Value Determination Equations"
   ]
  },
  {
   "cell_type": "code",
   "execution_count": 6,
   "metadata": {},
   "outputs": [],
   "source": [
    "#funcion para obtener el valor de la ecuaciones\n",
    "def Value_Determination_Equations(decisions,prob,descuento,costo,revenues,S):\n",
    "    L=len(decisions)\n",
    "    aux=np.zeros([L,L])\n",
    "    B=np.zeros(L)\n",
    "    for i in range(L):\n",
    "        cant_comprada_i=decisions[i]\n",
    "        if cant_comprada_i>0:\n",
    "        #Juan decide comprar mas cerveza.\n",
    "            if(cant_comprada_i+i<=S):\n",
    "            # La compra más el inventario debe ser menor a Cap max\n",
    "                B[i]=revenues[cant_comprada_i+i]\n",
    "                B[i]+=-costo*(cant_comprada_i)\n",
    "                aux[i]=prob[cant_comprada_i+i]\n",
    "            else:\n",
    "                B[i]+=-costo*(cant_comprada_i)*10000\n",
    "                aux[i]=prob[i]\n",
    "        else:\n",
    "            aux[i]=prob[i]\n",
    "            B[i]=revenues[i]\n",
    "    aux = np.insert(aux, aux.shape[1], np.zeros(L), 1)\n",
    "    aux = np.insert(aux, aux.shape[0], np.zeros(L+1), 0)\n",
    "    A = np.identity(L+1)-(descuento*aux)\n",
    "    A[:,L] = 1\n",
    "    B = np.append(B, 0)\n",
    "    #print(A)\n",
    "    #print(B)\n",
    "    X = np.linalg.solve(A,B)\n",
    "    #print(X)\n",
    "    X = X[:-1]\n",
    "    #print(X)\n",
    "    return X\n",
    "    "
   ]
  },
  {
   "cell_type": "markdown",
   "metadata": {},
   "source": [
    "# Howard’s Policy Iteration Method"
   ]
  },
  {
   "cell_type": "code",
   "execution_count": 7,
   "metadata": {},
   "outputs": [],
   "source": [
    "def T_delta(prob,values,descuento,costo,revenues):\n",
    "    L=len(values)\n",
    "    T=np.zeros(L)\n",
    "    Cant=np.zeros(L)\n",
    "    for i in range(L):\n",
    "        lista=[]\n",
    "        lista_2=[]\n",
    "        for j in range(i,L):\n",
    "            lista.append(revenues[j]-costo*(j-i)+(descuento*sum(prob[j]*values)))\n",
    "            lista_2.append(j-i)\n",
    "        T[i]=max(lista)#Con i=S soy indiferente a comprar o no\n",
    "        indice=lista.index(T[i])\n",
    "        Cant[i]=lista_2[indice]\n",
    "    return [T,Cant]"
   ]
  },
  {
   "cell_type": "code",
   "execution_count": 81,
   "metadata": {},
   "outputs": [],
   "source": [
    "def Search_OP(decisions,prob,descuento,costo,revenues,S):\n",
    "   \n",
    "    #(D,m_prob,descuento,c,states_reveneus)\n",
    "    V_D_E = Value_Determination_Equations(decisions,prob,descuento,costo,revenues,S)\n",
    "    Los_T, D_T = T_delta(prob,V_D_E,descuento,costo,revenues)\n",
    "    val_Op=np.around(Los_T,4)==np.around(V_D_E,4)\n",
    "    D_p = np.copy(decisions)\n",
    "    if(sum(val_Op)==len(val_Op)):\n",
    "        return(decisions)\n",
    "    else:\n",
    "        for i in range(len(val_Op)):\n",
    "            if (val_Op[i]!=True):\n",
    "                decisions[i]=D_T[i].astype('int')\n",
    "        return(Search_OP(decisions,prob,descuento,costo,revenues,S))\n",
    "        #For \n",
    "        #print('recurción')        \n",
    "        "
   ]
  },
  {
   "cell_type": "code",
   "execution_count": 8,
   "metadata": {},
   "outputs": [],
   "source": [
    "def while_Search_OP(decisions,prob,descuento,costo,revenues,S):\n",
    "    while(True):\n",
    "        \n",
    "        #(D,m_prob,descuento,c,states_reveneus)\n",
    "        V_D_E = Value_Determination_Equations(decisions,prob,descuento,costo,revenues,S)\n",
    "        Los_T, D_T = T_delta(prob,V_D_E,descuento,costo,revenues)\n",
    "        val_Op=np.around(Los_T,4)==np.around(V_D_E,4)\n",
    "        D_p = np.copy(decisions)\n",
    "        if(sum(val_Op)==len(val_Op)):\n",
    "            return(decisions)\n",
    "        else:\n",
    "            for i in range(len(val_Op)):\n",
    "                if (val_Op[i]!=True):\n",
    "                    decisions[i]=D_T[i].astype('int')\n",
    "            #return(Search_OP(decisions,prob,descuento,costo,revenues,S))\n",
    "        #For \n",
    "        #print('recurción')        \n",
    "        "
   ]
  },
  {
   "cell_type": "code",
   "execution_count": null,
   "metadata": {},
   "outputs": [],
   "source": [
    "D=np.ones(S+1).astype('int')\n",
    "start_time = time.time()\n",
    "Optimo=Search_OP(D,prob,taza,cost,reward,S)\n",
    "print(\"--- %s Segundos ---\" % (time.time() - start_time))\n",
    "Optimo"
   ]
  },
  {
   "cell_type": "code",
   "execution_count": 9,
   "metadata": {},
   "outputs": [
    {
     "ename": "LinAlgError",
     "evalue": "Singular matrix",
     "output_type": "error",
     "traceback": [
      "\u001b[1;31m---------------------------------------------------------------------------\u001b[0m",
      "\u001b[1;31mLinAlgError\u001b[0m                               Traceback (most recent call last)",
      "\u001b[1;32m<ipython-input-9-908260e7e3b6>\u001b[0m in \u001b[0;36m<module>\u001b[1;34m\u001b[0m\n\u001b[0;32m      1\u001b[0m \u001b[0mD\u001b[0m\u001b[1;33m=\u001b[0m\u001b[0mnp\u001b[0m\u001b[1;33m.\u001b[0m\u001b[0mones\u001b[0m\u001b[1;33m(\u001b[0m\u001b[0mS\u001b[0m\u001b[1;33m+\u001b[0m\u001b[1;36m1\u001b[0m\u001b[1;33m)\u001b[0m\u001b[1;33m.\u001b[0m\u001b[0mastype\u001b[0m\u001b[1;33m(\u001b[0m\u001b[1;34m'int'\u001b[0m\u001b[1;33m)\u001b[0m\u001b[1;33m\u001b[0m\u001b[1;33m\u001b[0m\u001b[0m\n\u001b[0;32m      2\u001b[0m \u001b[0mstart_time\u001b[0m \u001b[1;33m=\u001b[0m \u001b[0mtime\u001b[0m\u001b[1;33m.\u001b[0m\u001b[0mtime\u001b[0m\u001b[1;33m(\u001b[0m\u001b[1;33m)\u001b[0m\u001b[1;33m\u001b[0m\u001b[1;33m\u001b[0m\u001b[0m\n\u001b[1;32m----> 3\u001b[1;33m \u001b[0mOptimo\u001b[0m\u001b[1;33m=\u001b[0m\u001b[0mwhile_Search_OP\u001b[0m\u001b[1;33m(\u001b[0m\u001b[0mD\u001b[0m\u001b[1;33m,\u001b[0m\u001b[0mprob\u001b[0m\u001b[1;33m,\u001b[0m\u001b[0mtaza\u001b[0m\u001b[1;33m,\u001b[0m\u001b[0mcost\u001b[0m\u001b[1;33m,\u001b[0m\u001b[0mreward\u001b[0m\u001b[1;33m,\u001b[0m\u001b[0mS\u001b[0m\u001b[1;33m)\u001b[0m\u001b[1;33m\u001b[0m\u001b[1;33m\u001b[0m\u001b[0m\n\u001b[0m\u001b[0;32m      4\u001b[0m \u001b[0mprint\u001b[0m\u001b[1;33m(\u001b[0m\u001b[1;34m\"--- %s Segundos ---\"\u001b[0m \u001b[1;33m%\u001b[0m \u001b[1;33m(\u001b[0m\u001b[0mtime\u001b[0m\u001b[1;33m.\u001b[0m\u001b[0mtime\u001b[0m\u001b[1;33m(\u001b[0m\u001b[1;33m)\u001b[0m \u001b[1;33m-\u001b[0m \u001b[0mstart_time\u001b[0m\u001b[1;33m)\u001b[0m\u001b[1;33m)\u001b[0m\u001b[1;33m\u001b[0m\u001b[1;33m\u001b[0m\u001b[0m\n\u001b[0;32m      5\u001b[0m \u001b[0mOptimo\u001b[0m\u001b[1;33m\u001b[0m\u001b[1;33m\u001b[0m\u001b[0m\n",
      "\u001b[1;32m<ipython-input-8-2fc425a6110d>\u001b[0m in \u001b[0;36mwhile_Search_OP\u001b[1;34m(decisions, prob, descuento, costo, revenues, S)\u001b[0m\n\u001b[0;32m      3\u001b[0m \u001b[1;33m\u001b[0m\u001b[0m\n\u001b[0;32m      4\u001b[0m         \u001b[1;31m#(D,m_prob,descuento,c,states_reveneus)\u001b[0m\u001b[1;33m\u001b[0m\u001b[1;33m\u001b[0m\u001b[1;33m\u001b[0m\u001b[0m\n\u001b[1;32m----> 5\u001b[1;33m         \u001b[0mV_D_E\u001b[0m \u001b[1;33m=\u001b[0m \u001b[0mValue_Determination_Equations\u001b[0m\u001b[1;33m(\u001b[0m\u001b[0mdecisions\u001b[0m\u001b[1;33m,\u001b[0m\u001b[0mprob\u001b[0m\u001b[1;33m,\u001b[0m\u001b[0mdescuento\u001b[0m\u001b[1;33m,\u001b[0m\u001b[0mcosto\u001b[0m\u001b[1;33m,\u001b[0m\u001b[0mrevenues\u001b[0m\u001b[1;33m,\u001b[0m\u001b[0mS\u001b[0m\u001b[1;33m)\u001b[0m\u001b[1;33m\u001b[0m\u001b[1;33m\u001b[0m\u001b[0m\n\u001b[0m\u001b[0;32m      6\u001b[0m         \u001b[0mLos_T\u001b[0m\u001b[1;33m,\u001b[0m \u001b[0mD_T\u001b[0m \u001b[1;33m=\u001b[0m \u001b[0mT_delta\u001b[0m\u001b[1;33m(\u001b[0m\u001b[0mprob\u001b[0m\u001b[1;33m,\u001b[0m\u001b[0mV_D_E\u001b[0m\u001b[1;33m,\u001b[0m\u001b[0mdescuento\u001b[0m\u001b[1;33m,\u001b[0m\u001b[0mcosto\u001b[0m\u001b[1;33m,\u001b[0m\u001b[0mrevenues\u001b[0m\u001b[1;33m)\u001b[0m\u001b[1;33m\u001b[0m\u001b[1;33m\u001b[0m\u001b[0m\n\u001b[0;32m      7\u001b[0m         \u001b[0mval_Op\u001b[0m\u001b[1;33m=\u001b[0m\u001b[0mnp\u001b[0m\u001b[1;33m.\u001b[0m\u001b[0maround\u001b[0m\u001b[1;33m(\u001b[0m\u001b[0mLos_T\u001b[0m\u001b[1;33m,\u001b[0m\u001b[1;36m4\u001b[0m\u001b[1;33m)\u001b[0m\u001b[1;33m==\u001b[0m\u001b[0mnp\u001b[0m\u001b[1;33m.\u001b[0m\u001b[0maround\u001b[0m\u001b[1;33m(\u001b[0m\u001b[0mV_D_E\u001b[0m\u001b[1;33m,\u001b[0m\u001b[1;36m4\u001b[0m\u001b[1;33m)\u001b[0m\u001b[1;33m\u001b[0m\u001b[1;33m\u001b[0m\u001b[0m\n",
      "\u001b[1;32m<ipython-input-6-86b1c965c7b7>\u001b[0m in \u001b[0;36mValue_Determination_Equations\u001b[1;34m(decisions, prob, descuento, costo, revenues, S)\u001b[0m\n\u001b[0;32m     26\u001b[0m     \u001b[1;31m#print(A)\u001b[0m\u001b[1;33m\u001b[0m\u001b[1;33m\u001b[0m\u001b[1;33m\u001b[0m\u001b[0m\n\u001b[0;32m     27\u001b[0m     \u001b[1;31m#print(B)\u001b[0m\u001b[1;33m\u001b[0m\u001b[1;33m\u001b[0m\u001b[1;33m\u001b[0m\u001b[0m\n\u001b[1;32m---> 28\u001b[1;33m     \u001b[0mX\u001b[0m \u001b[1;33m=\u001b[0m \u001b[0mnp\u001b[0m\u001b[1;33m.\u001b[0m\u001b[0mlinalg\u001b[0m\u001b[1;33m.\u001b[0m\u001b[0msolve\u001b[0m\u001b[1;33m(\u001b[0m\u001b[0mA\u001b[0m\u001b[1;33m,\u001b[0m\u001b[0mB\u001b[0m\u001b[1;33m)\u001b[0m\u001b[1;33m\u001b[0m\u001b[1;33m\u001b[0m\u001b[0m\n\u001b[0m\u001b[0;32m     29\u001b[0m     \u001b[1;31m#print(X)\u001b[0m\u001b[1;33m\u001b[0m\u001b[1;33m\u001b[0m\u001b[1;33m\u001b[0m\u001b[0m\n\u001b[0;32m     30\u001b[0m     \u001b[0mX\u001b[0m \u001b[1;33m=\u001b[0m \u001b[0mX\u001b[0m\u001b[1;33m[\u001b[0m\u001b[1;33m:\u001b[0m\u001b[1;33m-\u001b[0m\u001b[1;36m1\u001b[0m\u001b[1;33m]\u001b[0m\u001b[1;33m\u001b[0m\u001b[1;33m\u001b[0m\u001b[0m\n",
      "\u001b[1;32m~\\Anaconda3\\lib\\site-packages\\numpy\\linalg\\linalg.py\u001b[0m in \u001b[0;36msolve\u001b[1;34m(a, b)\u001b[0m\n\u001b[0;32m    401\u001b[0m     \u001b[0msignature\u001b[0m \u001b[1;33m=\u001b[0m \u001b[1;34m'DD->D'\u001b[0m \u001b[1;32mif\u001b[0m \u001b[0misComplexType\u001b[0m\u001b[1;33m(\u001b[0m\u001b[0mt\u001b[0m\u001b[1;33m)\u001b[0m \u001b[1;32melse\u001b[0m \u001b[1;34m'dd->d'\u001b[0m\u001b[1;33m\u001b[0m\u001b[1;33m\u001b[0m\u001b[0m\n\u001b[0;32m    402\u001b[0m     \u001b[0mextobj\u001b[0m \u001b[1;33m=\u001b[0m \u001b[0mget_linalg_error_extobj\u001b[0m\u001b[1;33m(\u001b[0m\u001b[0m_raise_linalgerror_singular\u001b[0m\u001b[1;33m)\u001b[0m\u001b[1;33m\u001b[0m\u001b[1;33m\u001b[0m\u001b[0m\n\u001b[1;32m--> 403\u001b[1;33m     \u001b[0mr\u001b[0m \u001b[1;33m=\u001b[0m \u001b[0mgufunc\u001b[0m\u001b[1;33m(\u001b[0m\u001b[0ma\u001b[0m\u001b[1;33m,\u001b[0m \u001b[0mb\u001b[0m\u001b[1;33m,\u001b[0m \u001b[0msignature\u001b[0m\u001b[1;33m=\u001b[0m\u001b[0msignature\u001b[0m\u001b[1;33m,\u001b[0m \u001b[0mextobj\u001b[0m\u001b[1;33m=\u001b[0m\u001b[0mextobj\u001b[0m\u001b[1;33m)\u001b[0m\u001b[1;33m\u001b[0m\u001b[1;33m\u001b[0m\u001b[0m\n\u001b[0m\u001b[0;32m    404\u001b[0m \u001b[1;33m\u001b[0m\u001b[0m\n\u001b[0;32m    405\u001b[0m     \u001b[1;32mreturn\u001b[0m \u001b[0mwrap\u001b[0m\u001b[1;33m(\u001b[0m\u001b[0mr\u001b[0m\u001b[1;33m.\u001b[0m\u001b[0mastype\u001b[0m\u001b[1;33m(\u001b[0m\u001b[0mresult_t\u001b[0m\u001b[1;33m,\u001b[0m \u001b[0mcopy\u001b[0m\u001b[1;33m=\u001b[0m\u001b[1;32mFalse\u001b[0m\u001b[1;33m)\u001b[0m\u001b[1;33m)\u001b[0m\u001b[1;33m\u001b[0m\u001b[1;33m\u001b[0m\u001b[0m\n",
      "\u001b[1;32m~\\Anaconda3\\lib\\site-packages\\numpy\\linalg\\linalg.py\u001b[0m in \u001b[0;36m_raise_linalgerror_singular\u001b[1;34m(err, flag)\u001b[0m\n\u001b[0;32m     95\u001b[0m \u001b[1;33m\u001b[0m\u001b[0m\n\u001b[0;32m     96\u001b[0m \u001b[1;32mdef\u001b[0m \u001b[0m_raise_linalgerror_singular\u001b[0m\u001b[1;33m(\u001b[0m\u001b[0merr\u001b[0m\u001b[1;33m,\u001b[0m \u001b[0mflag\u001b[0m\u001b[1;33m)\u001b[0m\u001b[1;33m:\u001b[0m\u001b[1;33m\u001b[0m\u001b[1;33m\u001b[0m\u001b[0m\n\u001b[1;32m---> 97\u001b[1;33m     \u001b[1;32mraise\u001b[0m \u001b[0mLinAlgError\u001b[0m\u001b[1;33m(\u001b[0m\u001b[1;34m\"Singular matrix\"\u001b[0m\u001b[1;33m)\u001b[0m\u001b[1;33m\u001b[0m\u001b[1;33m\u001b[0m\u001b[0m\n\u001b[0m\u001b[0;32m     98\u001b[0m \u001b[1;33m\u001b[0m\u001b[0m\n\u001b[0;32m     99\u001b[0m \u001b[1;32mdef\u001b[0m \u001b[0m_raise_linalgerror_nonposdef\u001b[0m\u001b[1;33m(\u001b[0m\u001b[0merr\u001b[0m\u001b[1;33m,\u001b[0m \u001b[0mflag\u001b[0m\u001b[1;33m)\u001b[0m\u001b[1;33m:\u001b[0m\u001b[1;33m\u001b[0m\u001b[1;33m\u001b[0m\u001b[0m\n",
      "\u001b[1;31mLinAlgError\u001b[0m: Singular matrix"
     ]
    }
   ],
   "source": [
    "D=np.ones(S+1).astype('int')\n",
    "start_time = time.time()\n",
    "Optimo=while_Search_OP(D,prob,taza,cost,reward,S)\n",
    "print(\"--- %s Segundos ---\" % (time.time() - start_time))\n",
    "Optimo"
   ]
  },
  {
   "cell_type": "code",
   "execution_count": null,
   "metadata": {},
   "outputs": [],
   "source": []
  },
  {
   "cell_type": "code",
   "execution_count": null,
   "metadata": {},
   "outputs": [],
   "source": []
  },
  {
   "cell_type": "code",
   "execution_count": null,
   "metadata": {},
   "outputs": [],
   "source": []
  },
  {
   "cell_type": "code",
   "execution_count": null,
   "metadata": {},
   "outputs": [],
   "source": []
  },
  {
   "cell_type": "code",
   "execution_count": null,
   "metadata": {},
   "outputs": [],
   "source": []
  },
  {
   "cell_type": "code",
   "execution_count": null,
   "metadata": {},
   "outputs": [],
   "source": []
  },
  {
   "cell_type": "markdown",
   "metadata": {},
   "source": [
    "--- 47.435879945755005 seconds ---\n",
    "array([291, 290, 289, 288, 287, 286, 285, 284, 283, 282, 281, 280, 279,\n",
    "       278, 277, 276, 275, 274, 273, 272, 271, 270, 269, 268, 267, 266,\n",
    "       265, 264, 263, 262, 261, 260, 259, 258, 257, 256, 255, 254, 253,\n",
    "       252, 251, 250, 249, 248, 247, 246, 245, 244, 243, 242, 241, 240,\n",
    "       239, 238, 237, 236, 235, 234, 233, 232, 231, 230, 229, 228, 227,\n",
    "       226, 225, 224, 223, 222, 221, 220, 219, 218, 217, 216, 215, 214,\n",
    "       213, 212, 211, 210, 209, 208, 207, 206, 205, 204, 203, 202, 201,\n",
    "       200, 199, 198, 197, 196, 195, 194, 193, 192, 191, 190, 189, 188,\n",
    "       187, 186, 185, 184, 183, 182, 181, 180, 179, 178, 177, 176, 175,\n",
    "       174, 173, 172, 171, 170, 169, 168, 167, 166, 165, 164, 163, 162,\n",
    "       161, 160, 159, 158, 157, 156, 155, 154, 153, 152, 151, 150, 149,\n",
    "       148, 147, 146, 145, 144, 143, 142, 141, 140, 139, 138, 137, 136,\n",
    "       135, 134, 133, 132, 131, 130, 129, 128, 127, 126, 125, 124, 123,\n",
    "       122, 121, 120, 119, 118, 117, 116, 115, 114, 113, 112, 111, 110,\n",
    "       109, 108, 107, 106, 105, 104, 103, 102, 101, 100,  99,  98,  97,\n",
    "        96,  95,  94,  93,  92,  91,  90,  89,  88,  87,  86,  85,  84,\n",
    "        83,  82,  81,  80,  79,  78,  77,  76,  75,  74,  73,  72,  71,\n",
    "        70,  69,  68,  67,  66,  65,  64,  63,  62,  61,  60,  59,  58,\n",
    "        57,  56,  55,  54,  53,  52,  51,  50,  49,  48,  47,  46,  45,\n",
    "        44,  43,  42,  41,  40,  39,  38,  37,  36,  35,  34,  33,  32,\n",
    "        31,  30,  29,  28,  27,  26,  25,  24,  23,  22,  21,  20,  19,\n",
    "        18,  17,  16,  15,  14,  13,  12,  11,  10,   9,   8,   7,   6,\n",
    "         5,   4,   3,   2,   1,   0,   0,   0,   0,   0,   0,   0,   0,\n",
    "         0,   0,   0,   0,   0,   0,   0,   0,   0,   0,   0,   0,   0,\n",
    "         0,   0,   0,   0,   0,   0,   0,   0,   0,   0,   0,   0,   0,\n",
    "         0,   0,   0,   0,   0,   0,   0,   0,   0,   0,   0,   0,   0,\n",
    "         0,   0,   0,   0,   0,   0,   0,   0,   0,   0,   0,   0,   0,\n",
    "         0,   0,   0,   0,   0,   0,   0,   0,   0,   0,   0,   0,   0,\n",
    "         0,   0,   0,   0,   0,   0,   0,   0,   0,   0,   0,   0,   0,\n",
    "         0,   0,   0,   0,   0,   0,   0,   0,   0,   0,   0,   0,   0,\n",
    "         0,   0,   0,   0,   0,   0,   0,   0,   0,   0,   0,   0,   0,\n",
    "         0,   0,   0,   0,   0,   0,   0,   0,   0,   0,   0,   0,   0,\n",
    "         0,   0,   0,   0,   0,   0,   0,   0,   0,   0,   0,   0,   0,\n",
    "         0,   0,   0,   0,   0,   0,   0,   0,   0,   0,   0,   0,   0,\n",
    "         0,   0,   0,   0,   0,   0,   0,   0,   0,   0,   0,   0,   0,\n",
    "         0,   0,   0,   0,   0,   0,   0,   0,   0,   0,   0,   0,   0,\n",
    "         0,   0,   0,   0,   0,   0,   0,   0,   0,   0,   0,   0,   0,\n",
    "         0,   0,   0,   0,   0,   0,   0,   0,   0,   0,   0,   0,   0,\n",
    "         0,   0,   0,   0,   0,   0,   0])"
   ]
  },
  {
   "cell_type": "code",
   "execution_count": 4,
   "metadata": {},
   "outputs": [
    {
     "data": {
      "text/plain": [
       "array([[ 1.,  0.,  0.,  0., 10.],\n",
       "       [ 0.,  1.,  0.,  0., 10.],\n",
       "       [ 0.,  0.,  1.,  0., 10.],\n",
       "       [ 0.,  0.,  0.,  1., 10.]])"
      ]
     },
     "execution_count": 4,
     "metadata": {},
     "output_type": "execute_result"
    }
   ],
   "source": [
    "A = np.identity(4)\n",
    "A = np.insert(A, A.shape[1], np.array((10, 10, 10, 10)), 1)\n",
    "\n",
    "A"
   ]
  },
  {
   "cell_type": "code",
   "execution_count": 5,
   "metadata": {},
   "outputs": [
    {
     "data": {
      "text/plain": [
       "array([[1., 0., 0., 0., 1.],\n",
       "       [0., 1., 0., 0., 1.],\n",
       "       [0., 0., 1., 0., 1.],\n",
       "       [0., 0., 0., 1., 1.]])"
      ]
     },
     "execution_count": 5,
     "metadata": {},
     "output_type": "execute_result"
    }
   ],
   "source": [
    "A = np.identity(4)\n",
    "A = np.insert(A, A.shape[1], np.ones(4), 1)\n",
    "\n",
    "A"
   ]
  },
  {
   "cell_type": "code",
   "execution_count": 33,
   "metadata": {},
   "outputs": [
    {
     "ename": "SyntaxError",
     "evalue": "invalid syntax (<ipython-input-33-aef80d0bafa3>, line 1)",
     "output_type": "error",
     "traceback": [
      "\u001b[0;36m  File \u001b[0;32m\"<ipython-input-33-aef80d0bafa3>\"\u001b[0;36m, line \u001b[0;32m1\u001b[0m\n\u001b[0;31m    a=np.array([[ 0.1643  -0.1643   0.       0.       0.       0.       0.       0.\u001b[0m\n\u001b[0m                                     ^\u001b[0m\n\u001b[0;31mSyntaxError\u001b[0m\u001b[0;31m:\u001b[0m invalid syntax\n"
     ]
    }
   ],
   "source": [
    "a=np.array(["
   ]
  },
  {
   "cell_type": "code",
   "execution_count": 45,
   "metadata": {},
   "outputs": [
    {
     "data": {
      "text/plain": [
       "array([[1., 0., 0., 0., 0., 0., 0., 0., 0., 1.],\n",
       "       [0., 1., 0., 0., 0., 0., 0., 0., 0., 1.],\n",
       "       [0., 0., 1., 0., 0., 0., 0., 0., 0., 1.],\n",
       "       [0., 0., 0., 1., 0., 0., 0., 0., 0., 1.],\n",
       "       [0., 0., 0., 0., 1., 0., 0., 0., 0., 1.],\n",
       "       [0., 0., 0., 0., 0., 1., 0., 0., 0., 1.],\n",
       "       [0., 0., 0., 0., 0., 0., 1., 0., 0., 1.],\n",
       "       [0., 0., 0., 0., 0., 0., 0., 1., 0., 1.],\n",
       "       [0., 0., 0., 0., 0., 0., 0., 0., 1., 1.],\n",
       "       [0., 0., 0., 0., 0., 0., 0., 0., 0., 1.]])"
      ]
     },
     "execution_count": 45,
     "metadata": {},
     "output_type": "execute_result"
    }
   ],
   "source": [
    "A = np.identity(10)\n",
    "A[:,9] = 1\n",
    "A"
   ]
  },
  {
   "cell_type": "code",
   "execution_count": null,
   "metadata": {},
   "outputs": [],
   "source": []
  }
 ],
 "metadata": {
  "kernelspec": {
   "display_name": "Python 3",
   "language": "python",
   "name": "python3"
  },
  "language_info": {
   "codemirror_mode": {
    "name": "ipython",
    "version": 3
   },
   "file_extension": ".py",
   "mimetype": "text/x-python",
   "name": "python",
   "nbconvert_exporter": "python",
   "pygments_lexer": "ipython3",
   "version": "3.6.8"
  }
 },
 "nbformat": 4,
 "nbformat_minor": 2
}
