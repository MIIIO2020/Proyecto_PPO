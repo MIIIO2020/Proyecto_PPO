{
 "cells": [
  {
   "cell_type": "code",
   "execution_count": 1,
   "metadata": {},
   "outputs": [],
   "source": [
    "import numpy as np"
   ]
  },
  {
   "cell_type": "code",
   "execution_count": 32,
   "metadata": {},
   "outputs": [],
   "source": [
    "#next period stats Probabilities\n",
    "\n",
    "m_prob=np.array([[0.7,0.3,0,0],\n",
    "                [0,0.7,0.3,0],\n",
    "                [0,0,0.6,0.4],\n",
    "                [0,0,0,1]]\n",
    "                )\n",
    "states_reveneus=np.array([100,80,50,10])\n",
    "c=-100"
   ]
  },
  {
   "cell_type": "code",
   "execution_count": 35,
   "metadata": {},
   "outputs": [],
   "source": [
    "def Value_Determination_Equations(decisions,prob,descuento,costo,revenues):\n",
    "    l=len(decisions)\n",
    "    aux=np.zeros([l,l])\n",
    "    B=np.zeros(l)\n",
    "    for i in range(l):\n",
    "        if decisions[i]:\n",
    "            aux[i]=m_prob[0]\n",
    "            B[i]=costo\n",
    "        else:\n",
    "            aux[i]=m_prob[i]\n",
    "            B[i]=revenues[i]\n",
    "    A = np.identity(l)-(descuento*aux)\n",
    "    X = np.linalg.solve(A,B)\n",
    "    return X\n",
    "    "
   ]
  },
  {
   "cell_type": "code",
   "execution_count": 37,
   "metadata": {},
   "outputs": [
    {
     "data": {
      "text/plain": [
       "array([690.23141846, 575.50231418, 492.35502314, 490.23141846])"
      ]
     },
     "execution_count": 37,
     "metadata": {},
     "output_type": "execute_result"
    }
   ],
   "source": [
    "D=np.array([0,0,0,1])\n",
    "\n",
    "Value_Determination_Equations(D,m_prob,0.9,c,states_reveneus)"
   ]
  },
  {
   "cell_type": "code",
   "execution_count": 38,
   "metadata": {},
   "outputs": [
    {
     "data": {
      "text/plain": [
       "array([687.8125, 572.1875, 487.8125, 487.8125])"
      ]
     },
     "execution_count": 38,
     "metadata": {},
     "output_type": "execute_result"
    }
   ],
   "source": [
    "D=np.array([0,0,1,1])\n",
    "\n",
    "Value_Determination_Equations(D,m_prob,0.9,c,states_reveneus)"
   ]
  },
  {
   "cell_type": "code",
   "execution_count": null,
   "metadata": {},
   "outputs": [],
   "source": []
  }
 ],
 "metadata": {
  "kernelspec": {
   "display_name": "Python 3",
   "language": "python",
   "name": "python3"
  },
  "language_info": {
   "codemirror_mode": {
    "name": "ipython",
    "version": 3
   },
   "file_extension": ".py",
   "mimetype": "text/x-python",
   "name": "python",
   "nbconvert_exporter": "python",
   "pygments_lexer": "ipython3",
   "version": "3.7.7"
  }
 },
 "nbformat": 4,
 "nbformat_minor": 4
}
