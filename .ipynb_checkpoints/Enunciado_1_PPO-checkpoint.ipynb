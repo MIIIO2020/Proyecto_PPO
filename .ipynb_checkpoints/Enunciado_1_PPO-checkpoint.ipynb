{
 "cells": [
  {
   "cell_type": "markdown",
   "metadata": {},
   "source": [
    "# Ejemplo(Falta agregar un costo de almacenamiento)\n",
    "Juan vende cervezas artesanales de Lunes a Viernes. Las compra por 300 pesos y vende por 1.500 pesos cada una.\n",
    "Juan maneja su inventario de forma semanal, de la siguiente manera:\n",
    "* El Lunes al comienzo del día Juan hace la contabilidad de costos, y cuenta cuantas unidades tiene en inventario. Según su nivel de inventario, tiene que tomar una decisión.\n",
    "    \n",
    "    * Comprar una cantidad i para atender la clientela la semana j, sin sobrepasar su capacidad de S unidades.\n",
    "    * No hacer ningún pedido esta semana.\n",
    "* Finalmente el pedido lo hace el lunes en la mañana y llega en ese mismo instante, Juan vende las cervezas durante la semana.\n",
    "\n",
    "    \n",
    "* Si un cliente quiere comprar una cerveza pero no hay disponible, Juan consideraque pierde 1200 pesos por cada cerveza no vendida por falta de inventario. (Precio de Venta - Costo de compra)\n",
    "    \n",
    "* Juan vende entre 0 y 400 cervezas por semana. (De momento demanda Uniforme)\n",
    "    \n",
    "\n",
    "* El frigobar de juan tiene una capacidad de 500 cervezas (S=500)\n",
    "* Si la demanda durante la semana sobrepasa el inventario se considera una perdida del beneficio que podría haber recibido ((Precio venta - Precio Compra) * Cantidad de cervezas fuera de inventario)\n",
    "* Juan pide dinero prestado, por lo cual considera una tasa de descuento del dinero de un 10% semanal\n",
    "\n",
    "## ¿Ayude a decidir a Juan cuando comprar, según el inventario que tenga?"
   ]
  },
  {
   "cell_type": "code",
   "execution_count": 1,
   "metadata": {},
   "outputs": [],
   "source": [
    "import numpy as np\n",
    "from numpy import random\n",
    "import collections\n",
    "import time"
   ]
  },
  {
   "cell_type": "code",
   "execution_count": 32,
   "metadata": {},
   "outputs": [],
   "source": [
    "# Información problema\n",
    "c = 300   #Precio compra cerveza\n",
    "k = 1000  #Costo hacer pedido\n",
    "v = 1500  #Precio Venta cerveza\n",
    "h = 200   #Costo de almacenamiento Cerveza\n",
    "a = 0     #Demanda minima\n",
    "b = 500 #Demanda maxima\n",
    "S = 1000  #Capacidad maxima inventario\n",
    "tasa=1    #(opcional) -> Simplifica el problema\n"
   ]
  },
  {
   "cell_type": "markdown",
   "metadata": {},
   "source": [
    "#### Se crea la distribución"
   ]
  },
  {
   "cell_type": "code",
   "execution_count": 33,
   "metadata": {
    "scrolled": true
   },
   "outputs": [],
   "source": [
    "random.seed(10)\n",
    "total=100000\n",
    "x=random.randint(a,b+1, size=(total))\n",
    "Dem_frec = collections.Counter(x)"
   ]
  },
  {
   "cell_type": "markdown",
   "metadata": {},
   "source": [
    "### Comiezo a generar mi matriz de probaibilidades\n",
    "Esta matriz se estructura de la siguiente forma\n",
    "\n",
    "    Prob[i][j]: es la probailidad de que el inventario i pase al nivel de inventario j en el siguente periodo\n"
   ]
  },
  {
   "cell_type": "code",
   "execution_count": 34,
   "metadata": {},
   "outputs": [],
   "source": [
    "prob = np.zeros([S+1,S+1])  #Creamos Matriz de ceros\n",
    "for i in range(S+1):        #Posibles estados iniciales\n",
    "    for j in range(i+1):    #Estados de destino\n",
    "        demanda = i-j       #Demanda: Estado inicial menos Estado Final\n",
    "        prob[i,j] = Dem_frec[demanda]/total\n",
    "    prob[i,0] = 1 - sum(prob[i,0:])"
   ]
  },
  {
   "cell_type": "markdown",
   "metadata": {},
   "source": [
    "\n",
    "\n",
    "Tomando en cuenta que realizar la compra en el periodo t, donde el nivel de inventarios es de i, no afectaria al expected reward del mismo periodo t, ya que la compra afecta al nivel de inventarios del perido siguente. Es por esto que la desición no afecta al expected reward del mismo periodo en donde se toma.\n",
    "\n",
    "Es por ello que para almacenar el expected reward, se utilizará al siguiente estructura:\n",
    "    \n",
    "    reward[i]:= el expected reward ante un nivel de inventario i.\n"
   ]
  },
  {
   "cell_type": "code",
   "execution_count": 13,
   "metadata": {},
   "outputs": [],
   "source": [
    "def reward_esperado(Frecuencia_demandas,S,d_minima,d_maxima,total_ensayos,V,H,C):\n",
    "    reward=np.zeros(S+1)    #Creamos vector de beneficios de t\n",
    "    for i in range(S+1):    #Recorremos todos los posibles inventarios\n",
    "        r=0                 #Iniciamos en cero para cada nivel de inventario\n",
    "        for dem in range(d_minima,d_maxima+1):#Recorremos todos las demandas posibles\n",
    "            p_d = Frecuencia_demandas[dem]/total_ensayos # Probabilidad demanda \n",
    "            r_dem = v*min(dem,i)  # Vendemos el minimo entre lo que se tiene y la demanda\n",
    "            if(dem>=i): #Si llega más demanda de la que se puede cubrir\n",
    "                r_dem -= (V-C)*(dem-i) #Costo oportunidad\n",
    "            else:       #Queda inventario para el periodo siguiente\n",
    "                r_dem -= (H)*(i-dem)   #Costo de almacenar \n",
    "            r+= p_d*(r_dem)            \n",
    "            #Suma de todos los beneficios por la probabilidad de la demanda de un nivel de inventario i\n",
    "        reward[i]=r #Beneficio esperado nivel de inventario i\n",
    "    return reward"
   ]
  },
  {
   "cell_type": "markdown",
   "metadata": {},
   "source": [
    "# Comenzamos a estructurar esto"
   ]
  },
  {
   "cell_type": "markdown",
   "metadata": {},
   "source": [
    "## Value Determination Equations"
   ]
  },
  {
   "cell_type": "code",
   "execution_count": 6,
   "metadata": {},
   "outputs": [],
   "source": [
    "#funcion para obtener el valor de la ecuaciones\n",
    "#No quitamos los print por si quieren hacerlo con menos casos y observar los calculos\n",
    "def Value_Determination_Equations(decisions,prob,descuento,costo,revenues,S,K):\n",
    "    L=len(decisions)\n",
    "    aux=np.zeros([L,L]) #Creamos Matriz combinación de desiciones\n",
    "    B=np.zeros(L)       #Creamos Lado derecho del sistema de ecuaciones\n",
    "    for i in range(L):  #Recorremos todas las decisiones\n",
    "        cant_comprada_i=decisions[i] #Almacenamos cuanto fue la decision\n",
    "        if cant_comprada_i>0: #Verificamos si decidio comprar\n",
    "        #Juan decide comprar mas cerveza.\n",
    "            if(cant_comprada_i+i<=S):\n",
    "            # La compra más el inventario debe ser menor a Cap max\n",
    "                B[i] =  revenues[cant_comprada_i+i]#beneficio del nuevo nivel de inventario\n",
    "                B[i] -= costo*(cant_comprada_i)    #Costo de cant cervezas compradas\n",
    "                B[i] -= K                          #Costo de hacer el pedido\n",
    "                aux[i]=prob[cant_comprada_i+i]     #Actualizamos probabilidades del nuevo nivel de inventario\n",
    "            else:#Castigamos en exceso comprar más de S\n",
    "                B[i]+=-costo*(cant_comprada_i)*10000\n",
    "                aux[i]=prob[i]                \n",
    "        else: #No compró\n",
    "            aux[i]=prob[i]   #Probabilidades de mantienen en el nivel de inventario i\n",
    "            B[i]=revenues[i] #Beneficio esperado de nivel de inventario i\n",
    "    aux = np.insert(aux, aux.shape[1], np.zeros(L), 1)  #agregamos columna de ceros\n",
    "    a = np.identity(L) #creamos una identidad\n",
    "    a = np.insert(a, a.shape[1], np.ones(L), 1) #le agregamos una columna llena de unos (constante)\n",
    "    #print(\"a->\",a)    \n",
    "    #print(\"aux->\",aux)\n",
    "    A = a-(descuento*aux) #despejamos la ecuacuacion\n",
    "    A = np.insert(A, A.shape[0], np.zeros(L+1), 0)#agregamos una fila de ceros\n",
    "    A[L,L-1] = 1 #a la fila recien agregada asignamos un uno a la ultima variable que no es la constante\n",
    "    #print(\"A->\",A)\n",
    "    B = np.append(B, 0) #seteamos a 0 la ultima variable\n",
    "    #print(\"B->\",B)\n",
    "    X = np.linalg.solve(A,B) #resuelve el sistema\n",
    "    #print(\"X->\",X)\n",
    "    g = X[L]   #Guardamos la constante\n",
    "    X = X[:-1] #Quitamos la constante \n",
    "    #print(\"X sin g ->\",X)\n",
    "    return [X,g] #Retornamos las variables y la constante\n",
    "    "
   ]
  },
  {
   "cell_type": "markdown",
   "metadata": {},
   "source": [
    "# Howard’s Policy Iteration Method"
   ]
  },
  {
   "cell_type": "code",
   "execution_count": 7,
   "metadata": {},
   "outputs": [],
   "source": [
    "def T_delta(prob,values,descuento,costo,revenues,g,K):\n",
    "    L=len(values)\n",
    "    T=np.zeros(L)#Vector de ceros de los T\n",
    "    decisiones=np.zeros(L) #Vector de ceros de las decisiones\n",
    "    for i in range(L):     #Todos los niveles de inventario\n",
    "        lista=[]           #Lista vacia para los T segun nivel de inventario\n",
    "        lista_2=[]         #Lista vacia para las decisiones \n",
    "        for j in range(i,L): #Desde nivel de inventario hasta llenar la bodega\n",
    "            aux=revenues[j]-g+(descuento*sum(prob[j]*values))\n",
    "            if i!=j:\n",
    "                aux-=K+costo*(j-i)\n",
    "            lista.append(aux) # T_delta\n",
    "            lista_2.append(j-i) #Cuanto se compró\n",
    "        T[i]=max(lista)#Cual es el maximo de los T_delta\n",
    "        indice=lista.index(T[i])#posicion donde está ese maximo\n",
    "        decisiones[i]=lista_2[indice] #almacenamos cual era la mejor decision\n",
    "    return [T,decisiones] #Retornamos T_delta_i y las decisiones"
   ]
  },
  {
   "cell_type": "code",
   "execution_count": 8,
   "metadata": {},
   "outputs": [],
   "source": [
    "def Search_OP(decisions,prob,descuento,costo,revenues,S,K):\n",
    "    V_D_E, G = Value_Determination_Equations(decisions,prob,descuento,costo,revenues,S,K)\n",
    "    #Almacenamos los V y la constante para una decision\n",
    "    Los_T, D_T = T_delta(prob,V_D_E,descuento,costo,revenues,G,K)\n",
    "    #Almacenamos los T_deltas_i y las decisiones para cada nivel de inventario\n",
    "    val_Op=np.around(Los_T,4)==np.around(V_D_E,4) #Verificamos si los T_delta_i son iguales a los V_i\n",
    "    #\n",
    "    if(sum(val_Op)==len(val_Op)): #si todos eran iguales\n",
    "        return(decisions)         #retornamos las decisiones\n",
    "    else:                         #si no son todos iguales\n",
    "        for i in range(S+1): #recorremos las decisiones\n",
    "            if (val_Op[i]!=True):#Si una una comparacion t_delta_i vs V_i no coincidió\n",
    "                decisions[i]=D_T[i].astype('int') #asignamos la nueva decision\n",
    "        return(Search_OP(decisions,prob,descuento,costo,revenues,S,K)) \n",
    "        #volvemos a llamar la misma funcion pero con las nuevas decisiones\n",
    "    "
   ]
  },
  {
   "cell_type": "code",
   "execution_count": 9,
   "metadata": {},
   "outputs": [],
   "source": [
    "def while_Search_OP(decisions,prob,descuento,costo,revenues,S,K):\n",
    "    while(True):\n",
    "        V_D_E, G = Value_Determination_Equations(decisions,prob,descuento,costo,revenues,S,K)\n",
    "        #Almacenamos los V y la constante para una decision\n",
    "        Los_T, D_T = T_delta(prob,V_D_E,descuento,costo,revenues,G,K)\n",
    "        #Almacenamos los T_deltas_i y las decisiones para cada nivel de inventario\n",
    "        val_Op=np.around(Los_T,4)==np.around(V_D_E,4) #Verificamos si los T_delta_i son iguales a los V_i\n",
    "        if(sum(val_Op)==len(val_Op)):\n",
    "            break\n",
    "        else:\n",
    "            for i in range(len(val_Op)):\n",
    "                if (val_Op[i]!=True):\n",
    "                    decisions[i]=D_T[i].astype('int')\n",
    "    return(decisions)"
   ]
  },
  {
   "cell_type": "code",
   "execution_count": null,
   "metadata": {},
   "outputs": [],
   "source": [
    "D=np.zeros(S+1).astype('int')\n",
    "expectet_reward= reward_esperado(Dem_frec,S,a,b,total,v,h,c)\n",
    "start_time = time.time()\n",
    "Optimo_recursion=Search_OP(D,prob,tasa,c,expectet_reward,S,k)\n",
    "segs_recur=time.time() - start_time\n",
    "print(\"Recursión--- %s Segundos ---\" % (segs_recur))\n",
    "Optimo_recursion"
   ]
  },
  {
   "cell_type": "code",
   "execution_count": 37,
   "metadata": {
    "collapsed": true
   },
   "outputs": [
    {
     "ename": "KeyboardInterrupt",
     "evalue": "",
     "output_type": "error",
     "traceback": [
      "\u001b[1;31m---------------------------------------------------------------------------\u001b[0m",
      "\u001b[1;31mKeyboardInterrupt\u001b[0m                         Traceback (most recent call last)",
      "\u001b[1;32m<ipython-input-37-f010897913e1>\u001b[0m in \u001b[0;36m<module>\u001b[1;34m\u001b[0m\n\u001b[0;32m      2\u001b[0m \u001b[0mexpectet_reward\u001b[0m\u001b[1;33m=\u001b[0m \u001b[0mreward_esperado\u001b[0m\u001b[1;33m(\u001b[0m\u001b[0mDem_frec\u001b[0m\u001b[1;33m,\u001b[0m\u001b[0mS\u001b[0m\u001b[1;33m,\u001b[0m\u001b[0ma\u001b[0m\u001b[1;33m,\u001b[0m\u001b[0mb\u001b[0m\u001b[1;33m,\u001b[0m\u001b[0mtotal\u001b[0m\u001b[1;33m,\u001b[0m\u001b[0mv\u001b[0m\u001b[1;33m,\u001b[0m\u001b[0mh\u001b[0m\u001b[1;33m,\u001b[0m\u001b[0mc\u001b[0m\u001b[1;33m)\u001b[0m\u001b[1;33m\u001b[0m\u001b[1;33m\u001b[0m\u001b[0m\n\u001b[0;32m      3\u001b[0m \u001b[0mstart_time\u001b[0m \u001b[1;33m=\u001b[0m \u001b[0mtime\u001b[0m\u001b[1;33m.\u001b[0m\u001b[0mtime\u001b[0m\u001b[1;33m(\u001b[0m\u001b[1;33m)\u001b[0m\u001b[1;33m\u001b[0m\u001b[1;33m\u001b[0m\u001b[0m\n\u001b[1;32m----> 4\u001b[1;33m \u001b[0mOptimo_while\u001b[0m\u001b[1;33m=\u001b[0m\u001b[0mwhile_Search_OP\u001b[0m\u001b[1;33m(\u001b[0m\u001b[0mD\u001b[0m\u001b[1;33m,\u001b[0m\u001b[0mprob\u001b[0m\u001b[1;33m,\u001b[0m\u001b[0mtasa\u001b[0m\u001b[1;33m,\u001b[0m\u001b[0mc\u001b[0m\u001b[1;33m,\u001b[0m\u001b[0mexpectet_reward\u001b[0m\u001b[1;33m,\u001b[0m\u001b[0mS\u001b[0m\u001b[1;33m,\u001b[0m\u001b[0mk\u001b[0m\u001b[1;33m)\u001b[0m\u001b[1;33m\u001b[0m\u001b[1;33m\u001b[0m\u001b[0m\n\u001b[0m\u001b[0;32m      5\u001b[0m \u001b[0msegs_while\u001b[0m\u001b[1;33m=\u001b[0m\u001b[0mtime\u001b[0m\u001b[1;33m.\u001b[0m\u001b[0mtime\u001b[0m\u001b[1;33m(\u001b[0m\u001b[1;33m)\u001b[0m \u001b[1;33m-\u001b[0m \u001b[0mstart_time\u001b[0m\u001b[1;33m\u001b[0m\u001b[1;33m\u001b[0m\u001b[0m\n\u001b[0;32m      6\u001b[0m \u001b[0mprint\u001b[0m\u001b[1;33m(\u001b[0m\u001b[1;34m\"While   --- %s Segundos ---\"\u001b[0m \u001b[1;33m%\u001b[0m \u001b[1;33m(\u001b[0m\u001b[0mtime\u001b[0m\u001b[1;33m.\u001b[0m\u001b[0mtime\u001b[0m\u001b[1;33m(\u001b[0m\u001b[1;33m)\u001b[0m \u001b[1;33m-\u001b[0m \u001b[0mstart_time\u001b[0m\u001b[1;33m)\u001b[0m\u001b[1;33m)\u001b[0m\u001b[1;33m\u001b[0m\u001b[1;33m\u001b[0m\u001b[0m\n",
      "\u001b[1;32m<ipython-input-9-2b646312025a>\u001b[0m in \u001b[0;36mwhile_Search_OP\u001b[1;34m(decisions, prob, descuento, costo, revenues, S, K)\u001b[0m\n\u001b[0;32m      3\u001b[0m         \u001b[0mV_D_E\u001b[0m\u001b[1;33m,\u001b[0m \u001b[0mG\u001b[0m \u001b[1;33m=\u001b[0m \u001b[0mValue_Determination_Equations\u001b[0m\u001b[1;33m(\u001b[0m\u001b[0mdecisions\u001b[0m\u001b[1;33m,\u001b[0m\u001b[0mprob\u001b[0m\u001b[1;33m,\u001b[0m\u001b[0mdescuento\u001b[0m\u001b[1;33m,\u001b[0m\u001b[0mcosto\u001b[0m\u001b[1;33m,\u001b[0m\u001b[0mrevenues\u001b[0m\u001b[1;33m,\u001b[0m\u001b[0mS\u001b[0m\u001b[1;33m,\u001b[0m\u001b[0mK\u001b[0m\u001b[1;33m)\u001b[0m\u001b[1;33m\u001b[0m\u001b[1;33m\u001b[0m\u001b[0m\n\u001b[0;32m      4\u001b[0m         \u001b[1;31m#Almacenamos los V y la constante para una decision\u001b[0m\u001b[1;33m\u001b[0m\u001b[1;33m\u001b[0m\u001b[1;33m\u001b[0m\u001b[0m\n\u001b[1;32m----> 5\u001b[1;33m         \u001b[0mLos_T\u001b[0m\u001b[1;33m,\u001b[0m \u001b[0mD_T\u001b[0m \u001b[1;33m=\u001b[0m \u001b[0mT_delta\u001b[0m\u001b[1;33m(\u001b[0m\u001b[0mprob\u001b[0m\u001b[1;33m,\u001b[0m\u001b[0mV_D_E\u001b[0m\u001b[1;33m,\u001b[0m\u001b[0mdescuento\u001b[0m\u001b[1;33m,\u001b[0m\u001b[0mcosto\u001b[0m\u001b[1;33m,\u001b[0m\u001b[0mrevenues\u001b[0m\u001b[1;33m,\u001b[0m\u001b[0mG\u001b[0m\u001b[1;33m,\u001b[0m\u001b[0mK\u001b[0m\u001b[1;33m)\u001b[0m\u001b[1;33m\u001b[0m\u001b[1;33m\u001b[0m\u001b[0m\n\u001b[0m\u001b[0;32m      6\u001b[0m         \u001b[1;31m#Almacenamos los T_deltas_i y las decisiones para cada nivel de inventario\u001b[0m\u001b[1;33m\u001b[0m\u001b[1;33m\u001b[0m\u001b[1;33m\u001b[0m\u001b[0m\n\u001b[0;32m      7\u001b[0m         \u001b[0mval_Op\u001b[0m\u001b[1;33m=\u001b[0m\u001b[0mnp\u001b[0m\u001b[1;33m.\u001b[0m\u001b[0maround\u001b[0m\u001b[1;33m(\u001b[0m\u001b[0mLos_T\u001b[0m\u001b[1;33m,\u001b[0m\u001b[1;36m4\u001b[0m\u001b[1;33m)\u001b[0m\u001b[1;33m==\u001b[0m\u001b[0mnp\u001b[0m\u001b[1;33m.\u001b[0m\u001b[0maround\u001b[0m\u001b[1;33m(\u001b[0m\u001b[0mV_D_E\u001b[0m\u001b[1;33m,\u001b[0m\u001b[1;36m4\u001b[0m\u001b[1;33m)\u001b[0m \u001b[1;31m#Verificamos si los T_delta_i son iguales a los V_i\u001b[0m\u001b[1;33m\u001b[0m\u001b[1;33m\u001b[0m\u001b[0m\n",
      "\u001b[1;32m<ipython-input-7-71dd249fd3ec>\u001b[0m in \u001b[0;36mT_delta\u001b[1;34m(prob, values, descuento, costo, revenues, g, K)\u001b[0m\n\u001b[0;32m      7\u001b[0m         \u001b[0mlista_2\u001b[0m\u001b[1;33m=\u001b[0m\u001b[1;33m[\u001b[0m\u001b[1;33m]\u001b[0m         \u001b[1;31m#Lista vacia para las decisiones\u001b[0m\u001b[1;33m\u001b[0m\u001b[1;33m\u001b[0m\u001b[0m\n\u001b[0;32m      8\u001b[0m         \u001b[1;32mfor\u001b[0m \u001b[0mj\u001b[0m \u001b[1;32min\u001b[0m \u001b[0mrange\u001b[0m\u001b[1;33m(\u001b[0m\u001b[0mi\u001b[0m\u001b[1;33m,\u001b[0m\u001b[0mL\u001b[0m\u001b[1;33m)\u001b[0m\u001b[1;33m:\u001b[0m \u001b[1;31m#Desde nivel de inventario hasta llenar la bodega\u001b[0m\u001b[1;33m\u001b[0m\u001b[1;33m\u001b[0m\u001b[0m\n\u001b[1;32m----> 9\u001b[1;33m             \u001b[0maux\u001b[0m\u001b[1;33m=\u001b[0m\u001b[0mrevenues\u001b[0m\u001b[1;33m[\u001b[0m\u001b[0mj\u001b[0m\u001b[1;33m]\u001b[0m\u001b[1;33m-\u001b[0m\u001b[0mg\u001b[0m\u001b[1;33m+\u001b[0m\u001b[1;33m(\u001b[0m\u001b[0mdescuento\u001b[0m\u001b[1;33m*\u001b[0m\u001b[0msum\u001b[0m\u001b[1;33m(\u001b[0m\u001b[0mprob\u001b[0m\u001b[1;33m[\u001b[0m\u001b[0mj\u001b[0m\u001b[1;33m]\u001b[0m\u001b[1;33m*\u001b[0m\u001b[0mvalues\u001b[0m\u001b[1;33m)\u001b[0m\u001b[1;33m)\u001b[0m\u001b[1;33m\u001b[0m\u001b[1;33m\u001b[0m\u001b[0m\n\u001b[0m\u001b[0;32m     10\u001b[0m             \u001b[1;32mif\u001b[0m \u001b[0mi\u001b[0m\u001b[1;33m!=\u001b[0m\u001b[0mj\u001b[0m\u001b[1;33m:\u001b[0m\u001b[1;33m\u001b[0m\u001b[1;33m\u001b[0m\u001b[0m\n\u001b[0;32m     11\u001b[0m                 \u001b[0maux\u001b[0m\u001b[1;33m-=\u001b[0m\u001b[0mK\u001b[0m\u001b[1;33m+\u001b[0m\u001b[0mcosto\u001b[0m\u001b[1;33m*\u001b[0m\u001b[1;33m(\u001b[0m\u001b[0mj\u001b[0m\u001b[1;33m-\u001b[0m\u001b[0mi\u001b[0m\u001b[1;33m)\u001b[0m\u001b[1;33m\u001b[0m\u001b[1;33m\u001b[0m\u001b[0m\n",
      "\u001b[1;31mKeyboardInterrupt\u001b[0m: "
     ]
    }
   ],
   "source": [
    "D=np.zeros(S+1).astype('int')\n",
    "expectet_reward= reward_esperado(Dem_frec,S,a,b,total,v,h,c)\n",
    "start_time = time.time()\n",
    "Optimo_while=while_Search_OP(D,prob,tasa,c,expectet_reward,S,k)\n",
    "segs_while=time.time() - start_time\n",
    "print(\"While   --- %s Segundos ---\" % (time.time() - start_time))\n",
    "Optimo_while"
   ]
  },
  {
   "cell_type": "code",
   "execution_count": null,
   "metadata": {},
   "outputs": [],
   "source": [
    "print(\"Tiempo de ejecución Recursión:\",segs_recur/60,\"minutos\")\n",
    "print(\"Tiempo de ejecución While:    \",segs_while/60,\"minutos\")"
   ]
  },
  {
   "cell_type": "markdown",
   "metadata": {},
   "source": [
    "\n",
    "## MacBoook \n",
    "* 4Gb ram\n",
    "* Procesador i5 \n",
    "    * 1,6 Ghz\n",
    "    * dos nucleos\n",
    "\n",
    "Tiempo de ejecución Recursión: 6.809228885173797 minutos\n",
    "\n",
    "Tiempo de ejecución While:     10.240458079179128 minutos"
   ]
  },
  {
   "cell_type": "code",
   "execution_count": 40,
   "metadata": {},
   "outputs": [
    {
     "data": {
      "text/plain": [
       "array([61, 60, 59, 58, 57, 56, 55, 54, 53, 52, 51, 50, 49, 48, 47, 46, 45,\n",
       "       44, 43, 42, 41, 40, 39, 38, 37, 36, 35, 34, 33, 32, 31, 30, 29, 28,\n",
       "       27, 26, 25, 24, 23, 22, 21, 20, 19, 18,  0,  0,  0,  0,  0,  0,  0,\n",
       "        0,  0,  0,  0,  0,  0,  0,  0,  0,  0,  0,  0,  0,  0])"
      ]
     },
     "execution_count": 40,
     "metadata": {},
     "output_type": "execute_result"
    }
   ],
   "source": [
    "Optimo_while[400:465]"
   ]
  },
  {
   "cell_type": "code",
   "execution_count": 41,
   "metadata": {},
   "outputs": [
    {
     "data": {
      "text/plain": [
       "array([61, 60, 59, 58, 57, 56, 55, 54, 53, 52, 51, 50, 49, 48, 47, 46, 45,\n",
       "       44, 43, 42, 41, 40, 39, 38, 37, 36, 35, 34, 33, 32, 31, 30, 29, 28,\n",
       "       27, 26, 25, 24, 23, 22, 21, 20, 19, 18,  0,  0,  0,  0,  0,  0,  0,\n",
       "        0,  0,  0,  0,  0,  0,  0,  0,  0,  0,  0,  0,  0,  0])"
      ]
     },
     "execution_count": 41,
     "metadata": {},
     "output_type": "execute_result"
    }
   ],
   "source": [
    "Optimo_recursion[400:465]"
   ]
  },
  {
   "cell_type": "code",
   "execution_count": 46,
   "metadata": {},
   "outputs": [],
   "source": [
    "par_decision_inventario=[]\n",
    "quiebre=0\n",
    "binaria=True\n",
    "for i in range(len(Optimo_while)):\n",
    "    if binaria and Optimo_while[i]==0:\n",
    "        binaria=False\n",
    "        quiebre=i-1\n",
    "    aux=[i,Optimo_while[i]]\n",
    "    par_decision_inventario.append(aux)"
   ]
  },
  {
   "cell_type": "code",
   "execution_count": 47,
   "metadata": {},
   "outputs": [
    {
     "data": {
      "text/plain": [
       "[[438, 23],\n",
       " [439, 22],\n",
       " [440, 21],\n",
       " [441, 20],\n",
       " [442, 19],\n",
       " [443, 18],\n",
       " [444, 0],\n",
       " [445, 0],\n",
       " [446, 0],\n",
       " [447, 0]]"
      ]
     },
     "execution_count": 47,
     "metadata": {},
     "output_type": "execute_result"
    }
   ],
   "source": [
    "par_decision_inventario[quiebre-5:quiebre+5]"
   ]
  },
  {
   "cell_type": "code",
   "execution_count": 48,
   "metadata": {},
   "outputs": [
    {
     "data": {
      "text/plain": [
       "443"
      ]
     },
     "execution_count": 48,
     "metadata": {},
     "output_type": "execute_result"
    }
   ],
   "source": [
    "quiebre"
   ]
  },
  {
   "cell_type": "code",
   "execution_count": null,
   "metadata": {},
   "outputs": [],
   "source": []
  }
 ],
 "metadata": {
  "kernelspec": {
   "display_name": "Python 3",
   "language": "python",
   "name": "python3"
  },
  "language_info": {
   "codemirror_mode": {
    "name": "ipython",
    "version": 3
   },
   "file_extension": ".py",
   "mimetype": "text/x-python",
   "name": "python",
   "nbconvert_exporter": "python",
   "pygments_lexer": "ipython3",
   "version": "3.6.8"
  }
 },
 "nbformat": 4,
 "nbformat_minor": 2
}
