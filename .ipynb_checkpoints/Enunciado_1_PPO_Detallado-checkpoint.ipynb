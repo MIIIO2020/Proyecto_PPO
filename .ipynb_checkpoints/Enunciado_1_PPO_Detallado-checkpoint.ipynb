{
 "cells": [
  {
   "cell_type": "markdown",
   "metadata": {},
   "source": [
    "# Ejemplo(Falta agregar un costo de almacenamiento)\n",
    "Juan vende cervezas artesanales de Lunes a Viernes. Las compra por 300 pesos y vende por 1.500 pesos cada una.\n",
    "Juan maneja su inventario de forma semanal, de la siguiente manera:\n",
    "* El Lunes al comienzo del día Juan hace la contabilidad de costos, y cuenta cuantas unidades tiene en inventario. Según su nivel de inventario, tiene que tomar una decisión.\n",
    "    \n",
    "    * Comprar una cantidad i para atender la clientela la semana j, sin sobrepasar su capacidad de S unidades.\n",
    "    * No hacer ningún pedido esta semana.\n",
    "* Finalmente el pedido lo hace el lunes en la mañana y llega en ese mismo instante, Juan vende las cervezas durante la semana.\n",
    "\n",
    "    \n",
    "* Si un cliente quiere comprar una cerveza pero no hay disponible, Juan consideraque pierde 1200 pesos por cada cerveza no vendida por falta de inventario. (Precio de Venta - Costo de compra)\n",
    "    \n",
    "* Juan vende entre 0 y 400 cervezas por semana. (De momento demanda Uniforme)\n",
    "    \n",
    "\n",
    "* El frigobar de juan tiene una capacidad de 500 cervezas (S=500)\n",
    "* Si la demanda durante la semana sobrepasa el inventario se considera una perdida del beneficio que podría haber recibido ((Precio venta - Precio Compra) * Cantidad de cervezas fuera de inventario)\n",
    "* Juan pide dinero prestado, por lo cual considera una tasa de descuento del dinero de un 10% semanal\n",
    "\n",
    "## ¿Ayude a decidir a Juan cuando comprar, según el inventario que tenga?"
   ]
  },
  {
   "cell_type": "code",
   "execution_count": 2,
   "metadata": {},
   "outputs": [],
   "source": [
    "import numpy as np\n",
    "from numpy import random\n",
    "import collections\n",
    "import time"
   ]
  },
  {
   "cell_type": "code",
   "execution_count": 93,
   "metadata": {},
   "outputs": [],
   "source": [
    "# Información problema\n",
    "c = 300   #Precio compra cerveza\n",
    "k = 1000  #Costo hacer pedido\n",
    "v = 1500  #Precio Venta cerveza\n",
    "h = 200   #Costo de almacenamiento Cerveza\n",
    "a = 0     #Demanda minima\n",
    "b = 3  #Demanda maxima\n",
    "S = 4   #Capacidad maxima inventario\n",
    "tasa=1    #(opcional) -> Simplifica el problema\n",
    "prob_uniforme = (1)/(b-a+1)    #Probabilidad de la demanda(Discreta)"
   ]
  },
  {
   "cell_type": "markdown",
   "metadata": {},
   "source": [
    "### Comiezo a generar mi matriz de probabilidades\n",
    "Esta matriz se estructura de la siguiente forma\n",
    "\n",
    "    Prob[i][j]: es la probalidad de que el inventario i pase al nivel de inventario j en el siguente periodo\n"
   ]
  },
  {
   "cell_type": "code",
   "execution_count": 94,
   "metadata": {},
   "outputs": [],
   "source": [
    "prob = np.zeros([S+1,S+1])  #Creamos Matriz de ceros\n",
    "for i in range(S+1):        #Posibles estados iniciales\n",
    "    for j in range(i,-1,-1):    #Estados de destino\n",
    "        if sum(prob[i])<1:\n",
    "            prob[i,j] = prob_uniforme\n",
    "    prob[i,0] = 1 - sum(prob[i,1:])"
   ]
  },
  {
   "cell_type": "code",
   "execution_count": 95,
   "metadata": {},
   "outputs": [
    {
     "name": "stdout",
     "output_type": "stream",
     "text": [
      "      ---Matriz de Probabilidades---\n",
      "[[1.   0.   0.   0.   0.  ]\n",
      " [0.75 0.25 0.   0.   0.  ]\n",
      " [0.5  0.25 0.25 0.   0.  ]\n",
      " [0.25 0.25 0.25 0.25 0.  ]\n",
      " [0.   0.25 0.25 0.25 0.25]]\n"
     ]
    }
   ],
   "source": [
    "print(\"      ---Matriz de Probabilidades---\")\n",
    "print(prob)"
   ]
  },
  {
   "cell_type": "markdown",
   "metadata": {},
   "source": [
    "\n",
    "\n",
    "Tomando en cuenta que realizar la compra en el periodo t, donde el nivel de inventarios es de i, no afectaria al expected reward del mismo periodo t, ya que la compra afecta al nivel de inventarios del perido siguente. Es por esto que la desición no afecta al expected reward del mismo periodo en donde se toma.\n",
    "\n",
    "Es por ello que para almacenar el expected reward, se utilizará al siguiente estructura:\n",
    "    \n",
    "    reward[i]:= el expected reward ante un nivel de inventario i.\n"
   ]
  },
  {
   "cell_type": "code",
   "execution_count": 96,
   "metadata": {},
   "outputs": [],
   "source": [
    "def reward_esperado(prob_dist,S,d_minima,d_maxima,V,H,C):\n",
    "    reward=np.zeros(S+1)    #Creamos vector de beneficios de t\n",
    "    for i in range(S+1):    #Recorremos todos los posibles inventarios\n",
    "        r=0                 #Iniciamos en cero para cada nivel de inventario\n",
    "        for dem in range(d_minima,d_maxima+1):#Recorremos todos las demandas posibles\n",
    "            p_d = prob_dist # Probabilidad demanda \n",
    "            r_dem = v*min(dem,i)  # Vendemos el minimo entre lo que se tiene y la demanda\n",
    "            if(dem>=i): #Si llega más demanda de la que se puede cubrir\n",
    "                r_dem -= (V-C)*(dem-i) #Costo oportunidad\n",
    "            else:       #Queda inventario para el periodo siguiente\n",
    "                r_dem -= (H)*(i-dem)   #Costo de almacenar \n",
    "            r+= p_d*(r_dem)            \n",
    "            #Suma de todos los beneficios por la probabilidad de la demanda de un nivel de inventario i\n",
    "        reward[i]=r #Beneficio esperado nivel de inventario i\n",
    "    return reward"
   ]
  },
  {
   "cell_type": "markdown",
   "metadata": {},
   "source": [
    "# Comenzamos a estructurar esto"
   ]
  },
  {
   "cell_type": "markdown",
   "metadata": {},
   "source": [
    "## Value Determination Equations"
   ]
  },
  {
   "cell_type": "code",
   "execution_count": 97,
   "metadata": {},
   "outputs": [],
   "source": [
    "#funcion para obtener el valor de la ecuaciones\n",
    "#No quitamos los print por si quieren hacerlo con menos casos y observar los calculos\n",
    "def Value_Determination_Equations(decisions,prob,descuento,costo,revenues,S,K):\n",
    "    L=len(decisions)\n",
    "    aux=np.zeros([L,L]) #Creamos Matriz combinación de desiciones\n",
    "    B=np.zeros(L)       #Creamos Lado derecho del sistema de ecuaciones\n",
    "    for i in range(L):  #Recorremos todas las decisiones\n",
    "        cant_comprada_i=decisions[i] #Almacenamos cuanto fue la decision\n",
    "        if cant_comprada_i>0: #Verificamos si decidio comprar\n",
    "        #Juan decide comprar mas cerveza.\n",
    "            if(cant_comprada_i+i<=S):\n",
    "            # La compra más el inventario debe ser menor a Cap max\n",
    "                B[i] =  revenues[cant_comprada_i+i]#beneficio del nuevo nivel de inventario\n",
    "                B[i] -= costo*(cant_comprada_i)    #Costo de cant cervezas compradas\n",
    "                B[i] -= K                          #Costo de hacer el pedido\n",
    "                aux[i]=prob[cant_comprada_i+i]     #Actualizamos probabilidades del nuevo nivel de inventario\n",
    "            else:#Castigamos en exceso comprar más de S\n",
    "                B[i]+=-costo*(cant_comprada_i)*10000\n",
    "                aux[i]=prob[i]                \n",
    "        else: #No compró\n",
    "            aux[i]=prob[i]   #Probabilidades de mantienen en el nivel de inventario i\n",
    "            B[i]=revenues[i] #Beneficio esperado de nivel de inventario i\n",
    "    aux = np.insert(aux, aux.shape[1], np.zeros(L), 1)  #agregamos columna de ceros\n",
    "    a = np.identity(L) #creamos una identidad\n",
    "    a = np.insert(a, a.shape[1], np.ones(L), 1) #le agregamos una columna llena de unos (constante)\n",
    "    #print(\"a->\",a)    \n",
    "    #print(\"aux->\",aux)\n",
    "    A = a-(descuento*aux) #despejamos la ecuacuacion\n",
    "    A = np.insert(A, A.shape[0], np.zeros(L+1), 0)#agregamos una fila de ceros\n",
    "    A[L,L-1] = 1 #a la fila recien agregada asignamos un uno a la ultima variable que no es la constante\n",
    "    #print(\"A->\",A)\n",
    "    B = np.append(B, 0) #seteamos a 0 la ultima variable\n",
    "    #print(\"B->\",B)\n",
    "    X = np.linalg.solve(A,B) #resuelve el sistema\n",
    "    #print(\"X->\",X)\n",
    "    g = X[L]   #Guardamos la constante\n",
    "    X = X[:-1] #Quitamos la constante \n",
    "    #print(\"X sin g ->\",X)\n",
    "    return [X,g] #Retornamos las variables y la constante\n",
    "    "
   ]
  },
  {
   "cell_type": "markdown",
   "metadata": {},
   "source": [
    "# Howard’s Policy Iteration Method"
   ]
  },
  {
   "cell_type": "code",
   "execution_count": 98,
   "metadata": {},
   "outputs": [],
   "source": [
    "def T_delta(prob,values,descuento,costo,revenues,g,K):\n",
    "    L=len(values)\n",
    "    T=np.zeros(L)#Vector de ceros de los T\n",
    "    decisiones=np.zeros(L) #Vector de ceros de las decisiones\n",
    "    for i in range(L):     #Todos los niveles de inventario\n",
    "        lista=[]           #Lista vacia para los T segun nivel de inventario\n",
    "        lista_2=[]         #Lista vacia para las decisiones \n",
    "        for j in range(i,L): #Desde nivel de inventario hasta llenar la bodega\n",
    "            aux=revenues[j]-g+(descuento*sum(prob[j]*values))\n",
    "            if i!=j:\n",
    "                aux-=K+costo*(j-i)\n",
    "            lista.append(aux) # T_delta\n",
    "            lista_2.append(j-i) #Cuanto se compró\n",
    "        T[i]=max(lista)#Cual es el maximo de los T_delta\n",
    "        indice=lista.index(T[i])#posicion donde está ese maximo\n",
    "        decisiones[i]=lista_2[indice] #almacenamos cual era la mejor decision\n",
    "    return [T,decisiones] #Retornamos T_delta_i y las decisiones"
   ]
  },
  {
   "cell_type": "code",
   "execution_count": 99,
   "metadata": {},
   "outputs": [],
   "source": [
    "def Search_OP(decisions,prob,descuento,costo,revenues,S,K,contador):\n",
    "    print(\"\\n\")\n",
    "    print(\"Comenzamos iteración\",contador)\n",
    "    print(\"Con las siguientes decisiones:\")\n",
    "    print(decisions)\n",
    "    print(\"\\n\")\n",
    "    V_D_E, G = Value_Determination_Equations(decisions,prob,descuento,costo,revenues,S,K)\n",
    "    print(\"Con las decisiones resolvemos el sistema de ecuaciones y obtenemos los siguientes valores(V_D_E):\")\n",
    "    print(V_D_E)\n",
    "    print(\"\\n\")\n",
    "    #Almacenamos los V y la constante para una decision\n",
    "    Los_T, D_T = T_delta(prob,V_D_E,descuento,costo,revenues,G,K)\n",
    "    print(\"Con los valores calculamos Los T_delta:\")\n",
    "    print(Los_T)\n",
    "    print(\"\\n\")\n",
    "    print(\"Lo que equivale a las siguientes decisiones:\")\n",
    "    print(D_T)\n",
    "    print(\"\\n\")\n",
    "    #Almacenamos los T_deltas_i y las decisiones para cada nivel de inventario\n",
    "    val_Op=np.around(Los_T,4)==np.around(V_D_E,4) #Verificamos si los T_delta_i son iguales a los V_i\n",
    "    print(\"Igualamos los V_D_E con T_delta, y obtenemos el siguiente vector:\")\n",
    "    print(val_Op)\n",
    "    print(\"\\n\")\n",
    "    if(sum(val_Op)==len(val_Op)): #si todos eran iguales\n",
    "        return(decisions)         #retornamos las decisiones\n",
    "    else:                         #si no son todos iguales\n",
    "        for i in range(S+1): #recorremos las decisiones\n",
    "            if (val_Op[i]!=True):#Si una una comparacion t_delta_i vs V_i no coincidió\n",
    "                decisions[i]=D_T[i].astype('int') #asignamos la nueva decision\n",
    "        print(\"\\n\")\n",
    "        print(\"_\"*80)\n",
    "        \n",
    "        return(Search_OP(decisions,prob,descuento,costo,revenues,S,K,contador+1))\n",
    "    \n",
    "        #volvemos a llamar la misma funcion pero con las nuevas decisiones\n",
    "    "
   ]
  },
  {
   "cell_type": "code",
   "execution_count": 100,
   "metadata": {},
   "outputs": [],
   "source": [
    "def while_Search_OP(decisions,prob,descuento,costo,revenues,S,K):\n",
    "    while(True):\n",
    "        V_D_E, G = Value_Determination_Equations(decisions,prob,descuento,costo,revenues,S,K)\n",
    "        #Almacenamos los V y la constante para una decision\n",
    "        Los_T, D_T = T_delta(prob,V_D_E,descuento,costo,revenues,G,K)\n",
    "        #Almacenamos los T_deltas_i y las decisiones para cada nivel de inventario\n",
    "        val_Op=np.around(Los_T,4)==np.around(V_D_E,4) #Verificamos si los T_delta_i son iguales a los V_i\n",
    "        if(sum(val_Op)==len(val_Op)):\n",
    "            break\n",
    "        else:\n",
    "            for i in range(len(val_Op)):\n",
    "                if (val_Op[i]!=True):\n",
    "                    decisions[i]=D_T[i].astype('int')\n",
    "    return(decisions)"
   ]
  },
  {
   "cell_type": "code",
   "execution_count": 101,
   "metadata": {},
   "outputs": [
    {
     "name": "stdout",
     "output_type": "stream",
     "text": [
      "      ---Matriz de Probabilidades---\n",
      "[[1.   0.   0.   0.   0.  ]\n",
      " [0.75 0.25 0.   0.   0.  ]\n",
      " [0.5  0.25 0.25 0.   0.  ]\n",
      " [0.25 0.25 0.25 0.25 0.  ]\n",
      " [0.   0.25 0.25 0.25 0.25]]\n",
      "\n",
      "\n",
      "--- Vector de beneficios esperados por inventario---\n",
      "[-1800.   175.  1425.  1950.  1750.]\n",
      "\n",
      "\n",
      "Comenzamos iteración 1\n",
      "Con las siguientes decisiones:\n",
      "[0 0 0 0 0]\n",
      "\n",
      "\n",
      "Con las decisiones resolvemos el sistema de ecuaciones y obtenemos los siguientes valores(V_D_E):\n",
      "[-9871.60493827 -7238.27160494 -4693.82716049 -2267.90123457\n",
      "     0.        ]\n",
      "\n",
      "\n",
      "Con los valores calculamos Los T_delta:\n",
      "[-2200. -1900. -1600. -1300.     0.]\n",
      "\n",
      "\n",
      "Lo que equivale a las siguientes decisiones:\n",
      "[4. 3. 2. 1. 0.]\n",
      "\n",
      "\n",
      "Igualamos los V_D_E con T_delta, y obtenemos el siguiente vector:\n",
      "[False False False False  True]\n",
      "\n",
      "\n",
      "\n",
      "\n",
      "________________________________________________________________________________\n",
      "\n",
      "\n",
      "Comenzamos iteración 2\n",
      "Con las siguientes decisiones:\n",
      "[4 3 2 1 0]\n",
      "\n",
      "\n",
      "Con las decisiones resolvemos el sistema de ecuaciones y obtenemos los siguientes valores(V_D_E):\n",
      "[-2200. -1900. -1600. -1300.     0.]\n",
      "\n",
      "\n",
      "Con los valores calculamos Los T_delta:\n",
      "[-2200. -1900. -1100.  -350.     0.]\n",
      "\n",
      "\n",
      "Lo que equivale a las siguientes decisiones:\n",
      "[4. 3. 0. 0. 0.]\n",
      "\n",
      "\n",
      "Igualamos los V_D_E con T_delta, y obtenemos el siguiente vector:\n",
      "[ True  True False False  True]\n",
      "\n",
      "\n",
      "\n",
      "\n",
      "________________________________________________________________________________\n",
      "\n",
      "\n",
      "Comenzamos iteración 3\n",
      "Con las siguientes decisiones:\n",
      "[4 3 0 0 0]\n",
      "\n",
      "\n",
      "Con las decisiones resolvemos el sistema de ecuaciones y obtenemos los siguientes valores(V_D_E):\n",
      "[-2200.  -1900.  -1337.5  -350.      0. ]\n",
      "\n",
      "\n",
      "Con los valores calculamos Los T_delta:\n",
      "[-2200.  -1900.  -1337.5  -350.      0. ]\n",
      "\n",
      "\n",
      "Lo que equivale a las siguientes decisiones:\n",
      "[4. 3. 0. 0. 0.]\n",
      "\n",
      "\n",
      "Igualamos los V_D_E con T_delta, y obtenemos el siguiente vector:\n",
      "[ True  True  True  True  True]\n",
      "\n",
      "\n",
      "Recursión--- 0.04011392593383789 Segundos ---\n"
     ]
    },
    {
     "data": {
      "text/plain": [
       "array([4, 3, 0, 0, 0])"
      ]
     },
     "execution_count": 101,
     "metadata": {},
     "output_type": "execute_result"
    }
   ],
   "source": [
    "D=np.zeros(S+1).astype('int')\n",
    "expectet_reward= reward_esperado(prob_uniforme,S,a,b,v,h,c)\n",
    "print(\"      ---Matriz de Probabilidades---\")\n",
    "print(prob)\n",
    "print(\"\\n\")\n",
    "print(\"--- Vector de beneficios esperados por inventario---\")\n",
    "print(expectet_reward)\n",
    "start_time = time.time()\n",
    "Optimo_recursion=Search_OP(D,prob,tasa,c,expectet_reward,S,k,1)\n",
    "segs_recur=time.time() - start_time\n",
    "print(\"Recursión--- %s Segundos ---\" % (segs_recur))\n",
    "Optimo_recursion"
   ]
  },
  {
   "cell_type": "code",
   "execution_count": null,
   "metadata": {},
   "outputs": [],
   "source": []
  },
  {
   "cell_type": "code",
   "execution_count": null,
   "metadata": {},
   "outputs": [],
   "source": []
  },
  {
   "cell_type": "code",
   "execution_count": null,
   "metadata": {},
   "outputs": [],
   "source": []
  }
 ],
 "metadata": {
  "kernelspec": {
   "display_name": "Python 3",
   "language": "python",
   "name": "python3"
  },
  "language_info": {
   "codemirror_mode": {
    "name": "ipython",
    "version": 3
   },
   "file_extension": ".py",
   "mimetype": "text/x-python",
   "name": "python",
   "nbconvert_exporter": "python",
   "pygments_lexer": "ipython3",
   "version": "3.6.8"
  }
 },
 "nbformat": 4,
 "nbformat_minor": 2
}
